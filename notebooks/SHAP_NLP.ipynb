{
  "nbformat": 4,
  "nbformat_minor": 0,
  "metadata": {
    "colab": {
      "name": "SHAP_NLP.ipynb",
      "provenance": [],
      "collapsed_sections": [],
      "authorship_tag": "ABX9TyMGwlyZaOFrmEEN0UhGgxvV",
      "include_colab_link": true
    },
    "kernelspec": {
      "name": "python3",
      "display_name": "Python 3"
    },
    "accelerator": "GPU",
    "widgets": {
      "application/vnd.jupyter.widget-state+json": {
        "151f4fa37efa4cdca00c8d5689842f2a": {
          "model_module": "@jupyter-widgets/controls",
          "model_name": "HBoxModel",
          "state": {
            "_view_name": "HBoxView",
            "_dom_classes": [],
            "_model_name": "HBoxModel",
            "_view_module": "@jupyter-widgets/controls",
            "_model_module_version": "1.5.0",
            "_view_count": null,
            "_view_module_version": "1.5.0",
            "box_style": "",
            "layout": "IPY_MODEL_27c69b0806704404a41d419c39717346",
            "_model_module": "@jupyter-widgets/controls",
            "children": [
              "IPY_MODEL_e299bd73ca6149c7b191442c35e6f63d",
              "IPY_MODEL_531a0412266841bda6ea641112ffd025"
            ]
          }
        },
        "27c69b0806704404a41d419c39717346": {
          "model_module": "@jupyter-widgets/base",
          "model_name": "LayoutModel",
          "state": {
            "_view_name": "LayoutView",
            "grid_template_rows": null,
            "right": null,
            "justify_content": null,
            "_view_module": "@jupyter-widgets/base",
            "overflow": null,
            "_model_module_version": "1.2.0",
            "_view_count": null,
            "flex_flow": null,
            "width": null,
            "min_width": null,
            "border": null,
            "align_items": null,
            "bottom": null,
            "_model_module": "@jupyter-widgets/base",
            "top": null,
            "grid_column": null,
            "overflow_y": null,
            "overflow_x": null,
            "grid_auto_flow": null,
            "grid_area": null,
            "grid_template_columns": null,
            "flex": null,
            "_model_name": "LayoutModel",
            "justify_items": null,
            "grid_row": null,
            "max_height": null,
            "align_content": null,
            "visibility": null,
            "align_self": null,
            "height": null,
            "min_height": null,
            "padding": null,
            "grid_auto_rows": null,
            "grid_gap": null,
            "max_width": null,
            "order": null,
            "_view_module_version": "1.2.0",
            "grid_template_areas": null,
            "object_position": null,
            "object_fit": null,
            "grid_auto_columns": null,
            "margin": null,
            "display": null,
            "left": null
          }
        },
        "e299bd73ca6149c7b191442c35e6f63d": {
          "model_module": "@jupyter-widgets/controls",
          "model_name": "FloatProgressModel",
          "state": {
            "_view_name": "ProgressView",
            "style": "IPY_MODEL_38e7108aaefc4302bce3530c46756d9f",
            "_dom_classes": [],
            "description": "Downloading: 100%",
            "_model_name": "FloatProgressModel",
            "bar_style": "success",
            "max": 213450,
            "_view_module": "@jupyter-widgets/controls",
            "_model_module_version": "1.5.0",
            "value": 213450,
            "_view_count": null,
            "_view_module_version": "1.5.0",
            "orientation": "horizontal",
            "min": 0,
            "description_tooltip": null,
            "_model_module": "@jupyter-widgets/controls",
            "layout": "IPY_MODEL_08f5660f2a62440596f9dd4f68bf989a"
          }
        },
        "531a0412266841bda6ea641112ffd025": {
          "model_module": "@jupyter-widgets/controls",
          "model_name": "HTMLModel",
          "state": {
            "_view_name": "HTMLView",
            "style": "IPY_MODEL_26ad7aeb2ca44ee4b4fd8778dad126e2",
            "_dom_classes": [],
            "description": "",
            "_model_name": "HTMLModel",
            "placeholder": "​",
            "_view_module": "@jupyter-widgets/controls",
            "_model_module_version": "1.5.0",
            "value": " 213k/213k [00:00&lt;00:00, 588kB/s]",
            "_view_count": null,
            "_view_module_version": "1.5.0",
            "description_tooltip": null,
            "_model_module": "@jupyter-widgets/controls",
            "layout": "IPY_MODEL_0a2f7684a6d14256988ebb8ec8bfde18"
          }
        },
        "38e7108aaefc4302bce3530c46756d9f": {
          "model_module": "@jupyter-widgets/controls",
          "model_name": "ProgressStyleModel",
          "state": {
            "_view_name": "StyleView",
            "_model_name": "ProgressStyleModel",
            "description_width": "initial",
            "_view_module": "@jupyter-widgets/base",
            "_model_module_version": "1.5.0",
            "_view_count": null,
            "_view_module_version": "1.2.0",
            "bar_color": null,
            "_model_module": "@jupyter-widgets/controls"
          }
        },
        "08f5660f2a62440596f9dd4f68bf989a": {
          "model_module": "@jupyter-widgets/base",
          "model_name": "LayoutModel",
          "state": {
            "_view_name": "LayoutView",
            "grid_template_rows": null,
            "right": null,
            "justify_content": null,
            "_view_module": "@jupyter-widgets/base",
            "overflow": null,
            "_model_module_version": "1.2.0",
            "_view_count": null,
            "flex_flow": null,
            "width": null,
            "min_width": null,
            "border": null,
            "align_items": null,
            "bottom": null,
            "_model_module": "@jupyter-widgets/base",
            "top": null,
            "grid_column": null,
            "overflow_y": null,
            "overflow_x": null,
            "grid_auto_flow": null,
            "grid_area": null,
            "grid_template_columns": null,
            "flex": null,
            "_model_name": "LayoutModel",
            "justify_items": null,
            "grid_row": null,
            "max_height": null,
            "align_content": null,
            "visibility": null,
            "align_self": null,
            "height": null,
            "min_height": null,
            "padding": null,
            "grid_auto_rows": null,
            "grid_gap": null,
            "max_width": null,
            "order": null,
            "_view_module_version": "1.2.0",
            "grid_template_areas": null,
            "object_position": null,
            "object_fit": null,
            "grid_auto_columns": null,
            "margin": null,
            "display": null,
            "left": null
          }
        },
        "26ad7aeb2ca44ee4b4fd8778dad126e2": {
          "model_module": "@jupyter-widgets/controls",
          "model_name": "DescriptionStyleModel",
          "state": {
            "_view_name": "StyleView",
            "_model_name": "DescriptionStyleModel",
            "description_width": "",
            "_view_module": "@jupyter-widgets/base",
            "_model_module_version": "1.5.0",
            "_view_count": null,
            "_view_module_version": "1.2.0",
            "_model_module": "@jupyter-widgets/controls"
          }
        },
        "0a2f7684a6d14256988ebb8ec8bfde18": {
          "model_module": "@jupyter-widgets/base",
          "model_name": "LayoutModel",
          "state": {
            "_view_name": "LayoutView",
            "grid_template_rows": null,
            "right": null,
            "justify_content": null,
            "_view_module": "@jupyter-widgets/base",
            "overflow": null,
            "_model_module_version": "1.2.0",
            "_view_count": null,
            "flex_flow": null,
            "width": null,
            "min_width": null,
            "border": null,
            "align_items": null,
            "bottom": null,
            "_model_module": "@jupyter-widgets/base",
            "top": null,
            "grid_column": null,
            "overflow_y": null,
            "overflow_x": null,
            "grid_auto_flow": null,
            "grid_area": null,
            "grid_template_columns": null,
            "flex": null,
            "_model_name": "LayoutModel",
            "justify_items": null,
            "grid_row": null,
            "max_height": null,
            "align_content": null,
            "visibility": null,
            "align_self": null,
            "height": null,
            "min_height": null,
            "padding": null,
            "grid_auto_rows": null,
            "grid_gap": null,
            "max_width": null,
            "order": null,
            "_view_module_version": "1.2.0",
            "grid_template_areas": null,
            "object_position": null,
            "object_fit": null,
            "grid_auto_columns": null,
            "margin": null,
            "display": null,
            "left": null
          }
        },
        "4a66287dc70e441b8f9b6a9cc016c620": {
          "model_module": "@jupyter-widgets/controls",
          "model_name": "HBoxModel",
          "state": {
            "_view_name": "HBoxView",
            "_dom_classes": [],
            "_model_name": "HBoxModel",
            "_view_module": "@jupyter-widgets/controls",
            "_model_module_version": "1.5.0",
            "_view_count": null,
            "_view_module_version": "1.5.0",
            "box_style": "",
            "layout": "IPY_MODEL_007ff63f7c20481588a7bc2ba82ad9c1",
            "_model_module": "@jupyter-widgets/controls",
            "children": [
              "IPY_MODEL_285bc1ac372d49db9a72708abd26d2e9",
              "IPY_MODEL_7fefed915aee4f5da96b5c2a2e1f40fe"
            ]
          }
        },
        "007ff63f7c20481588a7bc2ba82ad9c1": {
          "model_module": "@jupyter-widgets/base",
          "model_name": "LayoutModel",
          "state": {
            "_view_name": "LayoutView",
            "grid_template_rows": null,
            "right": null,
            "justify_content": null,
            "_view_module": "@jupyter-widgets/base",
            "overflow": null,
            "_model_module_version": "1.2.0",
            "_view_count": null,
            "flex_flow": null,
            "width": null,
            "min_width": null,
            "border": null,
            "align_items": null,
            "bottom": null,
            "_model_module": "@jupyter-widgets/base",
            "top": null,
            "grid_column": null,
            "overflow_y": null,
            "overflow_x": null,
            "grid_auto_flow": null,
            "grid_area": null,
            "grid_template_columns": null,
            "flex": null,
            "_model_name": "LayoutModel",
            "justify_items": null,
            "grid_row": null,
            "max_height": null,
            "align_content": null,
            "visibility": null,
            "align_self": null,
            "height": null,
            "min_height": null,
            "padding": null,
            "grid_auto_rows": null,
            "grid_gap": null,
            "max_width": null,
            "order": null,
            "_view_module_version": "1.2.0",
            "grid_template_areas": null,
            "object_position": null,
            "object_fit": null,
            "grid_auto_columns": null,
            "margin": null,
            "display": null,
            "left": null
          }
        },
        "285bc1ac372d49db9a72708abd26d2e9": {
          "model_module": "@jupyter-widgets/controls",
          "model_name": "FloatProgressModel",
          "state": {
            "_view_name": "ProgressView",
            "style": "IPY_MODEL_ca5929a54b284cbfa7c29d930a7d0a70",
            "_dom_classes": [],
            "description": "Downloading: 100%",
            "_model_name": "FloatProgressModel",
            "bar_style": "success",
            "max": 433,
            "_view_module": "@jupyter-widgets/controls",
            "_model_module_version": "1.5.0",
            "value": 433,
            "_view_count": null,
            "_view_module_version": "1.5.0",
            "orientation": "horizontal",
            "min": 0,
            "description_tooltip": null,
            "_model_module": "@jupyter-widgets/controls",
            "layout": "IPY_MODEL_6e4d9d8fb9084bcdbd0929de5db26eef"
          }
        },
        "7fefed915aee4f5da96b5c2a2e1f40fe": {
          "model_module": "@jupyter-widgets/controls",
          "model_name": "HTMLModel",
          "state": {
            "_view_name": "HTMLView",
            "style": "IPY_MODEL_3f2be223116040f2a94420f0dcac9c32",
            "_dom_classes": [],
            "description": "",
            "_model_name": "HTMLModel",
            "placeholder": "​",
            "_view_module": "@jupyter-widgets/controls",
            "_model_module_version": "1.5.0",
            "value": " 433/433 [00:00&lt;00:00, 1.12kB/s]",
            "_view_count": null,
            "_view_module_version": "1.5.0",
            "description_tooltip": null,
            "_model_module": "@jupyter-widgets/controls",
            "layout": "IPY_MODEL_4d89149a854d4849af7b78bb44b3c125"
          }
        },
        "ca5929a54b284cbfa7c29d930a7d0a70": {
          "model_module": "@jupyter-widgets/controls",
          "model_name": "ProgressStyleModel",
          "state": {
            "_view_name": "StyleView",
            "_model_name": "ProgressStyleModel",
            "description_width": "initial",
            "_view_module": "@jupyter-widgets/base",
            "_model_module_version": "1.5.0",
            "_view_count": null,
            "_view_module_version": "1.2.0",
            "bar_color": null,
            "_model_module": "@jupyter-widgets/controls"
          }
        },
        "6e4d9d8fb9084bcdbd0929de5db26eef": {
          "model_module": "@jupyter-widgets/base",
          "model_name": "LayoutModel",
          "state": {
            "_view_name": "LayoutView",
            "grid_template_rows": null,
            "right": null,
            "justify_content": null,
            "_view_module": "@jupyter-widgets/base",
            "overflow": null,
            "_model_module_version": "1.2.0",
            "_view_count": null,
            "flex_flow": null,
            "width": null,
            "min_width": null,
            "border": null,
            "align_items": null,
            "bottom": null,
            "_model_module": "@jupyter-widgets/base",
            "top": null,
            "grid_column": null,
            "overflow_y": null,
            "overflow_x": null,
            "grid_auto_flow": null,
            "grid_area": null,
            "grid_template_columns": null,
            "flex": null,
            "_model_name": "LayoutModel",
            "justify_items": null,
            "grid_row": null,
            "max_height": null,
            "align_content": null,
            "visibility": null,
            "align_self": null,
            "height": null,
            "min_height": null,
            "padding": null,
            "grid_auto_rows": null,
            "grid_gap": null,
            "max_width": null,
            "order": null,
            "_view_module_version": "1.2.0",
            "grid_template_areas": null,
            "object_position": null,
            "object_fit": null,
            "grid_auto_columns": null,
            "margin": null,
            "display": null,
            "left": null
          }
        },
        "3f2be223116040f2a94420f0dcac9c32": {
          "model_module": "@jupyter-widgets/controls",
          "model_name": "DescriptionStyleModel",
          "state": {
            "_view_name": "StyleView",
            "_model_name": "DescriptionStyleModel",
            "description_width": "",
            "_view_module": "@jupyter-widgets/base",
            "_model_module_version": "1.5.0",
            "_view_count": null,
            "_view_module_version": "1.2.0",
            "_model_module": "@jupyter-widgets/controls"
          }
        },
        "4d89149a854d4849af7b78bb44b3c125": {
          "model_module": "@jupyter-widgets/base",
          "model_name": "LayoutModel",
          "state": {
            "_view_name": "LayoutView",
            "grid_template_rows": null,
            "right": null,
            "justify_content": null,
            "_view_module": "@jupyter-widgets/base",
            "overflow": null,
            "_model_module_version": "1.2.0",
            "_view_count": null,
            "flex_flow": null,
            "width": null,
            "min_width": null,
            "border": null,
            "align_items": null,
            "bottom": null,
            "_model_module": "@jupyter-widgets/base",
            "top": null,
            "grid_column": null,
            "overflow_y": null,
            "overflow_x": null,
            "grid_auto_flow": null,
            "grid_area": null,
            "grid_template_columns": null,
            "flex": null,
            "_model_name": "LayoutModel",
            "justify_items": null,
            "grid_row": null,
            "max_height": null,
            "align_content": null,
            "visibility": null,
            "align_self": null,
            "height": null,
            "min_height": null,
            "padding": null,
            "grid_auto_rows": null,
            "grid_gap": null,
            "max_width": null,
            "order": null,
            "_view_module_version": "1.2.0",
            "grid_template_areas": null,
            "object_position": null,
            "object_fit": null,
            "grid_auto_columns": null,
            "margin": null,
            "display": null,
            "left": null
          }
        },
        "e9c2d278acf04921b1f4489f0abfeabd": {
          "model_module": "@jupyter-widgets/controls",
          "model_name": "HBoxModel",
          "state": {
            "_view_name": "HBoxView",
            "_dom_classes": [],
            "_model_name": "HBoxModel",
            "_view_module": "@jupyter-widgets/controls",
            "_model_module_version": "1.5.0",
            "_view_count": null,
            "_view_module_version": "1.5.0",
            "box_style": "",
            "layout": "IPY_MODEL_20f69b80e9704a1d88b5d0612ed26a20",
            "_model_module": "@jupyter-widgets/controls",
            "children": [
              "IPY_MODEL_5be306b18e324c848175a222b0b1d544",
              "IPY_MODEL_bc9c0d58c4bf4964ad7fe2de3b55cc50"
            ]
          }
        },
        "20f69b80e9704a1d88b5d0612ed26a20": {
          "model_module": "@jupyter-widgets/base",
          "model_name": "LayoutModel",
          "state": {
            "_view_name": "LayoutView",
            "grid_template_rows": null,
            "right": null,
            "justify_content": null,
            "_view_module": "@jupyter-widgets/base",
            "overflow": null,
            "_model_module_version": "1.2.0",
            "_view_count": null,
            "flex_flow": null,
            "width": null,
            "min_width": null,
            "border": null,
            "align_items": null,
            "bottom": null,
            "_model_module": "@jupyter-widgets/base",
            "top": null,
            "grid_column": null,
            "overflow_y": null,
            "overflow_x": null,
            "grid_auto_flow": null,
            "grid_area": null,
            "grid_template_columns": null,
            "flex": null,
            "_model_name": "LayoutModel",
            "justify_items": null,
            "grid_row": null,
            "max_height": null,
            "align_content": null,
            "visibility": null,
            "align_self": null,
            "height": null,
            "min_height": null,
            "padding": null,
            "grid_auto_rows": null,
            "grid_gap": null,
            "max_width": null,
            "order": null,
            "_view_module_version": "1.2.0",
            "grid_template_areas": null,
            "object_position": null,
            "object_fit": null,
            "grid_auto_columns": null,
            "margin": null,
            "display": null,
            "left": null
          }
        },
        "5be306b18e324c848175a222b0b1d544": {
          "model_module": "@jupyter-widgets/controls",
          "model_name": "FloatProgressModel",
          "state": {
            "_view_name": "ProgressView",
            "style": "IPY_MODEL_69fc516c8d5b43c9b22128b1f41d3554",
            "_dom_classes": [],
            "description": "Downloading: 100%",
            "_model_name": "FloatProgressModel",
            "bar_style": "success",
            "max": 435779157,
            "_view_module": "@jupyter-widgets/controls",
            "_model_module_version": "1.5.0",
            "value": 435779157,
            "_view_count": null,
            "_view_module_version": "1.5.0",
            "orientation": "horizontal",
            "min": 0,
            "description_tooltip": null,
            "_model_module": "@jupyter-widgets/controls",
            "layout": "IPY_MODEL_440756d7ba414c4b912598559385e64b"
          }
        },
        "bc9c0d58c4bf4964ad7fe2de3b55cc50": {
          "model_module": "@jupyter-widgets/controls",
          "model_name": "HTMLModel",
          "state": {
            "_view_name": "HTMLView",
            "style": "IPY_MODEL_5689e55e9a1f4d999f9606dc94299d61",
            "_dom_classes": [],
            "description": "",
            "_model_name": "HTMLModel",
            "placeholder": "​",
            "_view_module": "@jupyter-widgets/controls",
            "_model_module_version": "1.5.0",
            "value": " 436M/436M [00:17&lt;00:00, 24.3MB/s]",
            "_view_count": null,
            "_view_module_version": "1.5.0",
            "description_tooltip": null,
            "_model_module": "@jupyter-widgets/controls",
            "layout": "IPY_MODEL_5ad9f8b9fcdf4b0ba6934ec2e099d771"
          }
        },
        "69fc516c8d5b43c9b22128b1f41d3554": {
          "model_module": "@jupyter-widgets/controls",
          "model_name": "ProgressStyleModel",
          "state": {
            "_view_name": "StyleView",
            "_model_name": "ProgressStyleModel",
            "description_width": "initial",
            "_view_module": "@jupyter-widgets/base",
            "_model_module_version": "1.5.0",
            "_view_count": null,
            "_view_module_version": "1.2.0",
            "bar_color": null,
            "_model_module": "@jupyter-widgets/controls"
          }
        },
        "440756d7ba414c4b912598559385e64b": {
          "model_module": "@jupyter-widgets/base",
          "model_name": "LayoutModel",
          "state": {
            "_view_name": "LayoutView",
            "grid_template_rows": null,
            "right": null,
            "justify_content": null,
            "_view_module": "@jupyter-widgets/base",
            "overflow": null,
            "_model_module_version": "1.2.0",
            "_view_count": null,
            "flex_flow": null,
            "width": null,
            "min_width": null,
            "border": null,
            "align_items": null,
            "bottom": null,
            "_model_module": "@jupyter-widgets/base",
            "top": null,
            "grid_column": null,
            "overflow_y": null,
            "overflow_x": null,
            "grid_auto_flow": null,
            "grid_area": null,
            "grid_template_columns": null,
            "flex": null,
            "_model_name": "LayoutModel",
            "justify_items": null,
            "grid_row": null,
            "max_height": null,
            "align_content": null,
            "visibility": null,
            "align_self": null,
            "height": null,
            "min_height": null,
            "padding": null,
            "grid_auto_rows": null,
            "grid_gap": null,
            "max_width": null,
            "order": null,
            "_view_module_version": "1.2.0",
            "grid_template_areas": null,
            "object_position": null,
            "object_fit": null,
            "grid_auto_columns": null,
            "margin": null,
            "display": null,
            "left": null
          }
        },
        "5689e55e9a1f4d999f9606dc94299d61": {
          "model_module": "@jupyter-widgets/controls",
          "model_name": "DescriptionStyleModel",
          "state": {
            "_view_name": "StyleView",
            "_model_name": "DescriptionStyleModel",
            "description_width": "",
            "_view_module": "@jupyter-widgets/base",
            "_model_module_version": "1.5.0",
            "_view_count": null,
            "_view_module_version": "1.2.0",
            "_model_module": "@jupyter-widgets/controls"
          }
        },
        "5ad9f8b9fcdf4b0ba6934ec2e099d771": {
          "model_module": "@jupyter-widgets/base",
          "model_name": "LayoutModel",
          "state": {
            "_view_name": "LayoutView",
            "grid_template_rows": null,
            "right": null,
            "justify_content": null,
            "_view_module": "@jupyter-widgets/base",
            "overflow": null,
            "_model_module_version": "1.2.0",
            "_view_count": null,
            "flex_flow": null,
            "width": null,
            "min_width": null,
            "border": null,
            "align_items": null,
            "bottom": null,
            "_model_module": "@jupyter-widgets/base",
            "top": null,
            "grid_column": null,
            "overflow_y": null,
            "overflow_x": null,
            "grid_auto_flow": null,
            "grid_area": null,
            "grid_template_columns": null,
            "flex": null,
            "_model_name": "LayoutModel",
            "justify_items": null,
            "grid_row": null,
            "max_height": null,
            "align_content": null,
            "visibility": null,
            "align_self": null,
            "height": null,
            "min_height": null,
            "padding": null,
            "grid_auto_rows": null,
            "grid_gap": null,
            "max_width": null,
            "order": null,
            "_view_module_version": "1.2.0",
            "grid_template_areas": null,
            "object_position": null,
            "object_fit": null,
            "grid_auto_columns": null,
            "margin": null,
            "display": null,
            "left": null
          }
        },
        "9c92bb533c284e7c8f863fa71ef8b43c": {
          "model_module": "@jupyter-widgets/controls",
          "model_name": "HBoxModel",
          "state": {
            "_view_name": "HBoxView",
            "_dom_classes": [],
            "_model_name": "HBoxModel",
            "_view_module": "@jupyter-widgets/controls",
            "_model_module_version": "1.5.0",
            "_view_count": null,
            "_view_module_version": "1.5.0",
            "box_style": "",
            "layout": "IPY_MODEL_b19fa6ed31ab4eee928e4bbbaf93cd26",
            "_model_module": "@jupyter-widgets/controls",
            "children": [
              "IPY_MODEL_2d6c3cc8e9814e14aa87ab5ea5fad605",
              "IPY_MODEL_40fbcc5d4e0047d186f4d9cf59b2ab78"
            ]
          }
        },
        "b19fa6ed31ab4eee928e4bbbaf93cd26": {
          "model_module": "@jupyter-widgets/base",
          "model_name": "LayoutModel",
          "state": {
            "_view_name": "LayoutView",
            "grid_template_rows": null,
            "right": null,
            "justify_content": null,
            "_view_module": "@jupyter-widgets/base",
            "overflow": null,
            "_model_module_version": "1.2.0",
            "_view_count": null,
            "flex_flow": null,
            "width": null,
            "min_width": null,
            "border": null,
            "align_items": null,
            "bottom": null,
            "_model_module": "@jupyter-widgets/base",
            "top": null,
            "grid_column": null,
            "overflow_y": null,
            "overflow_x": null,
            "grid_auto_flow": null,
            "grid_area": null,
            "grid_template_columns": null,
            "flex": null,
            "_model_name": "LayoutModel",
            "justify_items": null,
            "grid_row": null,
            "max_height": null,
            "align_content": null,
            "visibility": null,
            "align_self": null,
            "height": null,
            "min_height": null,
            "padding": null,
            "grid_auto_rows": null,
            "grid_gap": null,
            "max_width": null,
            "order": null,
            "_view_module_version": "1.2.0",
            "grid_template_areas": null,
            "object_position": null,
            "object_fit": null,
            "grid_auto_columns": null,
            "margin": null,
            "display": null,
            "left": null
          }
        },
        "2d6c3cc8e9814e14aa87ab5ea5fad605": {
          "model_module": "@jupyter-widgets/controls",
          "model_name": "FloatProgressModel",
          "state": {
            "_view_name": "ProgressView",
            "style": "IPY_MODEL_df41d0166e2d471c9332a1c7e3e9caa1",
            "_dom_classes": [],
            "description": "Downloading: ",
            "_model_name": "FloatProgressModel",
            "bar_style": "success",
            "max": 1636,
            "_view_module": "@jupyter-widgets/controls",
            "_model_module_version": "1.5.0",
            "value": 1636,
            "_view_count": null,
            "_view_module_version": "1.5.0",
            "orientation": "horizontal",
            "min": 0,
            "description_tooltip": null,
            "_model_module": "@jupyter-widgets/controls",
            "layout": "IPY_MODEL_b2a06cd18cfd4ae9966908860eac5855"
          }
        },
        "40fbcc5d4e0047d186f4d9cf59b2ab78": {
          "model_module": "@jupyter-widgets/controls",
          "model_name": "HTMLModel",
          "state": {
            "_view_name": "HTMLView",
            "style": "IPY_MODEL_8dc7e3798de04e81be21249bb0b988e9",
            "_dom_classes": [],
            "description": "",
            "_model_name": "HTMLModel",
            "placeholder": "​",
            "_view_module": "@jupyter-widgets/controls",
            "_model_module_version": "1.5.0",
            "value": " 3.55k/? [00:00&lt;00:00, 12.4kB/s]",
            "_view_count": null,
            "_view_module_version": "1.5.0",
            "description_tooltip": null,
            "_model_module": "@jupyter-widgets/controls",
            "layout": "IPY_MODEL_204f631cd2d84f8a98e7568b4cdbdd32"
          }
        },
        "df41d0166e2d471c9332a1c7e3e9caa1": {
          "model_module": "@jupyter-widgets/controls",
          "model_name": "ProgressStyleModel",
          "state": {
            "_view_name": "StyleView",
            "_model_name": "ProgressStyleModel",
            "description_width": "initial",
            "_view_module": "@jupyter-widgets/base",
            "_model_module_version": "1.5.0",
            "_view_count": null,
            "_view_module_version": "1.2.0",
            "bar_color": null,
            "_model_module": "@jupyter-widgets/controls"
          }
        },
        "b2a06cd18cfd4ae9966908860eac5855": {
          "model_module": "@jupyter-widgets/base",
          "model_name": "LayoutModel",
          "state": {
            "_view_name": "LayoutView",
            "grid_template_rows": null,
            "right": null,
            "justify_content": null,
            "_view_module": "@jupyter-widgets/base",
            "overflow": null,
            "_model_module_version": "1.2.0",
            "_view_count": null,
            "flex_flow": null,
            "width": null,
            "min_width": null,
            "border": null,
            "align_items": null,
            "bottom": null,
            "_model_module": "@jupyter-widgets/base",
            "top": null,
            "grid_column": null,
            "overflow_y": null,
            "overflow_x": null,
            "grid_auto_flow": null,
            "grid_area": null,
            "grid_template_columns": null,
            "flex": null,
            "_model_name": "LayoutModel",
            "justify_items": null,
            "grid_row": null,
            "max_height": null,
            "align_content": null,
            "visibility": null,
            "align_self": null,
            "height": null,
            "min_height": null,
            "padding": null,
            "grid_auto_rows": null,
            "grid_gap": null,
            "max_width": null,
            "order": null,
            "_view_module_version": "1.2.0",
            "grid_template_areas": null,
            "object_position": null,
            "object_fit": null,
            "grid_auto_columns": null,
            "margin": null,
            "display": null,
            "left": null
          }
        },
        "8dc7e3798de04e81be21249bb0b988e9": {
          "model_module": "@jupyter-widgets/controls",
          "model_name": "DescriptionStyleModel",
          "state": {
            "_view_name": "StyleView",
            "_model_name": "DescriptionStyleModel",
            "description_width": "",
            "_view_module": "@jupyter-widgets/base",
            "_model_module_version": "1.5.0",
            "_view_count": null,
            "_view_module_version": "1.2.0",
            "_model_module": "@jupyter-widgets/controls"
          }
        },
        "204f631cd2d84f8a98e7568b4cdbdd32": {
          "model_module": "@jupyter-widgets/base",
          "model_name": "LayoutModel",
          "state": {
            "_view_name": "LayoutView",
            "grid_template_rows": null,
            "right": null,
            "justify_content": null,
            "_view_module": "@jupyter-widgets/base",
            "overflow": null,
            "_model_module_version": "1.2.0",
            "_view_count": null,
            "flex_flow": null,
            "width": null,
            "min_width": null,
            "border": null,
            "align_items": null,
            "bottom": null,
            "_model_module": "@jupyter-widgets/base",
            "top": null,
            "grid_column": null,
            "overflow_y": null,
            "overflow_x": null,
            "grid_auto_flow": null,
            "grid_area": null,
            "grid_template_columns": null,
            "flex": null,
            "_model_name": "LayoutModel",
            "justify_items": null,
            "grid_row": null,
            "max_height": null,
            "align_content": null,
            "visibility": null,
            "align_self": null,
            "height": null,
            "min_height": null,
            "padding": null,
            "grid_auto_rows": null,
            "grid_gap": null,
            "max_width": null,
            "order": null,
            "_view_module_version": "1.2.0",
            "grid_template_areas": null,
            "object_position": null,
            "object_fit": null,
            "grid_auto_columns": null,
            "margin": null,
            "display": null,
            "left": null
          }
        },
        "ee5a08ec15a04b60a428df35cd9084cc": {
          "model_module": "@jupyter-widgets/controls",
          "model_name": "HBoxModel",
          "state": {
            "_view_name": "HBoxView",
            "_dom_classes": [],
            "_model_name": "HBoxModel",
            "_view_module": "@jupyter-widgets/controls",
            "_model_module_version": "1.5.0",
            "_view_count": null,
            "_view_module_version": "1.5.0",
            "box_style": "",
            "layout": "IPY_MODEL_546e759cd7e24196a2ca8a51e8435594",
            "_model_module": "@jupyter-widgets/controls",
            "children": [
              "IPY_MODEL_0cd357a4e053477c8cad5701c73070d9",
              "IPY_MODEL_6295f23ef1744b09a6fe83b88b5b864d"
            ]
          }
        },
        "546e759cd7e24196a2ca8a51e8435594": {
          "model_module": "@jupyter-widgets/base",
          "model_name": "LayoutModel",
          "state": {
            "_view_name": "LayoutView",
            "grid_template_rows": null,
            "right": null,
            "justify_content": null,
            "_view_module": "@jupyter-widgets/base",
            "overflow": null,
            "_model_module_version": "1.2.0",
            "_view_count": null,
            "flex_flow": null,
            "width": null,
            "min_width": null,
            "border": null,
            "align_items": null,
            "bottom": null,
            "_model_module": "@jupyter-widgets/base",
            "top": null,
            "grid_column": null,
            "overflow_y": null,
            "overflow_x": null,
            "grid_auto_flow": null,
            "grid_area": null,
            "grid_template_columns": null,
            "flex": null,
            "_model_name": "LayoutModel",
            "justify_items": null,
            "grid_row": null,
            "max_height": null,
            "align_content": null,
            "visibility": null,
            "align_self": null,
            "height": null,
            "min_height": null,
            "padding": null,
            "grid_auto_rows": null,
            "grid_gap": null,
            "max_width": null,
            "order": null,
            "_view_module_version": "1.2.0",
            "grid_template_areas": null,
            "object_position": null,
            "object_fit": null,
            "grid_auto_columns": null,
            "margin": null,
            "display": null,
            "left": null
          }
        },
        "0cd357a4e053477c8cad5701c73070d9": {
          "model_module": "@jupyter-widgets/controls",
          "model_name": "FloatProgressModel",
          "state": {
            "_view_name": "ProgressView",
            "style": "IPY_MODEL_3a3f2d98d2da472e9468e3241045923d",
            "_dom_classes": [],
            "description": "Downloading: ",
            "_model_name": "FloatProgressModel",
            "bar_style": "success",
            "max": 1649,
            "_view_module": "@jupyter-widgets/controls",
            "_model_module_version": "1.5.0",
            "value": 1649,
            "_view_count": null,
            "_view_module_version": "1.5.0",
            "orientation": "horizontal",
            "min": 0,
            "description_tooltip": null,
            "_model_module": "@jupyter-widgets/controls",
            "layout": "IPY_MODEL_fb32886255c148e08335ab4152f110ec"
          }
        },
        "6295f23ef1744b09a6fe83b88b5b864d": {
          "model_module": "@jupyter-widgets/controls",
          "model_name": "HTMLModel",
          "state": {
            "_view_name": "HTMLView",
            "style": "IPY_MODEL_c2d2af160c644c9897238a517347fa30",
            "_dom_classes": [],
            "description": "",
            "_model_name": "HTMLModel",
            "placeholder": "​",
            "_view_module": "@jupyter-widgets/controls",
            "_model_module_version": "1.5.0",
            "value": " 5.92k/? [00:05&lt;00:00, 1.04kB/s]",
            "_view_count": null,
            "_view_module_version": "1.5.0",
            "description_tooltip": null,
            "_model_module": "@jupyter-widgets/controls",
            "layout": "IPY_MODEL_6eca65996eb14e59890135923a21f305"
          }
        },
        "3a3f2d98d2da472e9468e3241045923d": {
          "model_module": "@jupyter-widgets/controls",
          "model_name": "ProgressStyleModel",
          "state": {
            "_view_name": "StyleView",
            "_model_name": "ProgressStyleModel",
            "description_width": "initial",
            "_view_module": "@jupyter-widgets/base",
            "_model_module_version": "1.5.0",
            "_view_count": null,
            "_view_module_version": "1.2.0",
            "bar_color": null,
            "_model_module": "@jupyter-widgets/controls"
          }
        },
        "fb32886255c148e08335ab4152f110ec": {
          "model_module": "@jupyter-widgets/base",
          "model_name": "LayoutModel",
          "state": {
            "_view_name": "LayoutView",
            "grid_template_rows": null,
            "right": null,
            "justify_content": null,
            "_view_module": "@jupyter-widgets/base",
            "overflow": null,
            "_model_module_version": "1.2.0",
            "_view_count": null,
            "flex_flow": null,
            "width": null,
            "min_width": null,
            "border": null,
            "align_items": null,
            "bottom": null,
            "_model_module": "@jupyter-widgets/base",
            "top": null,
            "grid_column": null,
            "overflow_y": null,
            "overflow_x": null,
            "grid_auto_flow": null,
            "grid_area": null,
            "grid_template_columns": null,
            "flex": null,
            "_model_name": "LayoutModel",
            "justify_items": null,
            "grid_row": null,
            "max_height": null,
            "align_content": null,
            "visibility": null,
            "align_self": null,
            "height": null,
            "min_height": null,
            "padding": null,
            "grid_auto_rows": null,
            "grid_gap": null,
            "max_width": null,
            "order": null,
            "_view_module_version": "1.2.0",
            "grid_template_areas": null,
            "object_position": null,
            "object_fit": null,
            "grid_auto_columns": null,
            "margin": null,
            "display": null,
            "left": null
          }
        },
        "c2d2af160c644c9897238a517347fa30": {
          "model_module": "@jupyter-widgets/controls",
          "model_name": "DescriptionStyleModel",
          "state": {
            "_view_name": "StyleView",
            "_model_name": "DescriptionStyleModel",
            "description_width": "",
            "_view_module": "@jupyter-widgets/base",
            "_model_module_version": "1.5.0",
            "_view_count": null,
            "_view_module_version": "1.2.0",
            "_model_module": "@jupyter-widgets/controls"
          }
        },
        "6eca65996eb14e59890135923a21f305": {
          "model_module": "@jupyter-widgets/base",
          "model_name": "LayoutModel",
          "state": {
            "_view_name": "LayoutView",
            "grid_template_rows": null,
            "right": null,
            "justify_content": null,
            "_view_module": "@jupyter-widgets/base",
            "overflow": null,
            "_model_module_version": "1.2.0",
            "_view_count": null,
            "flex_flow": null,
            "width": null,
            "min_width": null,
            "border": null,
            "align_items": null,
            "bottom": null,
            "_model_module": "@jupyter-widgets/base",
            "top": null,
            "grid_column": null,
            "overflow_y": null,
            "overflow_x": null,
            "grid_auto_flow": null,
            "grid_area": null,
            "grid_template_columns": null,
            "flex": null,
            "_model_name": "LayoutModel",
            "justify_items": null,
            "grid_row": null,
            "max_height": null,
            "align_content": null,
            "visibility": null,
            "align_self": null,
            "height": null,
            "min_height": null,
            "padding": null,
            "grid_auto_rows": null,
            "grid_gap": null,
            "max_width": null,
            "order": null,
            "_view_module_version": "1.2.0",
            "grid_template_areas": null,
            "object_position": null,
            "object_fit": null,
            "grid_auto_columns": null,
            "margin": null,
            "display": null,
            "left": null
          }
        },
        "4e0a2cf62c8a420180df6af3bb81c302": {
          "model_module": "@jupyter-widgets/controls",
          "model_name": "HBoxModel",
          "state": {
            "_view_name": "HBoxView",
            "_dom_classes": [],
            "_model_name": "HBoxModel",
            "_view_module": "@jupyter-widgets/controls",
            "_model_module_version": "1.5.0",
            "_view_count": null,
            "_view_module_version": "1.5.0",
            "box_style": "",
            "layout": "IPY_MODEL_f27c543ff19f405589289ae877443ea4",
            "_model_module": "@jupyter-widgets/controls",
            "children": [
              "IPY_MODEL_41614c6548d144b98316688edf9557d1",
              "IPY_MODEL_1588e7ffecb7438388021a7bb6365ef3"
            ]
          }
        },
        "f27c543ff19f405589289ae877443ea4": {
          "model_module": "@jupyter-widgets/base",
          "model_name": "LayoutModel",
          "state": {
            "_view_name": "LayoutView",
            "grid_template_rows": null,
            "right": null,
            "justify_content": null,
            "_view_module": "@jupyter-widgets/base",
            "overflow": null,
            "_model_module_version": "1.2.0",
            "_view_count": null,
            "flex_flow": null,
            "width": null,
            "min_width": null,
            "border": null,
            "align_items": null,
            "bottom": null,
            "_model_module": "@jupyter-widgets/base",
            "top": null,
            "grid_column": null,
            "overflow_y": null,
            "overflow_x": null,
            "grid_auto_flow": null,
            "grid_area": null,
            "grid_template_columns": null,
            "flex": null,
            "_model_name": "LayoutModel",
            "justify_items": null,
            "grid_row": null,
            "max_height": null,
            "align_content": null,
            "visibility": null,
            "align_self": null,
            "height": null,
            "min_height": null,
            "padding": null,
            "grid_auto_rows": null,
            "grid_gap": null,
            "max_width": null,
            "order": null,
            "_view_module_version": "1.2.0",
            "grid_template_areas": null,
            "object_position": null,
            "object_fit": null,
            "grid_auto_columns": null,
            "margin": null,
            "display": null,
            "left": null
          }
        },
        "41614c6548d144b98316688edf9557d1": {
          "model_module": "@jupyter-widgets/controls",
          "model_name": "FloatProgressModel",
          "state": {
            "_view_name": "ProgressView",
            "style": "IPY_MODEL_668c33a9cd7a47458d79e41213d554a0",
            "_dom_classes": [],
            "description": "Downloading: 100%",
            "_model_name": "FloatProgressModel",
            "bar_style": "success",
            "max": 1658616,
            "_view_module": "@jupyter-widgets/controls",
            "_model_module_version": "1.5.0",
            "value": 1658616,
            "_view_count": null,
            "_view_module_version": "1.5.0",
            "orientation": "horizontal",
            "min": 0,
            "description_tooltip": null,
            "_model_module": "@jupyter-widgets/controls",
            "layout": "IPY_MODEL_a2c7f8c55751473898d3dd53772b1af3"
          }
        },
        "1588e7ffecb7438388021a7bb6365ef3": {
          "model_module": "@jupyter-widgets/controls",
          "model_name": "HTMLModel",
          "state": {
            "_view_name": "HTMLView",
            "style": "IPY_MODEL_d7b2748ce6174e9e98fa08bb6c085ee5",
            "_dom_classes": [],
            "description": "",
            "_model_name": "HTMLModel",
            "placeholder": "​",
            "_view_module": "@jupyter-widgets/controls",
            "_model_module_version": "1.5.0",
            "value": " 1.66M/1.66M [00:01&lt;00:00, 1.08MB/s]",
            "_view_count": null,
            "_view_module_version": "1.5.0",
            "description_tooltip": null,
            "_model_module": "@jupyter-widgets/controls",
            "layout": "IPY_MODEL_9c6f09d37e39424b916caf6b15afef1c"
          }
        },
        "668c33a9cd7a47458d79e41213d554a0": {
          "model_module": "@jupyter-widgets/controls",
          "model_name": "ProgressStyleModel",
          "state": {
            "_view_name": "StyleView",
            "_model_name": "ProgressStyleModel",
            "description_width": "initial",
            "_view_module": "@jupyter-widgets/base",
            "_model_module_version": "1.5.0",
            "_view_count": null,
            "_view_module_version": "1.2.0",
            "bar_color": null,
            "_model_module": "@jupyter-widgets/controls"
          }
        },
        "a2c7f8c55751473898d3dd53772b1af3": {
          "model_module": "@jupyter-widgets/base",
          "model_name": "LayoutModel",
          "state": {
            "_view_name": "LayoutView",
            "grid_template_rows": null,
            "right": null,
            "justify_content": null,
            "_view_module": "@jupyter-widgets/base",
            "overflow": null,
            "_model_module_version": "1.2.0",
            "_view_count": null,
            "flex_flow": null,
            "width": null,
            "min_width": null,
            "border": null,
            "align_items": null,
            "bottom": null,
            "_model_module": "@jupyter-widgets/base",
            "top": null,
            "grid_column": null,
            "overflow_y": null,
            "overflow_x": null,
            "grid_auto_flow": null,
            "grid_area": null,
            "grid_template_columns": null,
            "flex": null,
            "_model_name": "LayoutModel",
            "justify_items": null,
            "grid_row": null,
            "max_height": null,
            "align_content": null,
            "visibility": null,
            "align_self": null,
            "height": null,
            "min_height": null,
            "padding": null,
            "grid_auto_rows": null,
            "grid_gap": null,
            "max_width": null,
            "order": null,
            "_view_module_version": "1.2.0",
            "grid_template_areas": null,
            "object_position": null,
            "object_fit": null,
            "grid_auto_columns": null,
            "margin": null,
            "display": null,
            "left": null
          }
        },
        "d7b2748ce6174e9e98fa08bb6c085ee5": {
          "model_module": "@jupyter-widgets/controls",
          "model_name": "DescriptionStyleModel",
          "state": {
            "_view_name": "StyleView",
            "_model_name": "DescriptionStyleModel",
            "description_width": "",
            "_view_module": "@jupyter-widgets/base",
            "_model_module_version": "1.5.0",
            "_view_count": null,
            "_view_module_version": "1.2.0",
            "_model_module": "@jupyter-widgets/controls"
          }
        },
        "9c6f09d37e39424b916caf6b15afef1c": {
          "model_module": "@jupyter-widgets/base",
          "model_name": "LayoutModel",
          "state": {
            "_view_name": "LayoutView",
            "grid_template_rows": null,
            "right": null,
            "justify_content": null,
            "_view_module": "@jupyter-widgets/base",
            "overflow": null,
            "_model_module_version": "1.2.0",
            "_view_count": null,
            "flex_flow": null,
            "width": null,
            "min_width": null,
            "border": null,
            "align_items": null,
            "bottom": null,
            "_model_module": "@jupyter-widgets/base",
            "top": null,
            "grid_column": null,
            "overflow_y": null,
            "overflow_x": null,
            "grid_auto_flow": null,
            "grid_area": null,
            "grid_template_columns": null,
            "flex": null,
            "_model_name": "LayoutModel",
            "justify_items": null,
            "grid_row": null,
            "max_height": null,
            "align_content": null,
            "visibility": null,
            "align_self": null,
            "height": null,
            "min_height": null,
            "padding": null,
            "grid_auto_rows": null,
            "grid_gap": null,
            "max_width": null,
            "order": null,
            "_view_module_version": "1.2.0",
            "grid_template_areas": null,
            "object_position": null,
            "object_fit": null,
            "grid_auto_columns": null,
            "margin": null,
            "display": null,
            "left": null
          }
        },
        "9b5f02f6c762499086a6ba600b7a7eea": {
          "model_module": "@jupyter-widgets/controls",
          "model_name": "HBoxModel",
          "state": {
            "_view_name": "HBoxView",
            "_dom_classes": [],
            "_model_name": "HBoxModel",
            "_view_module": "@jupyter-widgets/controls",
            "_model_module_version": "1.5.0",
            "_view_count": null,
            "_view_module_version": "1.5.0",
            "box_style": "",
            "layout": "IPY_MODEL_670f2886c2b64bb2aad29fb0d7b6e9bb",
            "_model_module": "@jupyter-widgets/controls",
            "children": [
              "IPY_MODEL_03272fef91a64713b690cbd61d233ee1",
              "IPY_MODEL_9825ecd174db443394dc60f545cc47c2"
            ]
          }
        },
        "670f2886c2b64bb2aad29fb0d7b6e9bb": {
          "model_module": "@jupyter-widgets/base",
          "model_name": "LayoutModel",
          "state": {
            "_view_name": "LayoutView",
            "grid_template_rows": null,
            "right": null,
            "justify_content": null,
            "_view_module": "@jupyter-widgets/base",
            "overflow": null,
            "_model_module_version": "1.2.0",
            "_view_count": null,
            "flex_flow": null,
            "width": null,
            "min_width": null,
            "border": null,
            "align_items": null,
            "bottom": null,
            "_model_module": "@jupyter-widgets/base",
            "top": null,
            "grid_column": null,
            "overflow_y": null,
            "overflow_x": null,
            "grid_auto_flow": null,
            "grid_area": null,
            "grid_template_columns": null,
            "flex": null,
            "_model_name": "LayoutModel",
            "justify_items": null,
            "grid_row": null,
            "max_height": null,
            "align_content": null,
            "visibility": null,
            "align_self": null,
            "height": null,
            "min_height": null,
            "padding": null,
            "grid_auto_rows": null,
            "grid_gap": null,
            "max_width": null,
            "order": null,
            "_view_module_version": "1.2.0",
            "grid_template_areas": null,
            "object_position": null,
            "object_fit": null,
            "grid_auto_columns": null,
            "margin": null,
            "display": null,
            "left": null
          }
        },
        "03272fef91a64713b690cbd61d233ee1": {
          "model_module": "@jupyter-widgets/controls",
          "model_name": "FloatProgressModel",
          "state": {
            "_view_name": "ProgressView",
            "style": "IPY_MODEL_a4390cc691254f73a2d5964c08978e1d",
            "_dom_classes": [],
            "description": "Downloading: 100%",
            "_model_name": "FloatProgressModel",
            "bar_style": "success",
            "max": 204240,
            "_view_module": "@jupyter-widgets/controls",
            "_model_module_version": "1.5.0",
            "value": 204240,
            "_view_count": null,
            "_view_module_version": "1.5.0",
            "orientation": "horizontal",
            "min": 0,
            "description_tooltip": null,
            "_model_module": "@jupyter-widgets/controls",
            "layout": "IPY_MODEL_7a913ef50de74ba4821150776244f2c5"
          }
        },
        "9825ecd174db443394dc60f545cc47c2": {
          "model_module": "@jupyter-widgets/controls",
          "model_name": "HTMLModel",
          "state": {
            "_view_name": "HTMLView",
            "style": "IPY_MODEL_8271d7186e9d403086d77399f1cc73d4",
            "_dom_classes": [],
            "description": "",
            "_model_name": "HTMLModel",
            "placeholder": "​",
            "_view_module": "@jupyter-widgets/controls",
            "_model_module_version": "1.5.0",
            "value": " 204k/204k [00:01&lt;00:00, 105kB/s]",
            "_view_count": null,
            "_view_module_version": "1.5.0",
            "description_tooltip": null,
            "_model_module": "@jupyter-widgets/controls",
            "layout": "IPY_MODEL_fafbc731553643caad9004965445be06"
          }
        },
        "a4390cc691254f73a2d5964c08978e1d": {
          "model_module": "@jupyter-widgets/controls",
          "model_name": "ProgressStyleModel",
          "state": {
            "_view_name": "StyleView",
            "_model_name": "ProgressStyleModel",
            "description_width": "initial",
            "_view_module": "@jupyter-widgets/base",
            "_model_module_version": "1.5.0",
            "_view_count": null,
            "_view_module_version": "1.2.0",
            "bar_color": null,
            "_model_module": "@jupyter-widgets/controls"
          }
        },
        "7a913ef50de74ba4821150776244f2c5": {
          "model_module": "@jupyter-widgets/base",
          "model_name": "LayoutModel",
          "state": {
            "_view_name": "LayoutView",
            "grid_template_rows": null,
            "right": null,
            "justify_content": null,
            "_view_module": "@jupyter-widgets/base",
            "overflow": null,
            "_model_module_version": "1.2.0",
            "_view_count": null,
            "flex_flow": null,
            "width": null,
            "min_width": null,
            "border": null,
            "align_items": null,
            "bottom": null,
            "_model_module": "@jupyter-widgets/base",
            "top": null,
            "grid_column": null,
            "overflow_y": null,
            "overflow_x": null,
            "grid_auto_flow": null,
            "grid_area": null,
            "grid_template_columns": null,
            "flex": null,
            "_model_name": "LayoutModel",
            "justify_items": null,
            "grid_row": null,
            "max_height": null,
            "align_content": null,
            "visibility": null,
            "align_self": null,
            "height": null,
            "min_height": null,
            "padding": null,
            "grid_auto_rows": null,
            "grid_gap": null,
            "max_width": null,
            "order": null,
            "_view_module_version": "1.2.0",
            "grid_template_areas": null,
            "object_position": null,
            "object_fit": null,
            "grid_auto_columns": null,
            "margin": null,
            "display": null,
            "left": null
          }
        },
        "8271d7186e9d403086d77399f1cc73d4": {
          "model_module": "@jupyter-widgets/controls",
          "model_name": "DescriptionStyleModel",
          "state": {
            "_view_name": "StyleView",
            "_model_name": "DescriptionStyleModel",
            "description_width": "",
            "_view_module": "@jupyter-widgets/base",
            "_model_module_version": "1.5.0",
            "_view_count": null,
            "_view_module_version": "1.2.0",
            "_model_module": "@jupyter-widgets/controls"
          }
        },
        "fafbc731553643caad9004965445be06": {
          "model_module": "@jupyter-widgets/base",
          "model_name": "LayoutModel",
          "state": {
            "_view_name": "LayoutView",
            "grid_template_rows": null,
            "right": null,
            "justify_content": null,
            "_view_module": "@jupyter-widgets/base",
            "overflow": null,
            "_model_module_version": "1.2.0",
            "_view_count": null,
            "flex_flow": null,
            "width": null,
            "min_width": null,
            "border": null,
            "align_items": null,
            "bottom": null,
            "_model_module": "@jupyter-widgets/base",
            "top": null,
            "grid_column": null,
            "overflow_y": null,
            "overflow_x": null,
            "grid_auto_flow": null,
            "grid_area": null,
            "grid_template_columns": null,
            "flex": null,
            "_model_name": "LayoutModel",
            "justify_items": null,
            "grid_row": null,
            "max_height": null,
            "align_content": null,
            "visibility": null,
            "align_self": null,
            "height": null,
            "min_height": null,
            "padding": null,
            "grid_auto_rows": null,
            "grid_gap": null,
            "max_width": null,
            "order": null,
            "_view_module_version": "1.2.0",
            "grid_template_areas": null,
            "object_position": null,
            "object_fit": null,
            "grid_auto_columns": null,
            "margin": null,
            "display": null,
            "left": null
          }
        },
        "8e9e92bf98aa4a628ddd1646c831ae58": {
          "model_module": "@jupyter-widgets/controls",
          "model_name": "HBoxModel",
          "state": {
            "_view_name": "HBoxView",
            "_dom_classes": [],
            "_model_name": "HBoxModel",
            "_view_module": "@jupyter-widgets/controls",
            "_model_module_version": "1.5.0",
            "_view_count": null,
            "_view_module_version": "1.5.0",
            "box_style": "",
            "layout": "IPY_MODEL_d4f0e777745a45c9bab4775dd62b8b2b",
            "_model_module": "@jupyter-widgets/controls",
            "children": [
              "IPY_MODEL_f6b749f49fe548788ce9236401937c64",
              "IPY_MODEL_d7e68326749d49c4961dbfcbd61cf92a"
            ]
          }
        },
        "d4f0e777745a45c9bab4775dd62b8b2b": {
          "model_module": "@jupyter-widgets/base",
          "model_name": "LayoutModel",
          "state": {
            "_view_name": "LayoutView",
            "grid_template_rows": null,
            "right": null,
            "justify_content": null,
            "_view_module": "@jupyter-widgets/base",
            "overflow": null,
            "_model_module_version": "1.2.0",
            "_view_count": null,
            "flex_flow": null,
            "width": null,
            "min_width": null,
            "border": null,
            "align_items": null,
            "bottom": null,
            "_model_module": "@jupyter-widgets/base",
            "top": null,
            "grid_column": null,
            "overflow_y": null,
            "overflow_x": null,
            "grid_auto_flow": null,
            "grid_area": null,
            "grid_template_columns": null,
            "flex": null,
            "_model_name": "LayoutModel",
            "justify_items": null,
            "grid_row": null,
            "max_height": null,
            "align_content": null,
            "visibility": null,
            "align_self": null,
            "height": null,
            "min_height": null,
            "padding": null,
            "grid_auto_rows": null,
            "grid_gap": null,
            "max_width": null,
            "order": null,
            "_view_module_version": "1.2.0",
            "grid_template_areas": null,
            "object_position": null,
            "object_fit": null,
            "grid_auto_columns": null,
            "margin": null,
            "display": null,
            "left": null
          }
        },
        "f6b749f49fe548788ce9236401937c64": {
          "model_module": "@jupyter-widgets/controls",
          "model_name": "FloatProgressModel",
          "state": {
            "_view_name": "ProgressView",
            "style": "IPY_MODEL_e337aec9a3fe4624939ec021f6c1cc15",
            "_dom_classes": [],
            "description": "Downloading: 100%",
            "_model_name": "FloatProgressModel",
            "bar_style": "success",
            "max": 206760,
            "_view_module": "@jupyter-widgets/controls",
            "_model_module_version": "1.5.0",
            "value": 206760,
            "_view_count": null,
            "_view_module_version": "1.5.0",
            "orientation": "horizontal",
            "min": 0,
            "description_tooltip": null,
            "_model_module": "@jupyter-widgets/controls",
            "layout": "IPY_MODEL_8767f5c6504f443ab5c843e59ef0f462"
          }
        },
        "d7e68326749d49c4961dbfcbd61cf92a": {
          "model_module": "@jupyter-widgets/controls",
          "model_name": "HTMLModel",
          "state": {
            "_view_name": "HTMLView",
            "style": "IPY_MODEL_a694cc47c60c4ceaa54a4866b49af352",
            "_dom_classes": [],
            "description": "",
            "_model_name": "HTMLModel",
            "placeholder": "​",
            "_view_module": "@jupyter-widgets/controls",
            "_model_module_version": "1.5.0",
            "value": " 207k/207k [00:00&lt;00:00, 1.94MB/s]",
            "_view_count": null,
            "_view_module_version": "1.5.0",
            "description_tooltip": null,
            "_model_module": "@jupyter-widgets/controls",
            "layout": "IPY_MODEL_be93f8fb57a548a8964ab2b48029cd56"
          }
        },
        "e337aec9a3fe4624939ec021f6c1cc15": {
          "model_module": "@jupyter-widgets/controls",
          "model_name": "ProgressStyleModel",
          "state": {
            "_view_name": "StyleView",
            "_model_name": "ProgressStyleModel",
            "description_width": "initial",
            "_view_module": "@jupyter-widgets/base",
            "_model_module_version": "1.5.0",
            "_view_count": null,
            "_view_module_version": "1.2.0",
            "bar_color": null,
            "_model_module": "@jupyter-widgets/controls"
          }
        },
        "8767f5c6504f443ab5c843e59ef0f462": {
          "model_module": "@jupyter-widgets/base",
          "model_name": "LayoutModel",
          "state": {
            "_view_name": "LayoutView",
            "grid_template_rows": null,
            "right": null,
            "justify_content": null,
            "_view_module": "@jupyter-widgets/base",
            "overflow": null,
            "_model_module_version": "1.2.0",
            "_view_count": null,
            "flex_flow": null,
            "width": null,
            "min_width": null,
            "border": null,
            "align_items": null,
            "bottom": null,
            "_model_module": "@jupyter-widgets/base",
            "top": null,
            "grid_column": null,
            "overflow_y": null,
            "overflow_x": null,
            "grid_auto_flow": null,
            "grid_area": null,
            "grid_template_columns": null,
            "flex": null,
            "_model_name": "LayoutModel",
            "justify_items": null,
            "grid_row": null,
            "max_height": null,
            "align_content": null,
            "visibility": null,
            "align_self": null,
            "height": null,
            "min_height": null,
            "padding": null,
            "grid_auto_rows": null,
            "grid_gap": null,
            "max_width": null,
            "order": null,
            "_view_module_version": "1.2.0",
            "grid_template_areas": null,
            "object_position": null,
            "object_fit": null,
            "grid_auto_columns": null,
            "margin": null,
            "display": null,
            "left": null
          }
        },
        "a694cc47c60c4ceaa54a4866b49af352": {
          "model_module": "@jupyter-widgets/controls",
          "model_name": "DescriptionStyleModel",
          "state": {
            "_view_name": "StyleView",
            "_model_name": "DescriptionStyleModel",
            "description_width": "",
            "_view_module": "@jupyter-widgets/base",
            "_model_module_version": "1.5.0",
            "_view_count": null,
            "_view_module_version": "1.2.0",
            "_model_module": "@jupyter-widgets/controls"
          }
        },
        "be93f8fb57a548a8964ab2b48029cd56": {
          "model_module": "@jupyter-widgets/base",
          "model_name": "LayoutModel",
          "state": {
            "_view_name": "LayoutView",
            "grid_template_rows": null,
            "right": null,
            "justify_content": null,
            "_view_module": "@jupyter-widgets/base",
            "overflow": null,
            "_model_module_version": "1.2.0",
            "_view_count": null,
            "flex_flow": null,
            "width": null,
            "min_width": null,
            "border": null,
            "align_items": null,
            "bottom": null,
            "_model_module": "@jupyter-widgets/base",
            "top": null,
            "grid_column": null,
            "overflow_y": null,
            "overflow_x": null,
            "grid_auto_flow": null,
            "grid_area": null,
            "grid_template_columns": null,
            "flex": null,
            "_model_name": "LayoutModel",
            "justify_items": null,
            "grid_row": null,
            "max_height": null,
            "align_content": null,
            "visibility": null,
            "align_self": null,
            "height": null,
            "min_height": null,
            "padding": null,
            "grid_auto_rows": null,
            "grid_gap": null,
            "max_width": null,
            "order": null,
            "_view_module_version": "1.2.0",
            "grid_template_areas": null,
            "object_position": null,
            "object_fit": null,
            "grid_auto_columns": null,
            "margin": null,
            "display": null,
            "left": null
          }
        },
        "0800a3c0ecbd489cb4b61c1a10f5ad7a": {
          "model_module": "@jupyter-widgets/controls",
          "model_name": "HBoxModel",
          "state": {
            "_view_name": "HBoxView",
            "_dom_classes": [],
            "_model_name": "HBoxModel",
            "_view_module": "@jupyter-widgets/controls",
            "_model_module_version": "1.5.0",
            "_view_count": null,
            "_view_module_version": "1.5.0",
            "box_style": "",
            "layout": "IPY_MODEL_5dad3d3586a74b33896132244a07a384",
            "_model_module": "@jupyter-widgets/controls",
            "children": [
              "IPY_MODEL_8f85dc09aa5b458a8fd5415b75810ab2",
              "IPY_MODEL_6fba8a1df84d4a8aaa12d7243af0543f"
            ]
          }
        },
        "5dad3d3586a74b33896132244a07a384": {
          "model_module": "@jupyter-widgets/base",
          "model_name": "LayoutModel",
          "state": {
            "_view_name": "LayoutView",
            "grid_template_rows": null,
            "right": null,
            "justify_content": null,
            "_view_module": "@jupyter-widgets/base",
            "overflow": null,
            "_model_module_version": "1.2.0",
            "_view_count": null,
            "flex_flow": null,
            "width": null,
            "min_width": null,
            "border": null,
            "align_items": null,
            "bottom": null,
            "_model_module": "@jupyter-widgets/base",
            "top": null,
            "grid_column": null,
            "overflow_y": null,
            "overflow_x": null,
            "grid_auto_flow": null,
            "grid_area": null,
            "grid_template_columns": null,
            "flex": null,
            "_model_name": "LayoutModel",
            "justify_items": null,
            "grid_row": null,
            "max_height": null,
            "align_content": null,
            "visibility": null,
            "align_self": null,
            "height": null,
            "min_height": null,
            "padding": null,
            "grid_auto_rows": null,
            "grid_gap": null,
            "max_width": null,
            "order": null,
            "_view_module_version": "1.2.0",
            "grid_template_areas": null,
            "object_position": null,
            "object_fit": null,
            "grid_auto_columns": null,
            "margin": null,
            "display": null,
            "left": null
          }
        },
        "8f85dc09aa5b458a8fd5415b75810ab2": {
          "model_module": "@jupyter-widgets/controls",
          "model_name": "FloatProgressModel",
          "state": {
            "_view_name": "ProgressView",
            "style": "IPY_MODEL_170555989a1e458ea9381700c5ccaa9c",
            "_dom_classes": [],
            "description": "",
            "_model_name": "FloatProgressModel",
            "bar_style": "info",
            "max": 1,
            "_view_module": "@jupyter-widgets/controls",
            "_model_module_version": "1.5.0",
            "value": 1,
            "_view_count": null,
            "_view_module_version": "1.5.0",
            "orientation": "horizontal",
            "min": 0,
            "description_tooltip": null,
            "_model_module": "@jupyter-widgets/controls",
            "layout": "IPY_MODEL_a07b417cfcd341e8b716ef530dec7f7a"
          }
        },
        "6fba8a1df84d4a8aaa12d7243af0543f": {
          "model_module": "@jupyter-widgets/controls",
          "model_name": "HTMLModel",
          "state": {
            "_view_name": "HTMLView",
            "style": "IPY_MODEL_85fd0f1503b04d6e82c5018c49e34d14",
            "_dom_classes": [],
            "description": "",
            "_model_name": "HTMLModel",
            "placeholder": "​",
            "_view_module": "@jupyter-widgets/controls",
            "_model_module_version": "1.5.0",
            "value": " 16000/0 [00:00&lt;00:00, 26294.59 examples/s]",
            "_view_count": null,
            "_view_module_version": "1.5.0",
            "description_tooltip": null,
            "_model_module": "@jupyter-widgets/controls",
            "layout": "IPY_MODEL_b468e9507c074aa2932ebe84eccd6984"
          }
        },
        "170555989a1e458ea9381700c5ccaa9c": {
          "model_module": "@jupyter-widgets/controls",
          "model_name": "ProgressStyleModel",
          "state": {
            "_view_name": "StyleView",
            "_model_name": "ProgressStyleModel",
            "description_width": "initial",
            "_view_module": "@jupyter-widgets/base",
            "_model_module_version": "1.5.0",
            "_view_count": null,
            "_view_module_version": "1.2.0",
            "bar_color": null,
            "_model_module": "@jupyter-widgets/controls"
          }
        },
        "a07b417cfcd341e8b716ef530dec7f7a": {
          "model_module": "@jupyter-widgets/base",
          "model_name": "LayoutModel",
          "state": {
            "_view_name": "LayoutView",
            "grid_template_rows": null,
            "right": null,
            "justify_content": null,
            "_view_module": "@jupyter-widgets/base",
            "overflow": null,
            "_model_module_version": "1.2.0",
            "_view_count": null,
            "flex_flow": null,
            "width": null,
            "min_width": null,
            "border": null,
            "align_items": null,
            "bottom": null,
            "_model_module": "@jupyter-widgets/base",
            "top": null,
            "grid_column": null,
            "overflow_y": null,
            "overflow_x": null,
            "grid_auto_flow": null,
            "grid_area": null,
            "grid_template_columns": null,
            "flex": null,
            "_model_name": "LayoutModel",
            "justify_items": null,
            "grid_row": null,
            "max_height": null,
            "align_content": null,
            "visibility": null,
            "align_self": null,
            "height": null,
            "min_height": null,
            "padding": null,
            "grid_auto_rows": null,
            "grid_gap": null,
            "max_width": null,
            "order": null,
            "_view_module_version": "1.2.0",
            "grid_template_areas": null,
            "object_position": null,
            "object_fit": null,
            "grid_auto_columns": null,
            "margin": null,
            "display": null,
            "left": null
          }
        },
        "85fd0f1503b04d6e82c5018c49e34d14": {
          "model_module": "@jupyter-widgets/controls",
          "model_name": "DescriptionStyleModel",
          "state": {
            "_view_name": "StyleView",
            "_model_name": "DescriptionStyleModel",
            "description_width": "",
            "_view_module": "@jupyter-widgets/base",
            "_model_module_version": "1.5.0",
            "_view_count": null,
            "_view_module_version": "1.2.0",
            "_model_module": "@jupyter-widgets/controls"
          }
        },
        "b468e9507c074aa2932ebe84eccd6984": {
          "model_module": "@jupyter-widgets/base",
          "model_name": "LayoutModel",
          "state": {
            "_view_name": "LayoutView",
            "grid_template_rows": null,
            "right": null,
            "justify_content": null,
            "_view_module": "@jupyter-widgets/base",
            "overflow": null,
            "_model_module_version": "1.2.0",
            "_view_count": null,
            "flex_flow": null,
            "width": null,
            "min_width": null,
            "border": null,
            "align_items": null,
            "bottom": null,
            "_model_module": "@jupyter-widgets/base",
            "top": null,
            "grid_column": null,
            "overflow_y": null,
            "overflow_x": null,
            "grid_auto_flow": null,
            "grid_area": null,
            "grid_template_columns": null,
            "flex": null,
            "_model_name": "LayoutModel",
            "justify_items": null,
            "grid_row": null,
            "max_height": null,
            "align_content": null,
            "visibility": null,
            "align_self": null,
            "height": null,
            "min_height": null,
            "padding": null,
            "grid_auto_rows": null,
            "grid_gap": null,
            "max_width": null,
            "order": null,
            "_view_module_version": "1.2.0",
            "grid_template_areas": null,
            "object_position": null,
            "object_fit": null,
            "grid_auto_columns": null,
            "margin": null,
            "display": null,
            "left": null
          }
        },
        "3fc8a86d2da5430f9181c3f041d16c59": {
          "model_module": "@jupyter-widgets/controls",
          "model_name": "HBoxModel",
          "state": {
            "_view_name": "HBoxView",
            "_dom_classes": [],
            "_model_name": "HBoxModel",
            "_view_module": "@jupyter-widgets/controls",
            "_model_module_version": "1.5.0",
            "_view_count": null,
            "_view_module_version": "1.5.0",
            "box_style": "",
            "layout": "IPY_MODEL_8f62e649654547cb85837608f9687299",
            "_model_module": "@jupyter-widgets/controls",
            "children": [
              "IPY_MODEL_ebf5fac680004a2eb4f0443f0e6ccd31",
              "IPY_MODEL_b0ea712a2da6410fa8a3924f07fd6957"
            ]
          }
        },
        "8f62e649654547cb85837608f9687299": {
          "model_module": "@jupyter-widgets/base",
          "model_name": "LayoutModel",
          "state": {
            "_view_name": "LayoutView",
            "grid_template_rows": null,
            "right": null,
            "justify_content": null,
            "_view_module": "@jupyter-widgets/base",
            "overflow": null,
            "_model_module_version": "1.2.0",
            "_view_count": null,
            "flex_flow": null,
            "width": null,
            "min_width": null,
            "border": null,
            "align_items": null,
            "bottom": null,
            "_model_module": "@jupyter-widgets/base",
            "top": null,
            "grid_column": null,
            "overflow_y": null,
            "overflow_x": null,
            "grid_auto_flow": null,
            "grid_area": null,
            "grid_template_columns": null,
            "flex": null,
            "_model_name": "LayoutModel",
            "justify_items": null,
            "grid_row": null,
            "max_height": null,
            "align_content": null,
            "visibility": null,
            "align_self": null,
            "height": null,
            "min_height": null,
            "padding": null,
            "grid_auto_rows": null,
            "grid_gap": null,
            "max_width": null,
            "order": null,
            "_view_module_version": "1.2.0",
            "grid_template_areas": null,
            "object_position": null,
            "object_fit": null,
            "grid_auto_columns": null,
            "margin": null,
            "display": null,
            "left": null
          }
        },
        "ebf5fac680004a2eb4f0443f0e6ccd31": {
          "model_module": "@jupyter-widgets/controls",
          "model_name": "FloatProgressModel",
          "state": {
            "_view_name": "ProgressView",
            "style": "IPY_MODEL_3d9171151cbd46d6b20418ce2cf29679",
            "_dom_classes": [],
            "description": "",
            "_model_name": "FloatProgressModel",
            "bar_style": "info",
            "max": 1,
            "_view_module": "@jupyter-widgets/controls",
            "_model_module_version": "1.5.0",
            "value": 1,
            "_view_count": null,
            "_view_module_version": "1.5.0",
            "orientation": "horizontal",
            "min": 0,
            "description_tooltip": null,
            "_model_module": "@jupyter-widgets/controls",
            "layout": "IPY_MODEL_863b0003eba34ecca00d7df99fc95cec"
          }
        },
        "b0ea712a2da6410fa8a3924f07fd6957": {
          "model_module": "@jupyter-widgets/controls",
          "model_name": "HTMLModel",
          "state": {
            "_view_name": "HTMLView",
            "style": "IPY_MODEL_1cb6f5857ee74674b4ae1577cc88252e",
            "_dom_classes": [],
            "description": "",
            "_model_name": "HTMLModel",
            "placeholder": "​",
            "_view_module": "@jupyter-widgets/controls",
            "_model_module_version": "1.5.0",
            "value": " 2000/0 [00:00&lt;00:00, 19508.48 examples/s]",
            "_view_count": null,
            "_view_module_version": "1.5.0",
            "description_tooltip": null,
            "_model_module": "@jupyter-widgets/controls",
            "layout": "IPY_MODEL_7fff6e8315d6485c88bf2bc98d1c002c"
          }
        },
        "3d9171151cbd46d6b20418ce2cf29679": {
          "model_module": "@jupyter-widgets/controls",
          "model_name": "ProgressStyleModel",
          "state": {
            "_view_name": "StyleView",
            "_model_name": "ProgressStyleModel",
            "description_width": "initial",
            "_view_module": "@jupyter-widgets/base",
            "_model_module_version": "1.5.0",
            "_view_count": null,
            "_view_module_version": "1.2.0",
            "bar_color": null,
            "_model_module": "@jupyter-widgets/controls"
          }
        },
        "863b0003eba34ecca00d7df99fc95cec": {
          "model_module": "@jupyter-widgets/base",
          "model_name": "LayoutModel",
          "state": {
            "_view_name": "LayoutView",
            "grid_template_rows": null,
            "right": null,
            "justify_content": null,
            "_view_module": "@jupyter-widgets/base",
            "overflow": null,
            "_model_module_version": "1.2.0",
            "_view_count": null,
            "flex_flow": null,
            "width": null,
            "min_width": null,
            "border": null,
            "align_items": null,
            "bottom": null,
            "_model_module": "@jupyter-widgets/base",
            "top": null,
            "grid_column": null,
            "overflow_y": null,
            "overflow_x": null,
            "grid_auto_flow": null,
            "grid_area": null,
            "grid_template_columns": null,
            "flex": null,
            "_model_name": "LayoutModel",
            "justify_items": null,
            "grid_row": null,
            "max_height": null,
            "align_content": null,
            "visibility": null,
            "align_self": null,
            "height": null,
            "min_height": null,
            "padding": null,
            "grid_auto_rows": null,
            "grid_gap": null,
            "max_width": null,
            "order": null,
            "_view_module_version": "1.2.0",
            "grid_template_areas": null,
            "object_position": null,
            "object_fit": null,
            "grid_auto_columns": null,
            "margin": null,
            "display": null,
            "left": null
          }
        },
        "1cb6f5857ee74674b4ae1577cc88252e": {
          "model_module": "@jupyter-widgets/controls",
          "model_name": "DescriptionStyleModel",
          "state": {
            "_view_name": "StyleView",
            "_model_name": "DescriptionStyleModel",
            "description_width": "",
            "_view_module": "@jupyter-widgets/base",
            "_model_module_version": "1.5.0",
            "_view_count": null,
            "_view_module_version": "1.2.0",
            "_model_module": "@jupyter-widgets/controls"
          }
        },
        "7fff6e8315d6485c88bf2bc98d1c002c": {
          "model_module": "@jupyter-widgets/base",
          "model_name": "LayoutModel",
          "state": {
            "_view_name": "LayoutView",
            "grid_template_rows": null,
            "right": null,
            "justify_content": null,
            "_view_module": "@jupyter-widgets/base",
            "overflow": null,
            "_model_module_version": "1.2.0",
            "_view_count": null,
            "flex_flow": null,
            "width": null,
            "min_width": null,
            "border": null,
            "align_items": null,
            "bottom": null,
            "_model_module": "@jupyter-widgets/base",
            "top": null,
            "grid_column": null,
            "overflow_y": null,
            "overflow_x": null,
            "grid_auto_flow": null,
            "grid_area": null,
            "grid_template_columns": null,
            "flex": null,
            "_model_name": "LayoutModel",
            "justify_items": null,
            "grid_row": null,
            "max_height": null,
            "align_content": null,
            "visibility": null,
            "align_self": null,
            "height": null,
            "min_height": null,
            "padding": null,
            "grid_auto_rows": null,
            "grid_gap": null,
            "max_width": null,
            "order": null,
            "_view_module_version": "1.2.0",
            "grid_template_areas": null,
            "object_position": null,
            "object_fit": null,
            "grid_auto_columns": null,
            "margin": null,
            "display": null,
            "left": null
          }
        },
        "b475f7d719b34a699b285fad4aae26e5": {
          "model_module": "@jupyter-widgets/controls",
          "model_name": "HBoxModel",
          "state": {
            "_view_name": "HBoxView",
            "_dom_classes": [],
            "_model_name": "HBoxModel",
            "_view_module": "@jupyter-widgets/controls",
            "_model_module_version": "1.5.0",
            "_view_count": null,
            "_view_module_version": "1.5.0",
            "box_style": "",
            "layout": "IPY_MODEL_1808740755a74acb82c56e77b9603aef",
            "_model_module": "@jupyter-widgets/controls",
            "children": [
              "IPY_MODEL_97b959f25e354476965ad24bc8f9a147",
              "IPY_MODEL_5c38b97a57f34d7bb10443c386e69e98"
            ]
          }
        },
        "1808740755a74acb82c56e77b9603aef": {
          "model_module": "@jupyter-widgets/base",
          "model_name": "LayoutModel",
          "state": {
            "_view_name": "LayoutView",
            "grid_template_rows": null,
            "right": null,
            "justify_content": null,
            "_view_module": "@jupyter-widgets/base",
            "overflow": null,
            "_model_module_version": "1.2.0",
            "_view_count": null,
            "flex_flow": null,
            "width": null,
            "min_width": null,
            "border": null,
            "align_items": null,
            "bottom": null,
            "_model_module": "@jupyter-widgets/base",
            "top": null,
            "grid_column": null,
            "overflow_y": null,
            "overflow_x": null,
            "grid_auto_flow": null,
            "grid_area": null,
            "grid_template_columns": null,
            "flex": null,
            "_model_name": "LayoutModel",
            "justify_items": null,
            "grid_row": null,
            "max_height": null,
            "align_content": null,
            "visibility": null,
            "align_self": null,
            "height": null,
            "min_height": null,
            "padding": null,
            "grid_auto_rows": null,
            "grid_gap": null,
            "max_width": null,
            "order": null,
            "_view_module_version": "1.2.0",
            "grid_template_areas": null,
            "object_position": null,
            "object_fit": null,
            "grid_auto_columns": null,
            "margin": null,
            "display": null,
            "left": null
          }
        },
        "97b959f25e354476965ad24bc8f9a147": {
          "model_module": "@jupyter-widgets/controls",
          "model_name": "FloatProgressModel",
          "state": {
            "_view_name": "ProgressView",
            "style": "IPY_MODEL_a560d62562eb46b3bc825ea384490f92",
            "_dom_classes": [],
            "description": "",
            "_model_name": "FloatProgressModel",
            "bar_style": "info",
            "max": 1,
            "_view_module": "@jupyter-widgets/controls",
            "_model_module_version": "1.5.0",
            "value": 1,
            "_view_count": null,
            "_view_module_version": "1.5.0",
            "orientation": "horizontal",
            "min": 0,
            "description_tooltip": null,
            "_model_module": "@jupyter-widgets/controls",
            "layout": "IPY_MODEL_9b00953b703143749a671900fd2cbec0"
          }
        },
        "5c38b97a57f34d7bb10443c386e69e98": {
          "model_module": "@jupyter-widgets/controls",
          "model_name": "HTMLModel",
          "state": {
            "_view_name": "HTMLView",
            "style": "IPY_MODEL_b62e718ab89b402fb28eb7a01cd15f53",
            "_dom_classes": [],
            "description": "",
            "_model_name": "HTMLModel",
            "placeholder": "​",
            "_view_module": "@jupyter-widgets/controls",
            "_model_module_version": "1.5.0",
            "value": " 2000/0 [00:00&lt;00:00, 17909.93 examples/s]",
            "_view_count": null,
            "_view_module_version": "1.5.0",
            "description_tooltip": null,
            "_model_module": "@jupyter-widgets/controls",
            "layout": "IPY_MODEL_1bd8862cfb7e4759abae10ba2ad1c65b"
          }
        },
        "a560d62562eb46b3bc825ea384490f92": {
          "model_module": "@jupyter-widgets/controls",
          "model_name": "ProgressStyleModel",
          "state": {
            "_view_name": "StyleView",
            "_model_name": "ProgressStyleModel",
            "description_width": "initial",
            "_view_module": "@jupyter-widgets/base",
            "_model_module_version": "1.5.0",
            "_view_count": null,
            "_view_module_version": "1.2.0",
            "bar_color": null,
            "_model_module": "@jupyter-widgets/controls"
          }
        },
        "9b00953b703143749a671900fd2cbec0": {
          "model_module": "@jupyter-widgets/base",
          "model_name": "LayoutModel",
          "state": {
            "_view_name": "LayoutView",
            "grid_template_rows": null,
            "right": null,
            "justify_content": null,
            "_view_module": "@jupyter-widgets/base",
            "overflow": null,
            "_model_module_version": "1.2.0",
            "_view_count": null,
            "flex_flow": null,
            "width": null,
            "min_width": null,
            "border": null,
            "align_items": null,
            "bottom": null,
            "_model_module": "@jupyter-widgets/base",
            "top": null,
            "grid_column": null,
            "overflow_y": null,
            "overflow_x": null,
            "grid_auto_flow": null,
            "grid_area": null,
            "grid_template_columns": null,
            "flex": null,
            "_model_name": "LayoutModel",
            "justify_items": null,
            "grid_row": null,
            "max_height": null,
            "align_content": null,
            "visibility": null,
            "align_self": null,
            "height": null,
            "min_height": null,
            "padding": null,
            "grid_auto_rows": null,
            "grid_gap": null,
            "max_width": null,
            "order": null,
            "_view_module_version": "1.2.0",
            "grid_template_areas": null,
            "object_position": null,
            "object_fit": null,
            "grid_auto_columns": null,
            "margin": null,
            "display": null,
            "left": null
          }
        },
        "b62e718ab89b402fb28eb7a01cd15f53": {
          "model_module": "@jupyter-widgets/controls",
          "model_name": "DescriptionStyleModel",
          "state": {
            "_view_name": "StyleView",
            "_model_name": "DescriptionStyleModel",
            "description_width": "",
            "_view_module": "@jupyter-widgets/base",
            "_model_module_version": "1.5.0",
            "_view_count": null,
            "_view_module_version": "1.2.0",
            "_model_module": "@jupyter-widgets/controls"
          }
        },
        "1bd8862cfb7e4759abae10ba2ad1c65b": {
          "model_module": "@jupyter-widgets/base",
          "model_name": "LayoutModel",
          "state": {
            "_view_name": "LayoutView",
            "grid_template_rows": null,
            "right": null,
            "justify_content": null,
            "_view_module": "@jupyter-widgets/base",
            "overflow": null,
            "_model_module_version": "1.2.0",
            "_view_count": null,
            "flex_flow": null,
            "width": null,
            "min_width": null,
            "border": null,
            "align_items": null,
            "bottom": null,
            "_model_module": "@jupyter-widgets/base",
            "top": null,
            "grid_column": null,
            "overflow_y": null,
            "overflow_x": null,
            "grid_auto_flow": null,
            "grid_area": null,
            "grid_template_columns": null,
            "flex": null,
            "_model_name": "LayoutModel",
            "justify_items": null,
            "grid_row": null,
            "max_height": null,
            "align_content": null,
            "visibility": null,
            "align_self": null,
            "height": null,
            "min_height": null,
            "padding": null,
            "grid_auto_rows": null,
            "grid_gap": null,
            "max_width": null,
            "order": null,
            "_view_module_version": "1.2.0",
            "grid_template_areas": null,
            "object_position": null,
            "object_fit": null,
            "grid_auto_columns": null,
            "margin": null,
            "display": null,
            "left": null
          }
        }
      }
    }
  },
  "cells": [
    {
      "cell_type": "markdown",
      "metadata": {
        "id": "view-in-github",
        "colab_type": "text"
      },
      "source": [
        "<a href=\"https://colab.research.google.com/github/ykato27/SHAP_NLP/blob/main/SHAP_NLP.ipynb\" target=\"_parent\"><img src=\"https://colab.research.google.com/assets/colab-badge.svg\" alt=\"Open In Colab\"/></a>"
      ]
    },
    {
      "cell_type": "code",
      "metadata": {
        "colab": {
          "base_uri": "https://localhost:8080/"
        },
        "id": "Ms63blXI2JTF",
        "outputId": "903a8258-e45c-41a9-a81a-0b647c53030b"
      },
      "source": [
        "# datasetsから取得したデータセットをtsv形式で一旦保存したいので、保存先としてGoogle Driveをするためにマウントしてます。\n",
        "# colabにGoogle Driveをマウント\n",
        "from google.colab import drive\n",
        "drive.mount('/content/drive')"
      ],
      "execution_count": 1,
      "outputs": [
        {
          "output_type": "stream",
          "text": [
            "Mounted at /content/drive\n"
          ],
          "name": "stdout"
        }
      ]
    },
    {
      "cell_type": "code",
      "metadata": {
        "colab": {
          "base_uri": "https://localhost:8080/"
        },
        "id": "-vlLLLyU2Ohv",
        "outputId": "68374982-7104-4c95-ae92-95ba16d63562"
      },
      "source": [
        "# 必要なライブラリをpipでインストール\n",
        "!pip install shap # SHAPはpipで簡単にインストールできます\n",
        "!pip install datasets\n",
        "!pip install transformers"
      ],
      "execution_count": 2,
      "outputs": [
        {
          "output_type": "stream",
          "text": [
            "Collecting shap\n",
            "\u001b[?25l  Downloading https://files.pythonhosted.org/packages/b9/f4/c5b95cddae15be80f8e58b25edceca105aa83c0b8c86a1edad24a6af80d3/shap-0.39.0.tar.gz (356kB)\n",
            "\r\u001b[K     |█                               | 10kB 16.5MB/s eta 0:00:01\r\u001b[K     |█▉                              | 20kB 22.4MB/s eta 0:00:01\r\u001b[K     |██▊                             | 30kB 25.8MB/s eta 0:00:01\r\u001b[K     |███▊                            | 40kB 18.7MB/s eta 0:00:01\r\u001b[K     |████▋                           | 51kB 12.2MB/s eta 0:00:01\r\u001b[K     |█████▌                          | 61kB 13.7MB/s eta 0:00:01\r\u001b[K     |██████▍                         | 71kB 10.2MB/s eta 0:00:01\r\u001b[K     |███████▍                        | 81kB 11.0MB/s eta 0:00:01\r\u001b[K     |████████▎                       | 92kB 11.0MB/s eta 0:00:01\r\u001b[K     |█████████▏                      | 102kB 10.7MB/s eta 0:00:01\r\u001b[K     |██████████▏                     | 112kB 10.7MB/s eta 0:00:01\r\u001b[K     |███████████                     | 122kB 10.7MB/s eta 0:00:01\r\u001b[K     |████████████                    | 133kB 10.7MB/s eta 0:00:01\r\u001b[K     |████████████▉                   | 143kB 10.7MB/s eta 0:00:01\r\u001b[K     |█████████████▉                  | 153kB 10.7MB/s eta 0:00:01\r\u001b[K     |██████████████▊                 | 163kB 10.7MB/s eta 0:00:01\r\u001b[K     |███████████████▋                | 174kB 10.7MB/s eta 0:00:01\r\u001b[K     |████████████████▋               | 184kB 10.7MB/s eta 0:00:01\r\u001b[K     |█████████████████▌              | 194kB 10.7MB/s eta 0:00:01\r\u001b[K     |██████████████████▍             | 204kB 10.7MB/s eta 0:00:01\r\u001b[K     |███████████████████▎            | 215kB 10.7MB/s eta 0:00:01\r\u001b[K     |████████████████████▎           | 225kB 10.7MB/s eta 0:00:01\r\u001b[K     |█████████████████████▏          | 235kB 10.7MB/s eta 0:00:01\r\u001b[K     |██████████████████████          | 245kB 10.7MB/s eta 0:00:01\r\u001b[K     |███████████████████████         | 256kB 10.7MB/s eta 0:00:01\r\u001b[K     |████████████████████████        | 266kB 10.7MB/s eta 0:00:01\r\u001b[K     |████████████████████████▉       | 276kB 10.7MB/s eta 0:00:01\r\u001b[K     |█████████████████████████▊      | 286kB 10.7MB/s eta 0:00:01\r\u001b[K     |██████████████████████████▊     | 296kB 10.7MB/s eta 0:00:01\r\u001b[K     |███████████████████████████▋    | 307kB 10.7MB/s eta 0:00:01\r\u001b[K     |████████████████████████████▌   | 317kB 10.7MB/s eta 0:00:01\r\u001b[K     |█████████████████████████████▍  | 327kB 10.7MB/s eta 0:00:01\r\u001b[K     |██████████████████████████████▍ | 337kB 10.7MB/s eta 0:00:01\r\u001b[K     |███████████████████████████████▎| 348kB 10.7MB/s eta 0:00:01\r\u001b[K     |████████████████████████████████| 358kB 10.7MB/s \n",
            "\u001b[?25hRequirement already satisfied: numpy in /usr/local/lib/python3.7/dist-packages (from shap) (1.19.5)\n",
            "Requirement already satisfied: scipy in /usr/local/lib/python3.7/dist-packages (from shap) (1.4.1)\n",
            "Requirement already satisfied: scikit-learn in /usr/local/lib/python3.7/dist-packages (from shap) (0.22.2.post1)\n",
            "Requirement already satisfied: pandas in /usr/local/lib/python3.7/dist-packages (from shap) (1.1.5)\n",
            "Requirement already satisfied: tqdm>4.25.0 in /usr/local/lib/python3.7/dist-packages (from shap) (4.41.1)\n",
            "Collecting slicer==0.0.7\n",
            "  Downloading https://files.pythonhosted.org/packages/78/c2/b3f55dfdb8af9812fdb9baf70cacf3b9e82e505b2bd4324d588888b81202/slicer-0.0.7-py3-none-any.whl\n",
            "Requirement already satisfied: numba in /usr/local/lib/python3.7/dist-packages (from shap) (0.51.2)\n",
            "Requirement already satisfied: cloudpickle in /usr/local/lib/python3.7/dist-packages (from shap) (1.3.0)\n",
            "Requirement already satisfied: joblib>=0.11 in /usr/local/lib/python3.7/dist-packages (from scikit-learn->shap) (1.0.1)\n",
            "Requirement already satisfied: pytz>=2017.2 in /usr/local/lib/python3.7/dist-packages (from pandas->shap) (2018.9)\n",
            "Requirement already satisfied: python-dateutil>=2.7.3 in /usr/local/lib/python3.7/dist-packages (from pandas->shap) (2.8.1)\n",
            "Requirement already satisfied: setuptools in /usr/local/lib/python3.7/dist-packages (from numba->shap) (54.0.0)\n",
            "Requirement already satisfied: llvmlite<0.35,>=0.34.0.dev0 in /usr/local/lib/python3.7/dist-packages (from numba->shap) (0.34.0)\n",
            "Requirement already satisfied: six>=1.5 in /usr/local/lib/python3.7/dist-packages (from python-dateutil>=2.7.3->pandas->shap) (1.15.0)\n",
            "Building wheels for collected packages: shap\n",
            "  Building wheel for shap (setup.py) ... \u001b[?25l\u001b[?25hdone\n",
            "  Created wheel for shap: filename=shap-0.39.0-cp37-cp37m-linux_x86_64.whl size=491629 sha256=ef7a04fd6dc3f167c3edb267bc491c15c19f597e2625985d551af46725d958c8\n",
            "  Stored in directory: /root/.cache/pip/wheels/15/27/f5/a8ab9da52fd159aae6477b5ede6eaaec69fd130fa0fa59f283\n",
            "Successfully built shap\n",
            "Installing collected packages: slicer, shap\n",
            "Successfully installed shap-0.39.0 slicer-0.0.7\n",
            "Collecting datasets\n",
            "\u001b[?25l  Downloading https://files.pythonhosted.org/packages/3e/73/742d17d8a9a1c639132affccc9250f0743e484cbf263ede6ddcbe34ef212/datasets-1.4.1-py3-none-any.whl (186kB)\n",
            "\u001b[K     |████████████████████████████████| 194kB 10.7MB/s \n",
            "\u001b[?25hRequirement already satisfied: multiprocess in /usr/local/lib/python3.7/dist-packages (from datasets) (0.70.11.1)\n",
            "Requirement already satisfied: dill in /usr/local/lib/python3.7/dist-packages (from datasets) (0.3.3)\n",
            "Collecting fsspec\n",
            "\u001b[?25l  Downloading https://files.pythonhosted.org/packages/91/0d/a6bfee0ddf47b254286b9bd574e6f50978c69897647ae15b14230711806e/fsspec-0.8.7-py3-none-any.whl (103kB)\n",
            "\u001b[K     |████████████████████████████████| 112kB 10.7MB/s \n",
            "\u001b[?25hRequirement already satisfied: tqdm<4.50.0,>=4.27 in /usr/local/lib/python3.7/dist-packages (from datasets) (4.41.1)\n",
            "Requirement already satisfied: pyarrow>=0.17.1 in /usr/local/lib/python3.7/dist-packages (from datasets) (3.0.0)\n",
            "Requirement already satisfied: importlib-metadata; python_version < \"3.8\" in /usr/local/lib/python3.7/dist-packages (from datasets) (3.7.0)\n",
            "Collecting xxhash\n",
            "\u001b[?25l  Downloading https://files.pythonhosted.org/packages/e7/27/1c0b37c53a7852f1c190ba5039404d27b3ae96a55f48203a74259f8213c9/xxhash-2.0.0-cp37-cp37m-manylinux2010_x86_64.whl (243kB)\n",
            "\u001b[K     |████████████████████████████████| 245kB 15.5MB/s \n",
            "\u001b[?25hRequirement already satisfied: numpy>=1.17 in /usr/local/lib/python3.7/dist-packages (from datasets) (1.19.5)\n",
            "Requirement already satisfied: requests>=2.19.0 in /usr/local/lib/python3.7/dist-packages (from datasets) (2.23.0)\n",
            "Requirement already satisfied: pandas in /usr/local/lib/python3.7/dist-packages (from datasets) (1.1.5)\n",
            "Collecting huggingface-hub==0.0.2\n",
            "  Downloading https://files.pythonhosted.org/packages/b5/93/7cb0755c62c36cdadc70c79a95681df685b52cbaf76c724facb6ecac3272/huggingface_hub-0.0.2-py3-none-any.whl\n",
            "Requirement already satisfied: zipp>=0.5 in /usr/local/lib/python3.7/dist-packages (from importlib-metadata; python_version < \"3.8\"->datasets) (3.4.0)\n",
            "Requirement already satisfied: typing-extensions>=3.6.4; python_version < \"3.8\" in /usr/local/lib/python3.7/dist-packages (from importlib-metadata; python_version < \"3.8\"->datasets) (3.7.4.3)\n",
            "Requirement already satisfied: idna<3,>=2.5 in /usr/local/lib/python3.7/dist-packages (from requests>=2.19.0->datasets) (2.10)\n",
            "Requirement already satisfied: certifi>=2017.4.17 in /usr/local/lib/python3.7/dist-packages (from requests>=2.19.0->datasets) (2020.12.5)\n",
            "Requirement already satisfied: chardet<4,>=3.0.2 in /usr/local/lib/python3.7/dist-packages (from requests>=2.19.0->datasets) (3.0.4)\n",
            "Requirement already satisfied: urllib3!=1.25.0,!=1.25.1,<1.26,>=1.21.1 in /usr/local/lib/python3.7/dist-packages (from requests>=2.19.0->datasets) (1.24.3)\n",
            "Requirement already satisfied: pytz>=2017.2 in /usr/local/lib/python3.7/dist-packages (from pandas->datasets) (2018.9)\n",
            "Requirement already satisfied: python-dateutil>=2.7.3 in /usr/local/lib/python3.7/dist-packages (from pandas->datasets) (2.8.1)\n",
            "Requirement already satisfied: filelock in /usr/local/lib/python3.7/dist-packages (from huggingface-hub==0.0.2->datasets) (3.0.12)\n",
            "Requirement already satisfied: six>=1.5 in /usr/local/lib/python3.7/dist-packages (from python-dateutil>=2.7.3->pandas->datasets) (1.15.0)\n",
            "Installing collected packages: fsspec, xxhash, huggingface-hub, datasets\n",
            "Successfully installed datasets-1.4.1 fsspec-0.8.7 huggingface-hub-0.0.2 xxhash-2.0.0\n",
            "Collecting transformers\n",
            "\u001b[?25l  Downloading https://files.pythonhosted.org/packages/f9/54/5ca07ec9569d2f232f3166de5457b63943882f7950ddfcc887732fc7fb23/transformers-4.3.3-py3-none-any.whl (1.9MB)\n",
            "\u001b[K     |████████████████████████████████| 1.9MB 10.9MB/s \n",
            "\u001b[?25hCollecting sacremoses\n",
            "\u001b[?25l  Downloading https://files.pythonhosted.org/packages/7d/34/09d19aff26edcc8eb2a01bed8e98f13a1537005d31e95233fd48216eed10/sacremoses-0.0.43.tar.gz (883kB)\n",
            "\u001b[K     |████████████████████████████████| 890kB 37.8MB/s \n",
            "\u001b[?25hRequirement already satisfied: regex!=2019.12.17 in /usr/local/lib/python3.7/dist-packages (from transformers) (2019.12.20)\n",
            "Requirement already satisfied: tqdm>=4.27 in /usr/local/lib/python3.7/dist-packages (from transformers) (4.41.1)\n",
            "Collecting tokenizers<0.11,>=0.10.1\n",
            "\u001b[?25l  Downloading https://files.pythonhosted.org/packages/71/23/2ddc317b2121117bf34dd00f5b0de194158f2a44ee2bf5e47c7166878a97/tokenizers-0.10.1-cp37-cp37m-manylinux2010_x86_64.whl (3.2MB)\n",
            "\u001b[K     |████████████████████████████████| 3.2MB 38.0MB/s \n",
            "\u001b[?25hRequirement already satisfied: numpy>=1.17 in /usr/local/lib/python3.7/dist-packages (from transformers) (1.19.5)\n",
            "Requirement already satisfied: importlib-metadata; python_version < \"3.8\" in /usr/local/lib/python3.7/dist-packages (from transformers) (3.7.0)\n",
            "Requirement already satisfied: filelock in /usr/local/lib/python3.7/dist-packages (from transformers) (3.0.12)\n",
            "Requirement already satisfied: packaging in /usr/local/lib/python3.7/dist-packages (from transformers) (20.9)\n",
            "Requirement already satisfied: requests in /usr/local/lib/python3.7/dist-packages (from transformers) (2.23.0)\n",
            "Requirement already satisfied: six in /usr/local/lib/python3.7/dist-packages (from sacremoses->transformers) (1.15.0)\n",
            "Requirement already satisfied: click in /usr/local/lib/python3.7/dist-packages (from sacremoses->transformers) (7.1.2)\n",
            "Requirement already satisfied: joblib in /usr/local/lib/python3.7/dist-packages (from sacremoses->transformers) (1.0.1)\n",
            "Requirement already satisfied: typing-extensions>=3.6.4; python_version < \"3.8\" in /usr/local/lib/python3.7/dist-packages (from importlib-metadata; python_version < \"3.8\"->transformers) (3.7.4.3)\n",
            "Requirement already satisfied: zipp>=0.5 in /usr/local/lib/python3.7/dist-packages (from importlib-metadata; python_version < \"3.8\"->transformers) (3.4.0)\n",
            "Requirement already satisfied: pyparsing>=2.0.2 in /usr/local/lib/python3.7/dist-packages (from packaging->transformers) (2.4.7)\n",
            "Requirement already satisfied: certifi>=2017.4.17 in /usr/local/lib/python3.7/dist-packages (from requests->transformers) (2020.12.5)\n",
            "Requirement already satisfied: idna<3,>=2.5 in /usr/local/lib/python3.7/dist-packages (from requests->transformers) (2.10)\n",
            "Requirement already satisfied: urllib3!=1.25.0,!=1.25.1,<1.26,>=1.21.1 in /usr/local/lib/python3.7/dist-packages (from requests->transformers) (1.24.3)\n",
            "Requirement already satisfied: chardet<4,>=3.0.2 in /usr/local/lib/python3.7/dist-packages (from requests->transformers) (3.0.4)\n",
            "Building wheels for collected packages: sacremoses\n",
            "  Building wheel for sacremoses (setup.py) ... \u001b[?25l\u001b[?25hdone\n",
            "  Created wheel for sacremoses: filename=sacremoses-0.0.43-cp37-none-any.whl size=893262 sha256=98f4ade8e2435a26741811d1e0022bc78d11b22342a6f0a4f23314b3b01b0940\n",
            "  Stored in directory: /root/.cache/pip/wheels/29/3c/fd/7ce5c3f0666dab31a50123635e6fb5e19ceb42ce38d4e58f45\n",
            "Successfully built sacremoses\n",
            "Installing collected packages: sacremoses, tokenizers, transformers\n",
            "Successfully installed sacremoses-0.0.43 tokenizers-0.10.1 transformers-4.3.3\n"
          ],
          "name": "stdout"
        }
      ]
    },
    {
      "cell_type": "code",
      "metadata": {
        "id": "kOK5m6Kl2QRV"
      },
      "source": [
        "import shap\n",
        "import datasets\n",
        "from sklearn.metrics import classification_report\n",
        "import pandas as pd\n",
        "import numpy as np\n",
        "import scipy as sp\n",
        "import random\n",
        "from IPython.display import display, HTML\n",
        "import torch\n",
        "import torch.nn as nn\n",
        "import torch.nn.functional as F\n",
        "import torch.optim as optim\n",
        "import torchtext\n",
        "from transformers import BertModel\n",
        "from transformers import BertTokenizer\n",
        "\n",
        "# データセット格納先\n",
        "drive_dir = \"drive/MyDrive/SHAP_NLP/\""
      ],
      "execution_count": 3,
      "outputs": []
    },
    {
      "cell_type": "code",
      "metadata": {
        "colab": {
          "base_uri": "https://localhost:8080/",
          "height": 164,
          "referenced_widgets": [
            "151f4fa37efa4cdca00c8d5689842f2a",
            "27c69b0806704404a41d419c39717346",
            "e299bd73ca6149c7b191442c35e6f63d",
            "531a0412266841bda6ea641112ffd025",
            "38e7108aaefc4302bce3530c46756d9f",
            "08f5660f2a62440596f9dd4f68bf989a",
            "26ad7aeb2ca44ee4b4fd8778dad126e2",
            "0a2f7684a6d14256988ebb8ec8bfde18",
            "4a66287dc70e441b8f9b6a9cc016c620",
            "007ff63f7c20481588a7bc2ba82ad9c1",
            "285bc1ac372d49db9a72708abd26d2e9",
            "7fefed915aee4f5da96b5c2a2e1f40fe",
            "ca5929a54b284cbfa7c29d930a7d0a70",
            "6e4d9d8fb9084bcdbd0929de5db26eef",
            "3f2be223116040f2a94420f0dcac9c32",
            "4d89149a854d4849af7b78bb44b3c125",
            "e9c2d278acf04921b1f4489f0abfeabd",
            "20f69b80e9704a1d88b5d0612ed26a20",
            "5be306b18e324c848175a222b0b1d544",
            "bc9c0d58c4bf4964ad7fe2de3b55cc50",
            "69fc516c8d5b43c9b22128b1f41d3554",
            "440756d7ba414c4b912598559385e64b",
            "5689e55e9a1f4d999f9606dc94299d61",
            "5ad9f8b9fcdf4b0ba6934ec2e099d771"
          ]
        },
        "id": "MRUs0oqn2pP1",
        "outputId": "26a6a11f-63e9-4d07-d025-0b4797cdd875"
      },
      "source": [
        "# cased->大文字と小文字を区別しない\n",
        "# uncased->大文字と小文字を区別する\n",
        "tokenizer = BertTokenizer.from_pretrained('bert-base-cased')\n",
        "model = BertModel.from_pretrained(\"bert-base-cased\")"
      ],
      "execution_count": 4,
      "outputs": [
        {
          "output_type": "display_data",
          "data": {
            "application/vnd.jupyter.widget-view+json": {
              "model_id": "151f4fa37efa4cdca00c8d5689842f2a",
              "version_minor": 0,
              "version_major": 2
            },
            "text/plain": [
              "HBox(children=(FloatProgress(value=0.0, description='Downloading', max=213450.0, style=ProgressStyle(descripti…"
            ]
          },
          "metadata": {
            "tags": []
          }
        },
        {
          "output_type": "stream",
          "text": [
            "\n"
          ],
          "name": "stdout"
        },
        {
          "output_type": "display_data",
          "data": {
            "application/vnd.jupyter.widget-view+json": {
              "model_id": "4a66287dc70e441b8f9b6a9cc016c620",
              "version_minor": 0,
              "version_major": 2
            },
            "text/plain": [
              "HBox(children=(FloatProgress(value=0.0, description='Downloading', max=433.0, style=ProgressStyle(description_…"
            ]
          },
          "metadata": {
            "tags": []
          }
        },
        {
          "output_type": "stream",
          "text": [
            "\n"
          ],
          "name": "stdout"
        },
        {
          "output_type": "display_data",
          "data": {
            "application/vnd.jupyter.widget-view+json": {
              "model_id": "e9c2d278acf04921b1f4489f0abfeabd",
              "version_minor": 0,
              "version_major": 2
            },
            "text/plain": [
              "HBox(children=(FloatProgress(value=0.0, description='Downloading', max=435779157.0, style=ProgressStyle(descri…"
            ]
          },
          "metadata": {
            "tags": []
          }
        },
        {
          "output_type": "stream",
          "text": [
            "\n"
          ],
          "name": "stdout"
        }
      ]
    },
    {
      "cell_type": "code",
      "metadata": {
        "colab": {
          "base_uri": "https://localhost:8080/",
          "height": 333,
          "referenced_widgets": [
            "9c92bb533c284e7c8f863fa71ef8b43c",
            "b19fa6ed31ab4eee928e4bbbaf93cd26",
            "2d6c3cc8e9814e14aa87ab5ea5fad605",
            "40fbcc5d4e0047d186f4d9cf59b2ab78",
            "df41d0166e2d471c9332a1c7e3e9caa1",
            "b2a06cd18cfd4ae9966908860eac5855",
            "8dc7e3798de04e81be21249bb0b988e9",
            "204f631cd2d84f8a98e7568b4cdbdd32",
            "ee5a08ec15a04b60a428df35cd9084cc",
            "546e759cd7e24196a2ca8a51e8435594",
            "0cd357a4e053477c8cad5701c73070d9",
            "6295f23ef1744b09a6fe83b88b5b864d",
            "3a3f2d98d2da472e9468e3241045923d",
            "fb32886255c148e08335ab4152f110ec",
            "c2d2af160c644c9897238a517347fa30",
            "6eca65996eb14e59890135923a21f305",
            "4e0a2cf62c8a420180df6af3bb81c302",
            "f27c543ff19f405589289ae877443ea4",
            "41614c6548d144b98316688edf9557d1",
            "1588e7ffecb7438388021a7bb6365ef3",
            "668c33a9cd7a47458d79e41213d554a0",
            "a2c7f8c55751473898d3dd53772b1af3",
            "d7b2748ce6174e9e98fa08bb6c085ee5",
            "9c6f09d37e39424b916caf6b15afef1c",
            "9b5f02f6c762499086a6ba600b7a7eea",
            "670f2886c2b64bb2aad29fb0d7b6e9bb",
            "03272fef91a64713b690cbd61d233ee1",
            "9825ecd174db443394dc60f545cc47c2",
            "a4390cc691254f73a2d5964c08978e1d",
            "7a913ef50de74ba4821150776244f2c5",
            "8271d7186e9d403086d77399f1cc73d4",
            "fafbc731553643caad9004965445be06",
            "8e9e92bf98aa4a628ddd1646c831ae58",
            "d4f0e777745a45c9bab4775dd62b8b2b",
            "f6b749f49fe548788ce9236401937c64",
            "d7e68326749d49c4961dbfcbd61cf92a",
            "e337aec9a3fe4624939ec021f6c1cc15",
            "8767f5c6504f443ab5c843e59ef0f462",
            "a694cc47c60c4ceaa54a4866b49af352",
            "be93f8fb57a548a8964ab2b48029cd56",
            "0800a3c0ecbd489cb4b61c1a10f5ad7a",
            "5dad3d3586a74b33896132244a07a384",
            "8f85dc09aa5b458a8fd5415b75810ab2",
            "6fba8a1df84d4a8aaa12d7243af0543f",
            "170555989a1e458ea9381700c5ccaa9c",
            "a07b417cfcd341e8b716ef530dec7f7a",
            "85fd0f1503b04d6e82c5018c49e34d14",
            "b468e9507c074aa2932ebe84eccd6984",
            "3fc8a86d2da5430f9181c3f041d16c59",
            "8f62e649654547cb85837608f9687299",
            "ebf5fac680004a2eb4f0443f0e6ccd31",
            "b0ea712a2da6410fa8a3924f07fd6957",
            "3d9171151cbd46d6b20418ce2cf29679",
            "863b0003eba34ecca00d7df99fc95cec",
            "1cb6f5857ee74674b4ae1577cc88252e",
            "7fff6e8315d6485c88bf2bc98d1c002c",
            "b475f7d719b34a699b285fad4aae26e5",
            "1808740755a74acb82c56e77b9603aef",
            "97b959f25e354476965ad24bc8f9a147",
            "5c38b97a57f34d7bb10443c386e69e98",
            "a560d62562eb46b3bc825ea384490f92",
            "9b00953b703143749a671900fd2cbec0",
            "b62e718ab89b402fb28eb7a01cd15f53",
            "1bd8862cfb7e4759abae10ba2ad1c65b"
          ]
        },
        "id": "BYb43fEz2rdV",
        "outputId": "8976cc6f-40ec-4f04-84f8-d73e90c07de1"
      },
      "source": [
        "emotion_dataset = datasets.load_dataset('emotion')"
      ],
      "execution_count": 5,
      "outputs": [
        {
          "output_type": "display_data",
          "data": {
            "application/vnd.jupyter.widget-view+json": {
              "model_id": "9c92bb533c284e7c8f863fa71ef8b43c",
              "version_minor": 0,
              "version_major": 2
            },
            "text/plain": [
              "HBox(children=(FloatProgress(value=0.0, description='Downloading', max=1636.0, style=ProgressStyle(description…"
            ]
          },
          "metadata": {
            "tags": []
          }
        },
        {
          "output_type": "stream",
          "text": [
            "\n"
          ],
          "name": "stdout"
        },
        {
          "output_type": "display_data",
          "data": {
            "application/vnd.jupyter.widget-view+json": {
              "model_id": "ee5a08ec15a04b60a428df35cd9084cc",
              "version_minor": 0,
              "version_major": 2
            },
            "text/plain": [
              "HBox(children=(FloatProgress(value=0.0, description='Downloading', max=1649.0, style=ProgressStyle(description…"
            ]
          },
          "metadata": {
            "tags": []
          }
        },
        {
          "output_type": "stream",
          "text": [
            "Using custom data configuration default\n"
          ],
          "name": "stderr"
        },
        {
          "output_type": "stream",
          "text": [
            "\n",
            "Downloading and preparing dataset emotion/default (download: 1.97 MiB, generated: 2.07 MiB, post-processed: Unknown size, total: 4.05 MiB) to /root/.cache/huggingface/datasets/emotion/default/0.0.0/aa34462255cd487d04be8387a2d572588f6ceee23f784f37365aa714afeb8fe6...\n"
          ],
          "name": "stdout"
        },
        {
          "output_type": "display_data",
          "data": {
            "application/vnd.jupyter.widget-view+json": {
              "model_id": "4e0a2cf62c8a420180df6af3bb81c302",
              "version_minor": 0,
              "version_major": 2
            },
            "text/plain": [
              "HBox(children=(FloatProgress(value=0.0, description='Downloading', max=1658616.0, style=ProgressStyle(descript…"
            ]
          },
          "metadata": {
            "tags": []
          }
        },
        {
          "output_type": "stream",
          "text": [
            "\n"
          ],
          "name": "stdout"
        },
        {
          "output_type": "display_data",
          "data": {
            "application/vnd.jupyter.widget-view+json": {
              "model_id": "9b5f02f6c762499086a6ba600b7a7eea",
              "version_minor": 0,
              "version_major": 2
            },
            "text/plain": [
              "HBox(children=(FloatProgress(value=0.0, description='Downloading', max=204240.0, style=ProgressStyle(descripti…"
            ]
          },
          "metadata": {
            "tags": []
          }
        },
        {
          "output_type": "stream",
          "text": [
            "\n"
          ],
          "name": "stdout"
        },
        {
          "output_type": "display_data",
          "data": {
            "application/vnd.jupyter.widget-view+json": {
              "model_id": "8e9e92bf98aa4a628ddd1646c831ae58",
              "version_minor": 0,
              "version_major": 2
            },
            "text/plain": [
              "HBox(children=(FloatProgress(value=0.0, description='Downloading', max=206760.0, style=ProgressStyle(descripti…"
            ]
          },
          "metadata": {
            "tags": []
          }
        },
        {
          "output_type": "stream",
          "text": [
            "\n"
          ],
          "name": "stdout"
        },
        {
          "output_type": "display_data",
          "data": {
            "application/vnd.jupyter.widget-view+json": {
              "model_id": "0800a3c0ecbd489cb4b61c1a10f5ad7a",
              "version_minor": 0,
              "version_major": 2
            },
            "text/plain": [
              "HBox(children=(FloatProgress(value=1.0, bar_style='info', max=1.0), HTML(value='')))"
            ]
          },
          "metadata": {
            "tags": []
          }
        },
        {
          "output_type": "stream",
          "text": [
            "\r"
          ],
          "name": "stdout"
        },
        {
          "output_type": "display_data",
          "data": {
            "application/vnd.jupyter.widget-view+json": {
              "model_id": "3fc8a86d2da5430f9181c3f041d16c59",
              "version_minor": 0,
              "version_major": 2
            },
            "text/plain": [
              "HBox(children=(FloatProgress(value=1.0, bar_style='info', max=1.0), HTML(value='')))"
            ]
          },
          "metadata": {
            "tags": []
          }
        },
        {
          "output_type": "stream",
          "text": [
            "\r"
          ],
          "name": "stdout"
        },
        {
          "output_type": "display_data",
          "data": {
            "application/vnd.jupyter.widget-view+json": {
              "model_id": "b475f7d719b34a699b285fad4aae26e5",
              "version_minor": 0,
              "version_major": 2
            },
            "text/plain": [
              "HBox(children=(FloatProgress(value=1.0, bar_style='info', max=1.0), HTML(value='')))"
            ]
          },
          "metadata": {
            "tags": []
          }
        },
        {
          "output_type": "stream",
          "text": [
            "\rDataset emotion downloaded and prepared to /root/.cache/huggingface/datasets/emotion/default/0.0.0/aa34462255cd487d04be8387a2d572588f6ceee23f784f37365aa714afeb8fe6. Subsequent calls will reuse this data.\n"
          ],
          "name": "stdout"
        }
      ]
    },
    {
      "cell_type": "code",
      "metadata": {
        "id": "vl9ZuKoR2uFf"
      },
      "source": [
        "# まずはDataFrameに変換\n",
        "# 学習データ\n",
        "train_df = pd.DataFrame(emotion_dataset['train']['text'], columns=['text'])\n",
        "train_df['label'] = emotion_dataset['train']['label']\n",
        "# テストデータ\n",
        "test_df = pd.DataFrame(emotion_dataset['test']['text'], columns=['text'])\n",
        "test_df['label'] = emotion_dataset['test']['label']\n",
        "\n",
        "# tsvファイルとして保存。保存先はマウントしたGoogle Drive\n",
        "train_df.to_csv(drive_dir + 'train.tsv', sep='\\t', index=False, header=None)\n",
        "test_df.to_csv(drive_dir + 'test.tsv', sep='\\t', index=False, header=None)\n",
        "\n",
        "# 正解ラベルの数\n",
        "# emotion datasetのラベルの数は6つです。\n",
        "LABEL_NUM = len(set(train_df['label'])) \n",
        "# LABEL_NUM = 6\n",
        "\n",
        "# ちなみに各ラベルの意味は以下の通りです。\n",
        "labels = [\"sadness\", \"joy\", \"love\", \"anger\", \"fear\", \"surprise\"]\n",
        "\n",
        "# 後ほど使うので、ラベルIDをラベルに変換、ラベルをラベルIDに変換する辞書をそれぞれ作成しておきます。\n",
        "id2label = {i:labels[i] for i in range(len(labels))}\n",
        "label2id = {label:labels.index(label) for label in labels}"
      ],
      "execution_count": 6,
      "outputs": []
    },
    {
      "cell_type": "code",
      "metadata": {
        "colab": {
          "base_uri": "https://localhost:8080/"
        },
        "id": "gOgBxI892v7E",
        "outputId": "83d4f914-1eec-4594-d38d-e1e2e28dee0f"
      },
      "source": [
        "# 英語版のBERTはtokenizerのoutputが辞書形式で返却されるようで\n",
        "# 分かち書きのtoken idのリストは'input_ids'キーに格納されています。\n",
        "# BERT modelの引数に対応した形のようです。\n",
        "# Reference: https://huggingface.co/transformers/model_doc/bert.html\n",
        "print(tokenizer(train_df['text'][0]))\n",
        "# {'input_ids': [101, 178, 1238, 1204, 1631, 21820, 21896, 102], 'token_type_ids': [0, 0, 0, 0, 0, 0, 0, 0], 'attention_mask': [1, 1, 1, 1, 1, 1, 1, 1]}\n",
        "\n",
        "def encode(text):\n",
        "    return tokenizer(text)['input_ids']\n",
        "\n",
        "TEXT = torchtext.data.Field(sequential=True, tokenize=encode, use_vocab=False, lower=False, include_lengths=True, batch_first=True, pad_token=0)\n",
        "LABEL = torchtext.data.Field(sequential=False, use_vocab=False)\n",
        "\n",
        "train_data, test_data = torchtext.data.TabularDataset.splits(path=drive_dir, train='train.tsv', test='test.tsv', format='tsv', fields=[('Text', TEXT), ('Label', LABEL)])\n",
        "\n",
        "BATCH_SIZE = 32\n",
        "train_iter, test_iter = torchtext.data.Iterator.splits((train_data, test_data), batch_sizes=(BATCH_SIZE, BATCH_SIZE), repeat=False, sort=False)"
      ],
      "execution_count": 7,
      "outputs": [
        {
          "output_type": "stream",
          "text": [
            "{'input_ids': [101, 178, 1238, 1204, 1631, 21820, 21896, 102], 'token_type_ids': [0, 0, 0, 0, 0, 0, 0, 0], 'attention_mask': [1, 1, 1, 1, 1, 1, 1, 1]}\n"
          ],
          "name": "stdout"
        }
      ]
    },
    {
      "cell_type": "code",
      "metadata": {
        "id": "EeHkZ7Po2za3"
      },
      "source": [
        "class BertClassifier(nn.Module):\n",
        "  def __init__(self, base_model, label_num):\n",
        "    super(BertClassifier, self).__init__()\n",
        "    self.bert = base_model\n",
        "    # BERTのアウトプットの次元数は768次元、label_numは正解ラベルの数を指定する\n",
        "    self.linear = nn.Linear(768, label_num) \n",
        "\n",
        "    # 重み初期化処理\n",
        "    nn.init.normal_(self.linear.weight, std=0.02)\n",
        "    nn.init.normal_(self.linear.bias, 0)\n",
        "\n",
        "  def forward(self, encode_input):\n",
        "    # Attentionの可視化も行いたいので、output_attentions=Trueを指定してます。\n",
        "    output = self.bert(encode_input, output_attentions=True)\n",
        "\n",
        "    # outputが辞書形式になっているので、必要な出力のキーを指定して取得する\n",
        "    vec = output['last_hidden_state']\n",
        "    attentions = output['attentions']\n",
        "\n",
        "    # 先頭トークンCLSのベクトルだけ取得\n",
        "    vec = vec[:,0,:]\n",
        "    vec = vec.view(-1, 768)\n",
        "\n",
        "    # 全結合層でクラス分類用に次元を変換\n",
        "    vec = self.linear(vec)\n",
        "\n",
        "    return F.log_softmax(vec, dim=1), attentions\n",
        "\n",
        "classifier = BertClassifier(base_model=model, label_num=LABEL_NUM)"
      ],
      "execution_count": 8,
      "outputs": []
    },
    {
      "cell_type": "code",
      "metadata": {
        "colab": {
          "base_uri": "https://localhost:8080/"
        },
        "id": "YSA0hlP824MQ",
        "outputId": "04c62146-b3bd-4a4c-eafb-8a677c52a66f"
      },
      "source": [
        "# まずは全パラメータを学習対象外にする\n",
        "for param in classifier.parameters():\n",
        "    param.requires_grad = False\n",
        "\n",
        "# BERTモデルの最後の層を学習対象\n",
        "for param in classifier.bert.encoder.layer[-1].parameters():\n",
        "    param.requires_grad = True\n",
        "\n",
        "# 最後の全結合層を学習対象\n",
        "for param in classifier.linear.parameters():\n",
        "    param.requires_grad = True\n",
        "\n",
        "# 最適化関数、損失関数の定義\n",
        "optimizer = optim.Adam([\n",
        "    {'params': classifier.bert.encoder.layer[-1].parameters(), 'lr': 5e-5},\n",
        "    {'params': classifier.linear.parameters(), 'lr': 1e-4}\n",
        "])\n",
        "\n",
        "loss_function = nn.NLLLoss()\n",
        "\n",
        "device = torch.device(\"cuda:0\" if torch.cuda.is_available() else \"cpu\")\n",
        "classifier.to(device)"
      ],
      "execution_count": 9,
      "outputs": [
        {
          "output_type": "execute_result",
          "data": {
            "text/plain": [
              "BertClassifier(\n",
              "  (bert): BertModel(\n",
              "    (embeddings): BertEmbeddings(\n",
              "      (word_embeddings): Embedding(28996, 768, padding_idx=0)\n",
              "      (position_embeddings): Embedding(512, 768)\n",
              "      (token_type_embeddings): Embedding(2, 768)\n",
              "      (LayerNorm): LayerNorm((768,), eps=1e-12, elementwise_affine=True)\n",
              "      (dropout): Dropout(p=0.1, inplace=False)\n",
              "    )\n",
              "    (encoder): BertEncoder(\n",
              "      (layer): ModuleList(\n",
              "        (0): BertLayer(\n",
              "          (attention): BertAttention(\n",
              "            (self): BertSelfAttention(\n",
              "              (query): Linear(in_features=768, out_features=768, bias=True)\n",
              "              (key): Linear(in_features=768, out_features=768, bias=True)\n",
              "              (value): Linear(in_features=768, out_features=768, bias=True)\n",
              "              (dropout): Dropout(p=0.1, inplace=False)\n",
              "            )\n",
              "            (output): BertSelfOutput(\n",
              "              (dense): Linear(in_features=768, out_features=768, bias=True)\n",
              "              (LayerNorm): LayerNorm((768,), eps=1e-12, elementwise_affine=True)\n",
              "              (dropout): Dropout(p=0.1, inplace=False)\n",
              "            )\n",
              "          )\n",
              "          (intermediate): BertIntermediate(\n",
              "            (dense): Linear(in_features=768, out_features=3072, bias=True)\n",
              "          )\n",
              "          (output): BertOutput(\n",
              "            (dense): Linear(in_features=3072, out_features=768, bias=True)\n",
              "            (LayerNorm): LayerNorm((768,), eps=1e-12, elementwise_affine=True)\n",
              "            (dropout): Dropout(p=0.1, inplace=False)\n",
              "          )\n",
              "        )\n",
              "        (1): BertLayer(\n",
              "          (attention): BertAttention(\n",
              "            (self): BertSelfAttention(\n",
              "              (query): Linear(in_features=768, out_features=768, bias=True)\n",
              "              (key): Linear(in_features=768, out_features=768, bias=True)\n",
              "              (value): Linear(in_features=768, out_features=768, bias=True)\n",
              "              (dropout): Dropout(p=0.1, inplace=False)\n",
              "            )\n",
              "            (output): BertSelfOutput(\n",
              "              (dense): Linear(in_features=768, out_features=768, bias=True)\n",
              "              (LayerNorm): LayerNorm((768,), eps=1e-12, elementwise_affine=True)\n",
              "              (dropout): Dropout(p=0.1, inplace=False)\n",
              "            )\n",
              "          )\n",
              "          (intermediate): BertIntermediate(\n",
              "            (dense): Linear(in_features=768, out_features=3072, bias=True)\n",
              "          )\n",
              "          (output): BertOutput(\n",
              "            (dense): Linear(in_features=3072, out_features=768, bias=True)\n",
              "            (LayerNorm): LayerNorm((768,), eps=1e-12, elementwise_affine=True)\n",
              "            (dropout): Dropout(p=0.1, inplace=False)\n",
              "          )\n",
              "        )\n",
              "        (2): BertLayer(\n",
              "          (attention): BertAttention(\n",
              "            (self): BertSelfAttention(\n",
              "              (query): Linear(in_features=768, out_features=768, bias=True)\n",
              "              (key): Linear(in_features=768, out_features=768, bias=True)\n",
              "              (value): Linear(in_features=768, out_features=768, bias=True)\n",
              "              (dropout): Dropout(p=0.1, inplace=False)\n",
              "            )\n",
              "            (output): BertSelfOutput(\n",
              "              (dense): Linear(in_features=768, out_features=768, bias=True)\n",
              "              (LayerNorm): LayerNorm((768,), eps=1e-12, elementwise_affine=True)\n",
              "              (dropout): Dropout(p=0.1, inplace=False)\n",
              "            )\n",
              "          )\n",
              "          (intermediate): BertIntermediate(\n",
              "            (dense): Linear(in_features=768, out_features=3072, bias=True)\n",
              "          )\n",
              "          (output): BertOutput(\n",
              "            (dense): Linear(in_features=3072, out_features=768, bias=True)\n",
              "            (LayerNorm): LayerNorm((768,), eps=1e-12, elementwise_affine=True)\n",
              "            (dropout): Dropout(p=0.1, inplace=False)\n",
              "          )\n",
              "        )\n",
              "        (3): BertLayer(\n",
              "          (attention): BertAttention(\n",
              "            (self): BertSelfAttention(\n",
              "              (query): Linear(in_features=768, out_features=768, bias=True)\n",
              "              (key): Linear(in_features=768, out_features=768, bias=True)\n",
              "              (value): Linear(in_features=768, out_features=768, bias=True)\n",
              "              (dropout): Dropout(p=0.1, inplace=False)\n",
              "            )\n",
              "            (output): BertSelfOutput(\n",
              "              (dense): Linear(in_features=768, out_features=768, bias=True)\n",
              "              (LayerNorm): LayerNorm((768,), eps=1e-12, elementwise_affine=True)\n",
              "              (dropout): Dropout(p=0.1, inplace=False)\n",
              "            )\n",
              "          )\n",
              "          (intermediate): BertIntermediate(\n",
              "            (dense): Linear(in_features=768, out_features=3072, bias=True)\n",
              "          )\n",
              "          (output): BertOutput(\n",
              "            (dense): Linear(in_features=3072, out_features=768, bias=True)\n",
              "            (LayerNorm): LayerNorm((768,), eps=1e-12, elementwise_affine=True)\n",
              "            (dropout): Dropout(p=0.1, inplace=False)\n",
              "          )\n",
              "        )\n",
              "        (4): BertLayer(\n",
              "          (attention): BertAttention(\n",
              "            (self): BertSelfAttention(\n",
              "              (query): Linear(in_features=768, out_features=768, bias=True)\n",
              "              (key): Linear(in_features=768, out_features=768, bias=True)\n",
              "              (value): Linear(in_features=768, out_features=768, bias=True)\n",
              "              (dropout): Dropout(p=0.1, inplace=False)\n",
              "            )\n",
              "            (output): BertSelfOutput(\n",
              "              (dense): Linear(in_features=768, out_features=768, bias=True)\n",
              "              (LayerNorm): LayerNorm((768,), eps=1e-12, elementwise_affine=True)\n",
              "              (dropout): Dropout(p=0.1, inplace=False)\n",
              "            )\n",
              "          )\n",
              "          (intermediate): BertIntermediate(\n",
              "            (dense): Linear(in_features=768, out_features=3072, bias=True)\n",
              "          )\n",
              "          (output): BertOutput(\n",
              "            (dense): Linear(in_features=3072, out_features=768, bias=True)\n",
              "            (LayerNorm): LayerNorm((768,), eps=1e-12, elementwise_affine=True)\n",
              "            (dropout): Dropout(p=0.1, inplace=False)\n",
              "          )\n",
              "        )\n",
              "        (5): BertLayer(\n",
              "          (attention): BertAttention(\n",
              "            (self): BertSelfAttention(\n",
              "              (query): Linear(in_features=768, out_features=768, bias=True)\n",
              "              (key): Linear(in_features=768, out_features=768, bias=True)\n",
              "              (value): Linear(in_features=768, out_features=768, bias=True)\n",
              "              (dropout): Dropout(p=0.1, inplace=False)\n",
              "            )\n",
              "            (output): BertSelfOutput(\n",
              "              (dense): Linear(in_features=768, out_features=768, bias=True)\n",
              "              (LayerNorm): LayerNorm((768,), eps=1e-12, elementwise_affine=True)\n",
              "              (dropout): Dropout(p=0.1, inplace=False)\n",
              "            )\n",
              "          )\n",
              "          (intermediate): BertIntermediate(\n",
              "            (dense): Linear(in_features=768, out_features=3072, bias=True)\n",
              "          )\n",
              "          (output): BertOutput(\n",
              "            (dense): Linear(in_features=3072, out_features=768, bias=True)\n",
              "            (LayerNorm): LayerNorm((768,), eps=1e-12, elementwise_affine=True)\n",
              "            (dropout): Dropout(p=0.1, inplace=False)\n",
              "          )\n",
              "        )\n",
              "        (6): BertLayer(\n",
              "          (attention): BertAttention(\n",
              "            (self): BertSelfAttention(\n",
              "              (query): Linear(in_features=768, out_features=768, bias=True)\n",
              "              (key): Linear(in_features=768, out_features=768, bias=True)\n",
              "              (value): Linear(in_features=768, out_features=768, bias=True)\n",
              "              (dropout): Dropout(p=0.1, inplace=False)\n",
              "            )\n",
              "            (output): BertSelfOutput(\n",
              "              (dense): Linear(in_features=768, out_features=768, bias=True)\n",
              "              (LayerNorm): LayerNorm((768,), eps=1e-12, elementwise_affine=True)\n",
              "              (dropout): Dropout(p=0.1, inplace=False)\n",
              "            )\n",
              "          )\n",
              "          (intermediate): BertIntermediate(\n",
              "            (dense): Linear(in_features=768, out_features=3072, bias=True)\n",
              "          )\n",
              "          (output): BertOutput(\n",
              "            (dense): Linear(in_features=3072, out_features=768, bias=True)\n",
              "            (LayerNorm): LayerNorm((768,), eps=1e-12, elementwise_affine=True)\n",
              "            (dropout): Dropout(p=0.1, inplace=False)\n",
              "          )\n",
              "        )\n",
              "        (7): BertLayer(\n",
              "          (attention): BertAttention(\n",
              "            (self): BertSelfAttention(\n",
              "              (query): Linear(in_features=768, out_features=768, bias=True)\n",
              "              (key): Linear(in_features=768, out_features=768, bias=True)\n",
              "              (value): Linear(in_features=768, out_features=768, bias=True)\n",
              "              (dropout): Dropout(p=0.1, inplace=False)\n",
              "            )\n",
              "            (output): BertSelfOutput(\n",
              "              (dense): Linear(in_features=768, out_features=768, bias=True)\n",
              "              (LayerNorm): LayerNorm((768,), eps=1e-12, elementwise_affine=True)\n",
              "              (dropout): Dropout(p=0.1, inplace=False)\n",
              "            )\n",
              "          )\n",
              "          (intermediate): BertIntermediate(\n",
              "            (dense): Linear(in_features=768, out_features=3072, bias=True)\n",
              "          )\n",
              "          (output): BertOutput(\n",
              "            (dense): Linear(in_features=3072, out_features=768, bias=True)\n",
              "            (LayerNorm): LayerNorm((768,), eps=1e-12, elementwise_affine=True)\n",
              "            (dropout): Dropout(p=0.1, inplace=False)\n",
              "          )\n",
              "        )\n",
              "        (8): BertLayer(\n",
              "          (attention): BertAttention(\n",
              "            (self): BertSelfAttention(\n",
              "              (query): Linear(in_features=768, out_features=768, bias=True)\n",
              "              (key): Linear(in_features=768, out_features=768, bias=True)\n",
              "              (value): Linear(in_features=768, out_features=768, bias=True)\n",
              "              (dropout): Dropout(p=0.1, inplace=False)\n",
              "            )\n",
              "            (output): BertSelfOutput(\n",
              "              (dense): Linear(in_features=768, out_features=768, bias=True)\n",
              "              (LayerNorm): LayerNorm((768,), eps=1e-12, elementwise_affine=True)\n",
              "              (dropout): Dropout(p=0.1, inplace=False)\n",
              "            )\n",
              "          )\n",
              "          (intermediate): BertIntermediate(\n",
              "            (dense): Linear(in_features=768, out_features=3072, bias=True)\n",
              "          )\n",
              "          (output): BertOutput(\n",
              "            (dense): Linear(in_features=3072, out_features=768, bias=True)\n",
              "            (LayerNorm): LayerNorm((768,), eps=1e-12, elementwise_affine=True)\n",
              "            (dropout): Dropout(p=0.1, inplace=False)\n",
              "          )\n",
              "        )\n",
              "        (9): BertLayer(\n",
              "          (attention): BertAttention(\n",
              "            (self): BertSelfAttention(\n",
              "              (query): Linear(in_features=768, out_features=768, bias=True)\n",
              "              (key): Linear(in_features=768, out_features=768, bias=True)\n",
              "              (value): Linear(in_features=768, out_features=768, bias=True)\n",
              "              (dropout): Dropout(p=0.1, inplace=False)\n",
              "            )\n",
              "            (output): BertSelfOutput(\n",
              "              (dense): Linear(in_features=768, out_features=768, bias=True)\n",
              "              (LayerNorm): LayerNorm((768,), eps=1e-12, elementwise_affine=True)\n",
              "              (dropout): Dropout(p=0.1, inplace=False)\n",
              "            )\n",
              "          )\n",
              "          (intermediate): BertIntermediate(\n",
              "            (dense): Linear(in_features=768, out_features=3072, bias=True)\n",
              "          )\n",
              "          (output): BertOutput(\n",
              "            (dense): Linear(in_features=3072, out_features=768, bias=True)\n",
              "            (LayerNorm): LayerNorm((768,), eps=1e-12, elementwise_affine=True)\n",
              "            (dropout): Dropout(p=0.1, inplace=False)\n",
              "          )\n",
              "        )\n",
              "        (10): BertLayer(\n",
              "          (attention): BertAttention(\n",
              "            (self): BertSelfAttention(\n",
              "              (query): Linear(in_features=768, out_features=768, bias=True)\n",
              "              (key): Linear(in_features=768, out_features=768, bias=True)\n",
              "              (value): Linear(in_features=768, out_features=768, bias=True)\n",
              "              (dropout): Dropout(p=0.1, inplace=False)\n",
              "            )\n",
              "            (output): BertSelfOutput(\n",
              "              (dense): Linear(in_features=768, out_features=768, bias=True)\n",
              "              (LayerNorm): LayerNorm((768,), eps=1e-12, elementwise_affine=True)\n",
              "              (dropout): Dropout(p=0.1, inplace=False)\n",
              "            )\n",
              "          )\n",
              "          (intermediate): BertIntermediate(\n",
              "            (dense): Linear(in_features=768, out_features=3072, bias=True)\n",
              "          )\n",
              "          (output): BertOutput(\n",
              "            (dense): Linear(in_features=3072, out_features=768, bias=True)\n",
              "            (LayerNorm): LayerNorm((768,), eps=1e-12, elementwise_affine=True)\n",
              "            (dropout): Dropout(p=0.1, inplace=False)\n",
              "          )\n",
              "        )\n",
              "        (11): BertLayer(\n",
              "          (attention): BertAttention(\n",
              "            (self): BertSelfAttention(\n",
              "              (query): Linear(in_features=768, out_features=768, bias=True)\n",
              "              (key): Linear(in_features=768, out_features=768, bias=True)\n",
              "              (value): Linear(in_features=768, out_features=768, bias=True)\n",
              "              (dropout): Dropout(p=0.1, inplace=False)\n",
              "            )\n",
              "            (output): BertSelfOutput(\n",
              "              (dense): Linear(in_features=768, out_features=768, bias=True)\n",
              "              (LayerNorm): LayerNorm((768,), eps=1e-12, elementwise_affine=True)\n",
              "              (dropout): Dropout(p=0.1, inplace=False)\n",
              "            )\n",
              "          )\n",
              "          (intermediate): BertIntermediate(\n",
              "            (dense): Linear(in_features=768, out_features=3072, bias=True)\n",
              "          )\n",
              "          (output): BertOutput(\n",
              "            (dense): Linear(in_features=3072, out_features=768, bias=True)\n",
              "            (LayerNorm): LayerNorm((768,), eps=1e-12, elementwise_affine=True)\n",
              "            (dropout): Dropout(p=0.1, inplace=False)\n",
              "          )\n",
              "        )\n",
              "      )\n",
              "    )\n",
              "    (pooler): BertPooler(\n",
              "      (dense): Linear(in_features=768, out_features=768, bias=True)\n",
              "      (activation): Tanh()\n",
              "    )\n",
              "  )\n",
              "  (linear): Linear(in_features=768, out_features=6, bias=True)\n",
              ")"
            ]
          },
          "metadata": {
            "tags": []
          },
          "execution_count": 9
        }
      ]
    },
    {
      "cell_type": "markdown",
      "metadata": {
        "id": "5vwu4EbM3E-j"
      },
      "source": [
        "5エポックだけ学習"
      ]
    },
    {
      "cell_type": "code",
      "metadata": {
        "colab": {
          "base_uri": "https://localhost:8080/"
        },
        "id": "QM_YFu7G25-T",
        "outputId": "29dd1cf6-fe5e-4ea2-d633-6d5d6e49345b"
      },
      "source": [
        "for epoch in range(5):\n",
        "  all_loss = 0\n",
        "  for idx, batch in enumerate(train_iter):\n",
        "    batch_loss = 0\n",
        "    classifier.zero_grad()\n",
        "    input_ids = batch.Text[0].to(device)\n",
        "    label_ids = batch.Label.to(device)\n",
        "    out, _ = classifier(input_ids)\n",
        "    batch_loss = loss_function(out, label_ids)\n",
        "    batch_loss.backward()\n",
        "    optimizer.step()\n",
        "    all_loss += batch_loss.item()\n",
        "  print(\"epoch\", epoch, \"\\t\" , \"loss\", all_loss)"
      ],
      "execution_count": 10,
      "outputs": [
        {
          "output_type": "stream",
          "text": [
            "epoch 0 \t loss 444.18480445444584\n",
            "epoch 1 \t loss 191.23112715780735\n",
            "epoch 2 \t loss 132.6342229731381\n",
            "epoch 3 \t loss 89.50549877993762\n",
            "epoch 4 \t loss 59.43214026791975\n"
          ],
          "name": "stdout"
        }
      ]
    },
    {
      "cell_type": "markdown",
      "metadata": {
        "id": "BMHd3cT63AZ5"
      },
      "source": [
        "F1-scoreで精度を確認"
      ]
    },
    {
      "cell_type": "code",
      "metadata": {
        "colab": {
          "base_uri": "https://localhost:8080/"
        },
        "id": "wM_rUc4u27zj",
        "outputId": "9c35f563-8b77-440d-d301-56d797687928"
      },
      "source": [
        "answer = []\n",
        "prediction = []\n",
        "with torch.no_grad():\n",
        "    for batch in test_iter:\n",
        "\n",
        "        text_tensor = batch.Text[0].to(device)\n",
        "        label_tensor = batch.Label.to(device)\n",
        "\n",
        "        score, _ = classifier(text_tensor)\n",
        "        _, pred = torch.max(score, 1)\n",
        "\n",
        "        prediction += list(pred.cpu().numpy())\n",
        "        answer += list(label_tensor.cpu().numpy())\n",
        "print(classification_report(prediction, answer, target_names=labels))"
      ],
      "execution_count": 11,
      "outputs": [
        {
          "output_type": "stream",
          "text": [
            "              precision    recall  f1-score   support\n",
            "\n",
            "     sadness       0.93      0.91      0.92       592\n",
            "         joy       0.92      0.89      0.90       716\n",
            "        love       0.75      0.77      0.76       154\n",
            "       anger       0.84      0.91      0.87       252\n",
            "        fear       0.84      0.83      0.83       227\n",
            "    surprise       0.62      0.69      0.66        59\n",
            "\n",
            "    accuracy                           0.88      2000\n",
            "   macro avg       0.82      0.84      0.82      2000\n",
            "weighted avg       0.88      0.88      0.88      2000\n",
            "\n"
          ],
          "name": "stdout"
        }
      ]
    },
    {
      "cell_type": "markdown",
      "metadata": {
        "id": "Re570JYp3LSF"
      },
      "source": [
        "#### SHAPを使ってモデルを解釈"
      ]
    },
    {
      "cell_type": "code",
      "metadata": {
        "id": "LYj0cXpu3Oyp"
      },
      "source": [
        "# shap.Explainerの引数modelに指定する関数を以下で定義\n",
        "# 引数のsentencesは自然文の配列を想定しています。\n",
        "# 自然文が1つだけの時はその文章を配列に変換してから使います。\n",
        "# max_lengthはテストデータの最大長さを指定しています。\n",
        "def f(sentences):\n",
        "    input_ids = torch.tensor([tokenizer.encode(text, padding='max_length', max_length=68) for text in sentences]).to(device)\n",
        "    with torch.no_grad():\n",
        "        out, _ = classifier(input_ids)\n",
        "    return out.detach().cpu()\n",
        "\n",
        "# SHAP値を計算するインスタンスを生成する\n",
        "explainer = shap.Explainer(model=f, masker=tokenizer, output_names=labels)\n",
        "\n",
        "# あとはSHAP値を計算したい自然文の配列をexplainerに渡せばOK\n",
        "# 後ほど実行するのでここではコメントアウトしますが、以下のように自然文をインプットすればOK\n",
        "# shap_values = explainer(sentences)"
      ],
      "execution_count": 12,
      "outputs": []
    },
    {
      "cell_type": "markdown",
      "metadata": {
        "id": "oTwDxcJ53UMR"
      },
      "source": [
        "#### Attentionとの比較も行いたいので諸々用意"
      ]
    },
    {
      "cell_type": "code",
      "metadata": {
        "id": "5zG9IYr33SBu"
      },
      "source": [
        "# SHAP値を算出するときと同様の方法でAttentionの結果を得られる関数を用意しておく\n",
        "def f_a(sentences):\n",
        "    input_ids = torch.tensor([tokenizer.encode(text, padding='max_length', max_length=68) for text in sentences]).to(device)\n",
        "    with torch.no_grad():\n",
        "        _, attn = classifier(input_ids)\n",
        "    return input_ids[0].detach().cpu(), attn[-1].detach().cpu()\n",
        "\n",
        "# 以下2つの関数はAttentionの結果を単語にハイライトするためのものです。\n",
        "# 以前書いた記事で使っていた関数を今回用に書き換えています。\n",
        "def highlight(word, attn):\n",
        "  html_color = '#%02X%02X%02X' % (255, int(255*(1 - attn)), int(255*(1 - attn)))\n",
        "  return '<span style=\"background-color: {}\">{}</span>'.format(html_color, word)\n",
        "\n",
        "def mk_html(input_ids, attention_weight):\n",
        "    # 文章の長さ分のzero tensorを宣言\n",
        "    seq_len = attention_weight.size()[2]\n",
        "    all_attens = torch.zeros(seq_len)\n",
        "\n",
        "    # 12個のMulti Head Attentionの結果を全部足し合わせる\n",
        "    # 最初の0はinput_idsは１文章だけを想定しているため\n",
        "    # 次の0はCLSトークンのAttention結果を取得している、という意味です。\n",
        "    for i in range(12):\n",
        "        all_attens += attention_weight[0, i, 0, :]\n",
        "\n",
        "    html = \"\"\n",
        "    for word, attn in zip(input_ids, all_attens):\n",
        "        if tokenizer.convert_ids_to_tokens([word.tolist()])[0] == \"[SEP]\":\n",
        "            break\n",
        "        html += highlight(tokenizer.convert_ids_to_tokens([word.numpy().tolist()])[0], attn) + \" \"\n",
        "\n",
        "    return html"
      ],
      "execution_count": 13,
      "outputs": []
    },
    {
      "cell_type": "markdown",
      "metadata": {
        "id": "-M_BPWWA3YvI"
      },
      "source": [
        "#### 1つの文章に対して使ってみる"
      ]
    },
    {
      "cell_type": "code",
      "metadata": {
        "colab": {
          "base_uri": "https://localhost:8080/"
        },
        "id": "_5XDh1_d3XDJ",
        "outputId": "3a98e2a1-dfc9-4566-ce2e-a9ffb3df21bc"
      },
      "source": [
        "idx = random.randint(0,len(test_df))\n",
        "sentence = test_df['text'][idx]\n",
        "answer = id2label[test_df['label'][idx]]\n",
        "predict = id2label[f([sentence]).argmax().item()]\n",
        "\n",
        "# Attentionの計算\n",
        "input_ids, attention = f_a([sentence])\n",
        "\n",
        "print(\"元文章\", sentence)\n",
        "print(\"正解ラベル\", answer)\n",
        "print(\"予測ラベル\", predict)\n",
        "# 元文章 i dont know if i should let go and feel that vain or should i wait and stay in vain\n",
        "# 正解ラベル sadness\n",
        "# 予測ラベル sadness\n",
        "\n",
        "# SHAP値を計算する\n",
        "# sentenceは１文章だけなので、[]で囲って配列として渡してます。\n",
        "shap_values = explainer([sentence])"
      ],
      "execution_count": 16,
      "outputs": [
        {
          "output_type": "stream",
          "text": [
            "元文章 i see the look of doubt on your face i feel the scorn in your eyes but for anyone skeptical of grits dinner grits please see this as a totally amazing sister to mashed potatoes\n",
            "正解ラベル fear\n",
            "予測ラベル joy\n"
          ],
          "name": "stdout"
        }
      ]
    },
    {
      "cell_type": "markdown",
      "metadata": {
        "id": "bkQxW41l3lNb"
      },
      "source": [
        "shap.plots.textに計算されたSHAP値を以下のように渡します。"
      ]
    },
    {
      "cell_type": "code",
      "metadata": {
        "colab": {
          "base_uri": "https://localhost:8080/",
          "height": 220
        },
        "id": "zkhtg8sl3bKS",
        "outputId": "77b2936c-634c-4f3d-8281-129005e21b6d"
      },
      "source": [
        "# Attention可視化\n",
        "print(\"■Attentionの可視化結果\")\n",
        "html_output = mk_html(input_ids, attention)\n",
        "display(HTML(html_output))\n",
        "print()\n",
        "\n",
        "print(\"■SHAPの可視化結果\")\n",
        "# shap.plots.textに計算したSHAP値を渡します。\n",
        "# どの単語や句が予測ラベルにどれくらい（プラスの方向、マイナスの方向に）効いていたかを可視化します。\n",
        "# 赤がプラス、青がマイナスの方向を表現しており、濃淡は度合いを表しています。\n",
        "shap.plots.text(shap_values[0,:,predict])"
      ],
      "execution_count": 17,
      "outputs": [
        {
          "output_type": "stream",
          "text": [
            "■Attentionの可視化結果\n"
          ],
          "name": "stdout"
        },
        {
          "output_type": "display_data",
          "data": {
            "text/html": [
              "<span style=\"background-color: #FFF3F3\">[CLS]</span> <span style=\"background-color: #FFF4F4\">i</span> <span style=\"background-color: #FFF8F8\">see</span> <span style=\"background-color: #FFF8F8\">the</span> <span style=\"background-color: #FFE1E1\">look</span> <span style=\"background-color: #FFF5F5\">of</span> <span style=\"background-color: #FF0E0E\">doubt</span> <span style=\"background-color: #FFFCFC\">on</span> <span style=\"background-color: #FFD5D5\">your</span> <span style=\"background-color: #FFF3F3\">face</span> <span style=\"background-color: #FFF5F5\">i</span> <span style=\"background-color: #FF4C4C\">feel</span> <span style=\"background-color: #FFF7F7\">the</span> <span style=\"background-color: #FFF8F8\">s</span> <span style=\"background-color: #FF-A6-A6\">##corn</span> <span style=\"background-color: #FFFDFD\">in</span> <span style=\"background-color: #FFF5F5\">your</span> <span style=\"background-color: #FFF8F8\">eyes</span> <span style=\"background-color: #FFF5F5\">but</span> <span style=\"background-color: #FFFAFA\">for</span> <span style=\"background-color: #FFEAEA\">anyone</span> <span style=\"background-color: #FF-196-196\">skeptical</span> <span style=\"background-color: #FFF5F5\">of</span> <span style=\"background-color: #FFFAFA\">g</span> <span style=\"background-color: #FFE3E3\">##rits</span> <span style=\"background-color: #FFE0E0\">dinner</span> <span style=\"background-color: #FFF9F9\">g</span> <span style=\"background-color: #FFF7F7\">##rits</span> <span style=\"background-color: #FFFAFA\">please</span> <span style=\"background-color: #FFE2E2\">see</span> <span style=\"background-color: #FFFAFA\">this</span> <span style=\"background-color: #FFEAEA\">as</span> <span style=\"background-color: #FFB4B4\">a</span> <span style=\"background-color: #FFECEC\">totally</span> <span style=\"background-color: #FF-3-3\">amazing</span> <span style=\"background-color: #FFB9B9\">sister</span> <span style=\"background-color: #FF2B2B\">to</span> <span style=\"background-color: #FFF9F9\">ma</span> <span style=\"background-color: #FF3B3B\">##shed</span> <span style=\"background-color: #FFAAAA\">potatoes</span> "
            ],
            "text/plain": [
              "<IPython.core.display.HTML object>"
            ]
          },
          "metadata": {
            "tags": []
          }
        },
        {
          "output_type": "stream",
          "text": [
            "\n",
            "■SHAPの可視化結果\n"
          ],
          "name": "stdout"
        },
        {
          "output_type": "display_data",
          "data": {
            "text/html": [
              "<svg width=\"100%\" height=\"80px\"><line x1=\"0\" y1=\"33\" x2=\"100%\" y2=\"33\" style=\"stroke:rgb(150,150,150);stroke-width:1\" /><line x1=\"44.626608%\" y1=\"33\" x2=\"44.626608%\" y2=\"37\" style=\"stroke:rgb(150,150,150);stroke-width:1\" /><text x=\"44.626608%\" y=\"27\" font-size=\"12px\" fill=\"rgb(120,120,120)\" dominant-baseline=\"bottom\" text-anchor=\"middle\">-0.556719</text><text x=\"44.626608%\" y=\"10\" font-size=\"12px\" fill=\"rgb(120,120,120)\" dominant-baseline=\"bottom\" text-anchor=\"middle\">base value</text><line x1=\"30.340894%\" y1=\"33\" x2=\"30.340894%\" y2=\"37\" style=\"stroke:rgb(150,150,150);stroke-width:1\" /><text x=\"30.340894%\" y=\"27\" font-size=\"12px\" fill=\"rgb(120,120,120)\" dominant-baseline=\"bottom\" text-anchor=\"middle\">-0.728036</text><line x1=\"16.055179%\" y1=\"33\" x2=\"16.055179%\" y2=\"37\" style=\"stroke:rgb(150,150,150);stroke-width:1\" /><text x=\"16.055179%\" y=\"27\" font-size=\"12px\" fill=\"rgb(120,120,120)\" dominant-baseline=\"bottom\" text-anchor=\"middle\">-0.899354</text><line x1=\"58.912322%\" y1=\"33\" x2=\"58.912322%\" y2=\"37\" style=\"stroke:rgb(150,150,150);stroke-width:1\" /><text x=\"58.912322%\" y=\"27\" font-size=\"12px\" fill=\"rgb(120,120,120)\" dominant-baseline=\"bottom\" text-anchor=\"middle\">-0.385401</text><line x1=\"73.198036%\" y1=\"33\" x2=\"73.198036%\" y2=\"37\" style=\"stroke:rgb(150,150,150);stroke-width:1\" /><text x=\"73.198036%\" y=\"27\" font-size=\"12px\" fill=\"rgb(120,120,120)\" dominant-baseline=\"bottom\" text-anchor=\"middle\">-0.214084</text><line x1=\"87.483751%\" y1=\"33\" x2=\"87.483751%\" y2=\"37\" style=\"stroke:rgb(150,150,150);stroke-width:1\" /><text x=\"87.483751%\" y=\"27\" font-size=\"12px\" fill=\"rgb(120,120,120)\" dominant-baseline=\"bottom\" text-anchor=\"middle\">-0.042766</text><line x1=\"55.373392%\" y1=\"33\" x2=\"55.373392%\" y2=\"37\" style=\"stroke:rgb(150,150,150);stroke-width:1\" /><text x=\"55.373392%\" y=\"27\" font-size=\"13px\" style=\"stroke:#ffffff;stroke-width:8px;\" font-weight=\"bold\" fill=\"rgb(255,255,255)\" dominant-baseline=\"bottom\" text-anchor=\"middle\">-0.427841</text><text x=\"55.373392%\" y=\"27\" font-size=\"13px\" font-weight=\"bold\" fill=\"rgb(0,0,0)\" dominant-baseline=\"bottom\" text-anchor=\"middle\">-0.427841</text><text x=\"55.373392%\" y=\"10\" font-size=\"12px\" fill=\"rgb(120,120,120)\" dominant-baseline=\"bottom\" text-anchor=\"middle\">f(x)</text><rect x=\"8.333333333333327%\" width=\"47.0400588406177%\" y=\"40\" height=\"18\" style=\"fill:rgb(255.0, 0.0, 81.08083606031792); stroke-width:0; stroke:rgb(0,0,0)\" /><line x1=\"8.333333333333327%\" x2=\"55.37339217395102%\" y1=\"60\" y2=\"60\" id=\"_fb_vqjsotvcfyhqojnzwygk_ind_1\" style=\"stroke:rgb(255.0, 0.0, 81.08083606031792);stroke-width:2; opacity: 0\"/><text x=\"31.853362753642173%\" y=\"71\" font-size=\"12px\" id=\"_fs_vqjsotvcfyhqojnzwygk_ind_1\" fill=\"rgb(255.0, 0.0, 81.08083606031792)\" style=\"opacity: 0\" dominant-baseline=\"middle\" text-anchor=\"middle\">0.564</text><svg x=\"8.333333333333327%\" y=\"40\" height=\"20\" width=\"47.04005884061769%\">  <svg x=\"0\" y=\"0\" width=\"100%\" height=\"100%\">    <text x=\"50%\" y=\"9\" font-size=\"12px\" fill=\"rgb(255,255,255)\" dominant-baseline=\"middle\" text-anchor=\"middle\">i see the look of doubt on your face i feel the scorn in your eyes</text>  </svg></svg><rect transform=\"translate(-8,0)\" x=\"55.37339217395102%\" y=\"40\" width=\"8\" height=\"18\" style=\"fill:rgb(255.0, 0.0, 81.08083606031792)\"/><g transform=\"translate(-11.5,0)\">  <svg x=\"8.333333333333327%\" y=\"40\" height=\"18\" overflow=\"visible\" width=\"30\">    <path d=\"M 10 -9 l 6 18 L 10 25 L 0 25 L 0 -9\" fill=\"#ffffff\" style=\"stroke:rgb(255,255,255);stroke-width:2\" />  </svg></g><rect x=\"8.333333333333327%\" y=\"40\" height=\"20\" width=\"47.04005884061769%\"      onmouseover=\"document.getElementById('_tp_vqjsotvcfyhqojnzwygk_ind_1').style.textDecoration = 'underline';document.getElementById('_fs_vqjsotvcfyhqojnzwygk_ind_1').style.opacity = 1;document.getElementById('_fb_vqjsotvcfyhqojnzwygk_ind_1').style.opacity = 1;\"      onmouseout=\"document.getElementById('_tp_vqjsotvcfyhqojnzwygk_ind_1').style.textDecoration = 'none';document.getElementById('_fs_vqjsotvcfyhqojnzwygk_ind_1').style.opacity = 0;document.getElementById('_fb_vqjsotvcfyhqojnzwygk_ind_1').style.opacity = 0;\" style=\"fill:rgb(0,0,0,0)\" /><rect x=\"55.37339217395102%\" width=\"36.293274492715646%\" y=\"40\" height=\"18\" style=\"fill:rgb(0.0, 138.56128015770724, 250.76166088685727); stroke-width:0; stroke:rgb(0,0,0)\" /><line x1=\"55.37339217395102%\" x2=\"79.65687375096657%\" y1=\"60\" y2=\"60\" id=\"_fb_vqjsotvcfyhqojnzwygk_ind_2\" style=\"stroke:rgb(0.0, 138.56128015770724, 250.76166088685727);stroke-width:2; opacity: 0\"/><text x=\"67.5151329624588%\" y=\"71\" font-size=\"12px\" fill=\"rgb(0.0, 138.56128015770724, 250.76166088685727)\" id=\"_fs_vqjsotvcfyhqojnzwygk_ind_2\" style=\"opacity: 0\" dominant-baseline=\"middle\" text-anchor=\"middle\">-0.291</text><svg x=\"55.37339217395102%\" y=\"40\" height=\"20\" width=\"24.28348157701555%\">  <svg x=\"0\" y=\"0\" width=\"100%\" height=\"100%\">    <text x=\"50%\" y=\"9\" font-size=\"12px\" fill=\"rgb(255,255,255)\" dominant-baseline=\"middle\" text-anchor=\"middle\">but for anyone skeptical of grits dinner grits please see</text>  </svg></svg><line x1=\"79.65687375096657%\" x2=\"91.66665548354939%\" y1=\"60\" y2=\"60\" id=\"_fb_vqjsotvcfyhqojnzwygk_ind_3\" style=\"stroke:rgb(0.0, 138.56128015770724, 250.76166088685727);stroke-width:2; opacity: 0\"/><text x=\"85.66176461725797%\" y=\"71\" font-size=\"12px\" fill=\"rgb(0.0, 138.56128015770724, 250.76166088685727)\" id=\"_fs_vqjsotvcfyhqojnzwygk_ind_3\" style=\"opacity: 0\" dominant-baseline=\"middle\" text-anchor=\"middle\">-0.144</text><svg x=\"79.65687375096657%\" y=\"40\" height=\"20\" width=\"12.009781732582823%\">  <svg x=\"0\" y=\"0\" width=\"100%\" height=\"100%\">    <text x=\"50%\" y=\"9\" font-size=\"12px\" fill=\"rgb(255,255,255)\" dominant-baseline=\"middle\" text-anchor=\"middle\">this as a totally amazing sister to mashed potatoes</text>  </svg></svg><line x1=\"91.66665548354939%\" x2=\"91.66666293896091%\" y1=\"60\" y2=\"60\" id=\"_fb_vqjsotvcfyhqojnzwygk_ind_4\" style=\"stroke:rgb(0.0, 138.56128015770724, 250.76166088685727);stroke-width:2; opacity: 0\"/><text x=\"91.66665921125515%\" y=\"71\" font-size=\"12px\" fill=\"rgb(0.0, 138.56128015770724, 250.76166088685727)\" id=\"_fs_vqjsotvcfyhqojnzwygk_ind_4\" style=\"opacity: 0\" dominant-baseline=\"middle\" text-anchor=\"middle\">-0.0</text><svg x=\"91.66665548354939%\" y=\"40\" height=\"20\" width=\"7.455411520140842e-06%\">  <svg x=\"0\" y=\"0\" width=\"100%\" height=\"100%\">    <text x=\"50%\" y=\"9\" font-size=\"12px\" fill=\"rgb(255,255,255)\" dominant-baseline=\"middle\" text-anchor=\"middle\"></text>  </svg></svg><line x1=\"91.66666293896091%\" x2=\"91.66666666666667%\" y1=\"60\" y2=\"60\" id=\"_fb_vqjsotvcfyhqojnzwygk_ind_0\" style=\"stroke:rgb(0.0, 138.56128015770724, 250.76166088685727);stroke-width:2; opacity: 0\"/><text x=\"91.66666480281378%\" y=\"71\" font-size=\"12px\" fill=\"rgb(0.0, 138.56128015770724, 250.76166088685727)\" id=\"_fs_vqjsotvcfyhqojnzwygk_ind_0\" style=\"opacity: 0\" dominant-baseline=\"middle\" text-anchor=\"middle\">-0.0</text><svg x=\"91.66666293896091%\" y=\"40\" height=\"20\" width=\"3.727705760070421e-06%\">  <svg x=\"0\" y=\"0\" width=\"100%\" height=\"100%\">    <text x=\"50%\" y=\"9\" font-size=\"12px\" fill=\"rgb(255,255,255)\" dominant-baseline=\"middle\" text-anchor=\"middle\"></text>  </svg></svg><g transform=\"translate(-8,0)\">  <svg x=\"79.65687375096657%\" y=\"40\" height=\"18\" overflow=\"visible\" width=\"30\">    <path d=\"M 8 -9 l -6 18 L 8 25\" fill=\"none\" style=\"stroke:rgb(0.0, 138.56128015770724, 250.76166088685727);stroke-width:2\" />  </svg></g><g transform=\"translate(-10,0)\">  <svg x=\"79.65687375096657%\" y=\"40\" height=\"18\" overflow=\"visible\" width=\"30\">    <path d=\"M 8 -9 l -6 18 L 8 25\" fill=\"none\" style=\"stroke:rgb(0.0, 138.56128015770724, 250.76166088685727);stroke-width:2\" />  </svg></g><g transform=\"translate(-12,0)\">  <svg x=\"79.65687375096657%\" y=\"40\" height=\"18\" overflow=\"visible\" width=\"30\">    <path d=\"M 8 -9 l -6 18 L 8 25\" fill=\"none\" style=\"stroke:rgb(0.0, 138.56128015770724, 250.76166088685727);stroke-width:2\" />  </svg></g><g transform=\"translate(-14,0)\">  <svg x=\"79.65687375096657%\" y=\"40\" height=\"18\" overflow=\"visible\" width=\"30\">    <path d=\"M 8 -9 l -6 18 L 8 25\" fill=\"none\" style=\"stroke:rgb(0.0, 138.56128015770724, 250.76166088685727);stroke-width:2\" />  </svg></g><g transform=\"translate(2,0)\">  <svg x=\"79.65687375096657%\" y=\"40\" height=\"18\" overflow=\"visible\" width=\"30\">    <path d=\"M 8 -9 l -6 18 L 8 25\" fill=\"none\" style=\"stroke:rgb(0.0, 138.56128015770724, 250.76166088685727);stroke-width:2\" />  </svg></g><g transform=\"translate(0,0)\">  <svg x=\"79.65687375096657%\" y=\"40\" height=\"18\" overflow=\"visible\" width=\"30\">    <path d=\"M 8 -9 l -6 18 L 8 25\" fill=\"none\" style=\"stroke:rgb(0.0, 138.56128015770724, 250.76166088685727);stroke-width:2\" />  </svg></g><g transform=\"translate(-2,0)\">  <svg x=\"79.65687375096657%\" y=\"40\" height=\"18\" overflow=\"visible\" width=\"30\">    <path d=\"M 8 -9 l -6 18 L 8 25\" fill=\"none\" style=\"stroke:rgb(0.0, 138.56128015770724, 250.76166088685727);stroke-width:2\" />  </svg></g><g transform=\"translate(-4,0)\">  <svg x=\"79.65687375096657%\" y=\"40\" height=\"18\" overflow=\"visible\" width=\"30\">    <path d=\"M 8 -9 l -6 18 L 8 25\" fill=\"none\" style=\"stroke:rgb(0.0, 138.56128015770724, 250.76166088685727);stroke-width:2\" />  </svg></g><g transform=\"translate(-8,0)\">  <svg x=\"91.66665548354939%\" y=\"40\" height=\"18\" overflow=\"visible\" width=\"30\">    <path d=\"M 8 -9 l -6 18 L 8 25\" fill=\"none\" style=\"stroke:rgb(0.0, 138.56128015770724, 250.76166088685727);stroke-width:2\" />  </svg></g><g transform=\"translate(-10,0)\">  <svg x=\"91.66665548354939%\" y=\"40\" height=\"18\" overflow=\"visible\" width=\"30\">    <path d=\"M 8 -9 l -6 18 L 8 25\" fill=\"none\" style=\"stroke:rgb(0.0, 138.56128015770724, 250.76166088685727);stroke-width:2\" />  </svg></g><g transform=\"translate(-12,0)\">  <svg x=\"91.66665548354939%\" y=\"40\" height=\"18\" overflow=\"visible\" width=\"30\">    <path d=\"M 8 -9 l -6 18 L 8 25\" fill=\"none\" style=\"stroke:rgb(0.0, 138.56128015770724, 250.76166088685727);stroke-width:2\" />  </svg></g><g transform=\"translate(-14,0)\">  <svg x=\"91.66665548354939%\" y=\"40\" height=\"18\" overflow=\"visible\" width=\"30\">    <path d=\"M 8 -9 l -6 18 L 8 25\" fill=\"none\" style=\"stroke:rgb(0.0, 138.56128015770724, 250.76166088685727);stroke-width:2\" />  </svg></g><g transform=\"translate(2,0)\">  <svg x=\"91.66665548354939%\" y=\"40\" height=\"18\" overflow=\"visible\" width=\"30\">    <path d=\"M 8 -9 l -6 18 L 8 25\" fill=\"none\" style=\"stroke:rgb(0.0, 138.56128015770724, 250.76166088685727);stroke-width:2\" />  </svg></g><g transform=\"translate(0,0)\">  <svg x=\"91.66665548354939%\" y=\"40\" height=\"18\" overflow=\"visible\" width=\"30\">    <path d=\"M 8 -9 l -6 18 L 8 25\" fill=\"none\" style=\"stroke:rgb(0.0, 138.56128015770724, 250.76166088685727);stroke-width:2\" />  </svg></g><g transform=\"translate(-2,0)\">  <svg x=\"91.66665548354939%\" y=\"40\" height=\"18\" overflow=\"visible\" width=\"30\">    <path d=\"M 8 -9 l -6 18 L 8 25\" fill=\"none\" style=\"stroke:rgb(0.0, 138.56128015770724, 250.76166088685727);stroke-width:2\" />  </svg></g><g transform=\"translate(-4,0)\">  <svg x=\"91.66665548354939%\" y=\"40\" height=\"18\" overflow=\"visible\" width=\"30\">    <path d=\"M 8 -9 l -6 18 L 8 25\" fill=\"none\" style=\"stroke:rgb(0.0, 138.56128015770724, 250.76166088685727);stroke-width:2\" />  </svg></g><g transform=\"translate(-8,0)\">  <svg x=\"91.66666293896091%\" y=\"40\" height=\"18\" overflow=\"visible\" width=\"30\">    <path d=\"M 8 -9 l -6 18 L 8 25\" fill=\"none\" style=\"stroke:rgb(0.0, 138.56128015770724, 250.76166088685727);stroke-width:2\" />  </svg></g><g transform=\"translate(-10,0)\">  <svg x=\"91.66666293896091%\" y=\"40\" height=\"18\" overflow=\"visible\" width=\"30\">    <path d=\"M 8 -9 l -6 18 L 8 25\" fill=\"none\" style=\"stroke:rgb(0.0, 138.56128015770724, 250.76166088685727);stroke-width:2\" />  </svg></g><g transform=\"translate(-12,0)\">  <svg x=\"91.66666293896091%\" y=\"40\" height=\"18\" overflow=\"visible\" width=\"30\">    <path d=\"M 8 -9 l -6 18 L 8 25\" fill=\"none\" style=\"stroke:rgb(0.0, 138.56128015770724, 250.76166088685727);stroke-width:2\" />  </svg></g><g transform=\"translate(-14,0)\">  <svg x=\"91.66666293896091%\" y=\"40\" height=\"18\" overflow=\"visible\" width=\"30\">    <path d=\"M 8 -9 l -6 18 L 8 25\" fill=\"none\" style=\"stroke:rgb(0.0, 138.56128015770724, 250.76166088685727);stroke-width:2\" />  </svg></g><g transform=\"translate(2,0)\">  <svg x=\"91.66666293896091%\" y=\"40\" height=\"18\" overflow=\"visible\" width=\"30\">    <path d=\"M 8 -9 l -6 18 L 8 25\" fill=\"none\" style=\"stroke:rgb(0.0, 138.56128015770724, 250.76166088685727);stroke-width:2\" />  </svg></g><g transform=\"translate(0,0)\">  <svg x=\"91.66666293896091%\" y=\"40\" height=\"18\" overflow=\"visible\" width=\"30\">    <path d=\"M 8 -9 l -6 18 L 8 25\" fill=\"none\" style=\"stroke:rgb(0.0, 138.56128015770724, 250.76166088685727);stroke-width:2\" />  </svg></g><g transform=\"translate(-2,0)\">  <svg x=\"91.66666293896091%\" y=\"40\" height=\"18\" overflow=\"visible\" width=\"30\">    <path d=\"M 8 -9 l -6 18 L 8 25\" fill=\"none\" style=\"stroke:rgb(0.0, 138.56128015770724, 250.76166088685727);stroke-width:2\" />  </svg></g><g transform=\"translate(-4,0)\">  <svg x=\"91.66666293896091%\" y=\"40\" height=\"18\" overflow=\"visible\" width=\"30\">    <path d=\"M 8 -9 l -6 18 L 8 25\" fill=\"none\" style=\"stroke:rgb(0.0, 138.56128015770724, 250.76166088685727);stroke-width:2\" />  </svg></g><rect transform=\"translate(0,0)\" x=\"55.37339217395102%\" y=\"40\" width=\"8\" height=\"18\" style=\"fill:rgb(0.0, 138.56128015770724, 250.76166088685727)\"/><g transform=\"translate(-6.0,0)\">  <svg x=\"91.66666666666667%\" y=\"40\" height=\"18\" overflow=\"visible\" width=\"30\">    <path d=\"M 8 -9 l -6 18 L 8 25 L 20 25 L 20 -9\" fill=\"#ffffff\" style=\"stroke:rgb(255,255,255);stroke-width:2\" />  </svg></g><g transform=\"translate(-6.0,0)\">  <svg x=\"79.65687375096657%\" y=\"40\" height=\"18\" overflow=\"visible\" width=\"30\">    <path d=\"M 8 -9 l -6 18 L 8 25\" fill=\"none\" style=\"stroke:rgb(208, 230, 250);stroke-width:2\" />  </svg></g><rect x=\"55.37339217395102%\" y=\"40\" height=\"20\" width=\"24.28348157701555%\"      onmouseover=\"document.getElementById('_tp_vqjsotvcfyhqojnzwygk_ind_2').style.textDecoration = 'underline';document.getElementById('_fs_vqjsotvcfyhqojnzwygk_ind_2').style.opacity = 1;document.getElementById('_fb_vqjsotvcfyhqojnzwygk_ind_2').style.opacity = 1;\"      onmouseout=\"document.getElementById('_tp_vqjsotvcfyhqojnzwygk_ind_2').style.textDecoration = 'none';document.getElementById('_fs_vqjsotvcfyhqojnzwygk_ind_2').style.opacity = 0;document.getElementById('_fb_vqjsotvcfyhqojnzwygk_ind_2').style.opacity = 0;\" style=\"fill:rgb(0,0,0,0)\" /><g transform=\"translate(-6.0,0)\">  <svg x=\"91.66665548354939%\" y=\"40\" height=\"18\" overflow=\"visible\" width=\"30\">    <path d=\"M 8 -9 l -6 18 L 8 25\" fill=\"none\" style=\"stroke:rgb(208, 230, 250);stroke-width:2\" />  </svg></g><rect x=\"79.65687375096657%\" y=\"40\" height=\"20\" width=\"12.009781732582823%\"      onmouseover=\"document.getElementById('_tp_vqjsotvcfyhqojnzwygk_ind_3').style.textDecoration = 'underline';document.getElementById('_fs_vqjsotvcfyhqojnzwygk_ind_3').style.opacity = 1;document.getElementById('_fb_vqjsotvcfyhqojnzwygk_ind_3').style.opacity = 1;\"      onmouseout=\"document.getElementById('_tp_vqjsotvcfyhqojnzwygk_ind_3').style.textDecoration = 'none';document.getElementById('_fs_vqjsotvcfyhqojnzwygk_ind_3').style.opacity = 0;document.getElementById('_fb_vqjsotvcfyhqojnzwygk_ind_3').style.opacity = 0;\" style=\"fill:rgb(0,0,0,0)\" /><g transform=\"translate(-6.0,0)\">  <svg x=\"91.66666293896091%\" y=\"40\" height=\"18\" overflow=\"visible\" width=\"30\">    <path d=\"M 8 -9 l -6 18 L 8 25\" fill=\"none\" style=\"stroke:rgb(208, 230, 250);stroke-width:2\" />  </svg></g><rect x=\"91.66665548354939%\" y=\"40\" height=\"20\" width=\"7.455411520140842e-06%\"      onmouseover=\"document.getElementById('_tp_vqjsotvcfyhqojnzwygk_ind_4').style.textDecoration = 'underline';document.getElementById('_fs_vqjsotvcfyhqojnzwygk_ind_4').style.opacity = 1;document.getElementById('_fb_vqjsotvcfyhqojnzwygk_ind_4').style.opacity = 1;\"      onmouseout=\"document.getElementById('_tp_vqjsotvcfyhqojnzwygk_ind_4').style.textDecoration = 'none';document.getElementById('_fs_vqjsotvcfyhqojnzwygk_ind_4').style.opacity = 0;document.getElementById('_fb_vqjsotvcfyhqojnzwygk_ind_4').style.opacity = 0;\" style=\"fill:rgb(0,0,0,0)\" /><rect x=\"91.66666293896091%\" y=\"40\" height=\"20\" width=\"3.727705760070421e-06%\"      onmouseover=\"document.getElementById('_tp_vqjsotvcfyhqojnzwygk_ind_0').style.textDecoration = 'underline';document.getElementById('_fs_vqjsotvcfyhqojnzwygk_ind_0').style.opacity = 1;document.getElementById('_fb_vqjsotvcfyhqojnzwygk_ind_0').style.opacity = 1;\"      onmouseout=\"document.getElementById('_tp_vqjsotvcfyhqojnzwygk_ind_0').style.textDecoration = 'none';document.getElementById('_fs_vqjsotvcfyhqojnzwygk_ind_0').style.opacity = 0;document.getElementById('_fb_vqjsotvcfyhqojnzwygk_ind_0').style.opacity = 0;\" style=\"fill:rgb(0,0,0,0)\" /></svg><div style='display: inline; text-align: center;'><div style='display: none; color: #999; padding-top: 0px; font-size: 12px;'>-0.0</div><div id='_tp_vqjsotvcfyhqojnzwygk_ind_0'style='display: inline; background: rgba(54.70588235294111, 122.49411764705886, 213.40784313725496, 0.0); border-radius: 3px; padding: 0px'onclick=\"if (this.previousSibling.style.display == 'none') {this.previousSibling.style.display = 'block';this.parentNode.style.display = 'inline-block';} else {this.previousSibling.style.display = 'none';this.parentNode.style.display = 'inline';}\"onmouseover=\"document.getElementById('_fb_vqjsotvcfyhqojnzwygk_ind_0').style.opacity = 1; document.getElementById('_fs_vqjsotvcfyhqojnzwygk_ind_0').style.opacity = 1;\"onmouseout=\"document.getElementById('_fb_vqjsotvcfyhqojnzwygk_ind_0').style.opacity = 0; document.getElementById('_fs_vqjsotvcfyhqojnzwygk_ind_0').style.opacity = 0;\"> </div></div><div style='display: inline; text-align: center;'><div style='display: none; color: #999; padding-top: 0px; font-size: 12px;'>0.564 / 17</div><div id='_tp_vqjsotvcfyhqojnzwygk_ind_1'style='display: inline; background: rgba(255.0, 13.0, 87.0, 1.0); border-radius: 3px; padding: 0px'onclick=\"if (this.previousSibling.style.display == 'none') {this.previousSibling.style.display = 'block';this.parentNode.style.display = 'inline-block';} else {this.previousSibling.style.display = 'none';this.parentNode.style.display = 'inline';}\"onmouseover=\"document.getElementById('_fb_vqjsotvcfyhqojnzwygk_ind_1').style.opacity = 1; document.getElementById('_fs_vqjsotvcfyhqojnzwygk_ind_1').style.opacity = 1;\"onmouseout=\"document.getElementById('_fb_vqjsotvcfyhqojnzwygk_ind_1').style.opacity = 0; document.getElementById('_fs_vqjsotvcfyhqojnzwygk_ind_1').style.opacity = 0;\">i see the look of doubt on your face i feel the scorn in your eyes </div></div><div style='display: inline; text-align: center;'><div style='display: none; color: #999; padding-top: 0px; font-size: 12px;'>-0.291 / 12</div><div id='_tp_vqjsotvcfyhqojnzwygk_ind_2'style='display: inline; background: rgba(30.0, 136.0, 229.0, 1.0); border-radius: 3px; padding: 0px'onclick=\"if (this.previousSibling.style.display == 'none') {this.previousSibling.style.display = 'block';this.parentNode.style.display = 'inline-block';} else {this.previousSibling.style.display = 'none';this.parentNode.style.display = 'inline';}\"onmouseover=\"document.getElementById('_fb_vqjsotvcfyhqojnzwygk_ind_2').style.opacity = 1; document.getElementById('_fs_vqjsotvcfyhqojnzwygk_ind_2').style.opacity = 1;\"onmouseout=\"document.getElementById('_fb_vqjsotvcfyhqojnzwygk_ind_2').style.opacity = 0; document.getElementById('_fs_vqjsotvcfyhqojnzwygk_ind_2').style.opacity = 0;\">but for anyone skeptical of grits dinner grits please see </div></div><div style='display: inline; text-align: center;'><div style='display: none; color: #999; padding-top: 0px; font-size: 12px;'>-0.144 / 10</div><div id='_tp_vqjsotvcfyhqojnzwygk_ind_3'style='display: inline; background: rgba(30.0, 136.0, 229.0, 1.0); border-radius: 3px; padding: 0px'onclick=\"if (this.previousSibling.style.display == 'none') {this.previousSibling.style.display = 'block';this.parentNode.style.display = 'inline-block';} else {this.previousSibling.style.display = 'none';this.parentNode.style.display = 'inline';}\"onmouseover=\"document.getElementById('_fb_vqjsotvcfyhqojnzwygk_ind_3').style.opacity = 1; document.getElementById('_fs_vqjsotvcfyhqojnzwygk_ind_3').style.opacity = 1;\"onmouseout=\"document.getElementById('_fb_vqjsotvcfyhqojnzwygk_ind_3').style.opacity = 0; document.getElementById('_fs_vqjsotvcfyhqojnzwygk_ind_3').style.opacity = 0;\">this as a totally amazing sister to mashed potatoes </div></div><div style='display: inline; text-align: center;'><div style='display: none; color: #999; padding-top: 0px; font-size: 12px;'>-0.0</div><div id='_tp_vqjsotvcfyhqojnzwygk_ind_4'style='display: inline; background: rgba(54.70588235294111, 122.49411764705886, 213.40784313725496, 0.0); border-radius: 3px; padding: 0px'onclick=\"if (this.previousSibling.style.display == 'none') {this.previousSibling.style.display = 'block';this.parentNode.style.display = 'inline-block';} else {this.previousSibling.style.display = 'none';this.parentNode.style.display = 'inline';}\"onmouseover=\"document.getElementById('_fb_vqjsotvcfyhqojnzwygk_ind_4').style.opacity = 1; document.getElementById('_fs_vqjsotvcfyhqojnzwygk_ind_4').style.opacity = 1;\"onmouseout=\"document.getElementById('_fb_vqjsotvcfyhqojnzwygk_ind_4').style.opacity = 0; document.getElementById('_fs_vqjsotvcfyhqojnzwygk_ind_4').style.opacity = 0;\"> </div></div>"
            ],
            "text/plain": [
              "<IPython.core.display.HTML object>"
            ]
          },
          "metadata": {
            "tags": []
          }
        }
      ]
    },
    {
      "cell_type": "markdown",
      "metadata": {
        "id": "ZOVlQzGV3ogP"
      },
      "source": [
        "全ラベルに対して、各単語や句がどのラベルに効いていたかをHeat map形式でみる"
      ]
    },
    {
      "cell_type": "code",
      "metadata": {
        "colab": {
          "base_uri": "https://localhost:8080/",
          "height": 502
        },
        "id": "h6tIMTo33fQF",
        "outputId": "5222406a-6ef1-4d19-84d8-f9ef7b54cfd7"
      },
      "source": [
        "shap.plots.text(shap_values[0,:,])"
      ],
      "execution_count": 18,
      "outputs": [
        {
          "output_type": "display_data",
          "data": {
            "text/html": [
              "\n",
              "    <script>\n",
              "        function selectVizType_nxmjinyortanvallvxgn(selectObject) {\n",
              "\n",
              "          /* Hide all viz */\n",
              "\n",
              "            var elements = document.getElementsByClassName(\"nxmjinyortanvallvxgn_viz_container\")\n",
              "          for (var i = 0; i < elements.length; i++){\n",
              "              elements[i].style.display = 'none';\n",
              "          }\n",
              "\n",
              "          var value = selectObject.value;\n",
              "          if ( value === \"saliency-plot\" ){\n",
              "              document.getElementById('nxmjinyortanvallvxgn_saliency_plot_container').style.display  = \"block\";\n",
              "          }\n",
              "          else if ( value === \"heatmap\" ) {\n",
              "              document.getElementById('nxmjinyortanvallvxgn_heatmap_container').style.display  = \"block\";\n",
              "          }\n",
              "        }\n",
              "    </script>\n",
              "    \n",
              "    <html>\n",
              "    <div id=\"nxmjinyortanvallvxgn_viz_container\">\n",
              "      <div id=\"nxmjinyortanvallvxgn_viz_header\" style=\"padding:15px;border-style:solid;margin:5px;font-family:sans-serif;font-weight:bold;\">\n",
              "        Visualization Type:\n",
              "        <select name=\"viz_type\" id=\"nxmjinyortanvallvxgn_viz_type\" onchange=\"selectVizType_nxmjinyortanvallvxgn(this)\">\n",
              "          <option value=\"heatmap\" selected=\"selected\">Input/Output - Heatmap</option>\n",
              "          <option value=\"saliency-plot\">Saliency Plot</option>\n",
              "        </select>\n",
              "      </div>\n",
              "      <div id=\"nxmjinyortanvallvxgn_content\" style=\"padding:15px;border-style:solid;margin:5px;\">\n",
              "          <div id = \"nxmjinyortanvallvxgn_saliency_plot_container\" class=\"nxmjinyortanvallvxgn_viz_container\" style=\"display:none\"> \n",
              "              \n",
              "        <div id=\"lwmjxgsmdqakeyutcijx_saliency_plot\" class=\"lwmjxgsmdqakeyutcijx_viz_content\">\n",
              "            <div style=\"margin:5px;font-family:sans-serif;font-weight:bold;\">\n",
              "                <span style=\"font-size: 20px;\"> Saliency Plot </span>\n",
              "                <br>\n",
              "                x-axis: Output Text\n",
              "                <br>\n",
              "                y-axis: Input Text\n",
              "            </div>\n",
              "            <table border = \"1\" cellpadding = \"5\" cellspacing = \"5\" style=\"overflow-x:scroll;display:block;\"><tr><th></th><th> </th><th>i see the look of doubt on your </th><th>face i feel the scorn in your eyes </th><th>but for anyone skeptical of grits dinner grits please see </th><th>this as a totally amazing sister to mashed potatoes </th><th> </th></tr><tr><th>sadness</th><th style=\"background:rgba(230.2941176470614, 26.505882352939775, 102.59215686274348, 0.0)\">0.0</th><th style=\"background:rgba(30.0, 136.0, 229.0, 0.4087938205585264)\">-1.225</th><th style=\"background:rgba(30.0, 136.0, 229.0, 0.5506833036244801)\">-1.637</th><th style=\"background:rgba(30.0, 136.0, 229.0, 0.8265795206971678)\">-2.44</th><th style=\"background:rgba(230.2941176470614, 26.505882352939775, 102.59215686274348, 0.0)\">0.013</th><th style=\"background:rgba(230.2941176470614, 26.505882352939775, 102.59215686274348, 0.0)\">0.0</th></tr><tr><th>joy</th><th style=\"background:rgba(54.70588235294111, 122.49411764705886, 213.40784313725496, 0.0)\">-0.0</th><th style=\"background:rgba(255.0, 13.0, 87.0, 0.09348385818974037)\">0.284</th><th style=\"background:rgba(255.0, 13.0, 87.0, 0.09348385818974037)\">0.28</th><th style=\"background:rgba(30.0, 136.0, 229.0, 0.09348385818974048)\">-0.291</th><th style=\"background:rgba(30.0, 136.0, 229.0, 0.04618736383442258)\">-0.144</th><th style=\"background:rgba(54.70588235294111, 122.49411764705886, 213.40784313725496, 0.0)\">-0.0</th></tr><tr><th>love</th><th style=\"background:rgba(230.2941176470614, 26.505882352939775, 102.59215686274348, 0.0)\">0.0</th><th style=\"background:rgba(30.0, 136.0, 229.0, 0.21172509407803525)\">-0.633</th><th style=\"background:rgba(30.0, 136.0, 229.0, 0.1959595959595959)\">-0.595</th><th style=\"background:rgba(255.0, 13.0, 87.0, 1.0)\">2.97</th><th style=\"background:rgba(255.0, 13.0, 87.0, 0.2511388393741335)\">0.747</th><th style=\"background:rgba(230.2941176470614, 26.505882352939775, 102.59215686274348, 0.0)\">0.0</th></tr><tr><th>anger</th><th style=\"background:rgba(230.2941176470614, 26.505882352939775, 102.59215686274348, 0.0)\">0.0</th><th style=\"background:rgba(30.0, 136.0, 229.0, 0.12501485442661905)\">-0.384</th><th style=\"background:rgba(30.0, 136.0, 229.0, 0.1880768469003762)\">-0.572</th><th style=\"background:rgba(255.0, 13.0, 87.0, 0.36149732620320857)\">1.072</th><th style=\"background:rgba(30.0, 136.0, 229.0, 0.25902158843335304)\">-0.788</th><th style=\"background:rgba(230.2941176470614, 26.505882352939775, 102.59215686274348, 0.0)\">0.0</th></tr><tr><th>fear</th><th style=\"background:rgba(230.2941176470614, 26.505882352939775, 102.59215686274348, 0.0)\">0.0</th><th style=\"background:rgba(30.0, 136.0, 229.0, 0.5585660526836997)\">-1.657</th><th style=\"background:rgba(30.0, 136.0, 229.0, 0.5112695583283818)\">-1.531</th><th style=\"background:rgba(255.0, 13.0, 87.0, 0.6531590413943356)\">1.944</th><th style=\"background:rgba(30.0, 136.0, 229.0, 0.09348385818974048)\">-0.284</th><th style=\"background:rgba(230.2941176470614, 26.505882352939775, 102.59215686274348, 0.0)\">0.0</th></tr><tr><th>surprise</th><th style=\"background:rgba(230.2941176470614, 26.505882352939775, 102.59215686274348, 0.0)\">0.0</th><th style=\"background:rgba(30.0, 136.0, 229.0, 0.2038423450188156)\">-0.608</th><th style=\"background:rgba(30.0, 136.0, 229.0, 0.12501485442661905)\">-0.373</th><th style=\"background:rgba(255.0, 13.0, 87.0, 0.12501485442661908)\">0.39</th><th style=\"background:rgba(255.0, 13.0, 87.0, 0.46397306397306415)\">1.382</th><th style=\"background:rgba(230.2941176470614, 26.505882352939775, 102.59215686274348, 0.0)\">0.0</th></tr></table>\n",
              "        </div>\n",
              "    \n",
              "          </div>\n",
              "          \n",
              "          <div id = \"nxmjinyortanvallvxgn_heatmap_container\" class=\"nxmjinyortanvallvxgn_viz_container\">\n",
              "              \n",
              "        <div id=\"igdbjvwkqzaskjhkwkpb_heatmap\" class=\"igdbjvwkqzaskjhkwkpb_viz_content\">\n",
              "          <div id=\"igdbjvwkqzaskjhkwkpb_heatmap_header\" style=\"padding:15px;margin:5px;font-family:sans-serif;font-weight:bold;\">\n",
              "            <div style=\"display:inline\">\n",
              "              <span style=\"font-size: 20px;\"> Input/Output - Heatmap </span>\n",
              "            </div>\n",
              "            <div style=\"display:inline;float:right\">\n",
              "              Layout :\n",
              "              <select name=\"alignment\" id=\"igdbjvwkqzaskjhkwkpb_alignment\" onchange=\"selectAlignment_igdbjvwkqzaskjhkwkpb(this)\">\n",
              "                <option value=\"left-right\" selected=\"selected\">Left/Right</option>\n",
              "                <option value=\"top-bottom\">Top/Bottom</option>\n",
              "              </select>\n",
              "            </div>\n",
              "          </div>\n",
              "          <div id=\"igdbjvwkqzaskjhkwkpb_heatmap_content\" style=\"display:flex;\">\n",
              "            <div id=\"igdbjvwkqzaskjhkwkpb_input_container\" style=\"padding:15px;border-style:solid;margin:5px;flex:1;\">\n",
              "              <div id=\"igdbjvwkqzaskjhkwkpb_input_header\" style=\"margin:5px;font-weight:bold;font-family:sans-serif;margin-bottom:10px\">\n",
              "                Input Text\n",
              "              </div>\n",
              "              <div id=\"igdbjvwkqzaskjhkwkpb_input_content\" style=\"margin:5px;font-family:sans-serif;\">\n",
              "                  <div id=\"igdbjvwkqzaskjhkwkpb_input_node_80_container\" style=\"display:inline;text-align:center\"><div id=\"igdbjvwkqzaskjhkwkpb_input_node_80_label\" style=\"display:none; padding-top: 0px; font-size:12px;\"></div><div id=\"igdbjvwkqzaskjhkwkpb_input_node_80_content\" style=\"display:inline;\"><div id=\"igdbjvwkqzaskjhkwkpb_input_node_79_container\" style=\"display:inline;text-align:center\"><div id=\"igdbjvwkqzaskjhkwkpb_input_node_79_label\" style=\"display:none; padding-top: 0px; font-size:12px;\"></div><div id=\"igdbjvwkqzaskjhkwkpb_input_node_79_content\" style=\"display:inline;\"><div id=\"igdbjvwkqzaskjhkwkpb_input_node_0_container\" style=\"display:inline;text-align:center\"><div id=\"igdbjvwkqzaskjhkwkpb_input_node_0_label\" style=\"display:none; padding-top: 0px; font-size:12px;\"></div><div id=\"igdbjvwkqzaskjhkwkpb_input_node_0_content\"style='display: inline; background:transparent; border-radius: 3px; padding: 0px;cursor: default;cursor: pointer;'onmouseover=\"onMouseHoverFlat_igdbjvwkqzaskjhkwkpb(this.id)\" onmouseout=\"onMouseOutFlat_igdbjvwkqzaskjhkwkpb(this.id)\" onclick=\"onMouseClickFlat_igdbjvwkqzaskjhkwkpb(this.id)\" > </div></div><div id=\"igdbjvwkqzaskjhkwkpb_input_node_78_container\" style=\"display:inline;text-align:center\"><div id=\"igdbjvwkqzaskjhkwkpb_input_node_78_label\" style=\"display:none; padding-top: 0px; font-size:12px;\"></div><div id=\"igdbjvwkqzaskjhkwkpb_input_node_78_content\" style=\"display:inline;\"><div id=\"igdbjvwkqzaskjhkwkpb_input_node_76_container\" style=\"display:inline;text-align:center\"><div id=\"igdbjvwkqzaskjhkwkpb_input_node_76_label\" style=\"display:none; padding-top: 0px; font-size:12px;\"></div><div id=\"igdbjvwkqzaskjhkwkpb_input_node_76_content\" style=\"display:inline;\"><div id=\"igdbjvwkqzaskjhkwkpb_input_node_72_container\" style=\"display:inline;text-align:center\"><div id=\"igdbjvwkqzaskjhkwkpb_input_node_72_label\" style=\"display:none; padding-top: 0px; font-size:12px;\"></div><div id=\"igdbjvwkqzaskjhkwkpb_input_node_72_content\" style=\"display:inline;\"><div id=\"igdbjvwkqzaskjhkwkpb_input_node_62_container\" style=\"display:inline;text-align:center\"><div id=\"igdbjvwkqzaskjhkwkpb_input_node_62_label\" style=\"display:none; padding-top: 0px; font-size:12px;\"></div><div id=\"igdbjvwkqzaskjhkwkpb_input_node_62_content\" style=\"display:inline;\"><div id=\"igdbjvwkqzaskjhkwkpb_input_node_45_container\" style=\"display:inline;text-align:center\"><div id=\"igdbjvwkqzaskjhkwkpb_input_node_45_label\" style=\"display:none; padding-top: 0px; font-size:12px;\"></div><div id=\"igdbjvwkqzaskjhkwkpb_input_node_45_content\" style=\"display:inline;\"><div id=\"igdbjvwkqzaskjhkwkpb_input_node_1_container\" style=\"display:inline;text-align:center\"><div id=\"igdbjvwkqzaskjhkwkpb_input_node_1_label\" style=\"display:none; padding-top: 0px; font-size:12px;\"></div><div id=\"igdbjvwkqzaskjhkwkpb_input_node_1_content\"style='display: inline; background:transparent; border-radius: 3px; padding: 0px;cursor: default;cursor: pointer;'onmouseover=\"onMouseHoverFlat_igdbjvwkqzaskjhkwkpb(this.id)\" onmouseout=\"onMouseOutFlat_igdbjvwkqzaskjhkwkpb(this.id)\" onclick=\"onMouseClickFlat_igdbjvwkqzaskjhkwkpb(this.id)\" >i </div></div><div id=\"igdbjvwkqzaskjhkwkpb_input_node_2_container\" style=\"display:inline;text-align:center\"><div id=\"igdbjvwkqzaskjhkwkpb_input_node_2_label\" style=\"display:none; padding-top: 0px; font-size:12px;\"></div><div id=\"igdbjvwkqzaskjhkwkpb_input_node_2_content\"style='display: inline; background:transparent; border-radius: 3px; padding: 0px;cursor: default;cursor: pointer;'onmouseover=\"onMouseHoverFlat_igdbjvwkqzaskjhkwkpb(this.id)\" onmouseout=\"onMouseOutFlat_igdbjvwkqzaskjhkwkpb(this.id)\" onclick=\"onMouseClickFlat_igdbjvwkqzaskjhkwkpb(this.id)\" >see </div></div></div></div><div id=\"igdbjvwkqzaskjhkwkpb_input_node_46_container\" style=\"display:inline;text-align:center\"><div id=\"igdbjvwkqzaskjhkwkpb_input_node_46_label\" style=\"display:none; padding-top: 0px; font-size:12px;\"></div><div id=\"igdbjvwkqzaskjhkwkpb_input_node_46_content\" style=\"display:inline;\"><div id=\"igdbjvwkqzaskjhkwkpb_input_node_3_container\" style=\"display:inline;text-align:center\"><div id=\"igdbjvwkqzaskjhkwkpb_input_node_3_label\" style=\"display:none; padding-top: 0px; font-size:12px;\"></div><div id=\"igdbjvwkqzaskjhkwkpb_input_node_3_content\"style='display: inline; background:transparent; border-radius: 3px; padding: 0px;cursor: default;cursor: pointer;'onmouseover=\"onMouseHoverFlat_igdbjvwkqzaskjhkwkpb(this.id)\" onmouseout=\"onMouseOutFlat_igdbjvwkqzaskjhkwkpb(this.id)\" onclick=\"onMouseClickFlat_igdbjvwkqzaskjhkwkpb(this.id)\" >the </div></div><div id=\"igdbjvwkqzaskjhkwkpb_input_node_4_container\" style=\"display:inline;text-align:center\"><div id=\"igdbjvwkqzaskjhkwkpb_input_node_4_label\" style=\"display:none; padding-top: 0px; font-size:12px;\"></div><div id=\"igdbjvwkqzaskjhkwkpb_input_node_4_content\"style='display: inline; background:transparent; border-radius: 3px; padding: 0px;cursor: default;cursor: pointer;'onmouseover=\"onMouseHoverFlat_igdbjvwkqzaskjhkwkpb(this.id)\" onmouseout=\"onMouseOutFlat_igdbjvwkqzaskjhkwkpb(this.id)\" onclick=\"onMouseClickFlat_igdbjvwkqzaskjhkwkpb(this.id)\" >look </div></div></div></div></div></div><div id=\"igdbjvwkqzaskjhkwkpb_input_node_63_container\" style=\"display:inline;text-align:center\"><div id=\"igdbjvwkqzaskjhkwkpb_input_node_63_label\" style=\"display:none; padding-top: 0px; font-size:12px;\"></div><div id=\"igdbjvwkqzaskjhkwkpb_input_node_63_content\" style=\"display:inline;\"><div id=\"igdbjvwkqzaskjhkwkpb_input_node_47_container\" style=\"display:inline;text-align:center\"><div id=\"igdbjvwkqzaskjhkwkpb_input_node_47_label\" style=\"display:none; padding-top: 0px; font-size:12px;\"></div><div id=\"igdbjvwkqzaskjhkwkpb_input_node_47_content\" style=\"display:inline;\"><div id=\"igdbjvwkqzaskjhkwkpb_input_node_5_container\" style=\"display:inline;text-align:center\"><div id=\"igdbjvwkqzaskjhkwkpb_input_node_5_label\" style=\"display:none; padding-top: 0px; font-size:12px;\"></div><div id=\"igdbjvwkqzaskjhkwkpb_input_node_5_content\"style='display: inline; background:transparent; border-radius: 3px; padding: 0px;cursor: default;cursor: pointer;'onmouseover=\"onMouseHoverFlat_igdbjvwkqzaskjhkwkpb(this.id)\" onmouseout=\"onMouseOutFlat_igdbjvwkqzaskjhkwkpb(this.id)\" onclick=\"onMouseClickFlat_igdbjvwkqzaskjhkwkpb(this.id)\" >of </div></div><div id=\"igdbjvwkqzaskjhkwkpb_input_node_6_container\" style=\"display:inline;text-align:center\"><div id=\"igdbjvwkqzaskjhkwkpb_input_node_6_label\" style=\"display:none; padding-top: 0px; font-size:12px;\"></div><div id=\"igdbjvwkqzaskjhkwkpb_input_node_6_content\"style='display: inline; background:transparent; border-radius: 3px; padding: 0px;cursor: default;cursor: pointer;'onmouseover=\"onMouseHoverFlat_igdbjvwkqzaskjhkwkpb(this.id)\" onmouseout=\"onMouseOutFlat_igdbjvwkqzaskjhkwkpb(this.id)\" onclick=\"onMouseClickFlat_igdbjvwkqzaskjhkwkpb(this.id)\" >doubt </div></div></div></div><div id=\"igdbjvwkqzaskjhkwkpb_input_node_48_container\" style=\"display:inline;text-align:center\"><div id=\"igdbjvwkqzaskjhkwkpb_input_node_48_label\" style=\"display:none; padding-top: 0px; font-size:12px;\"></div><div id=\"igdbjvwkqzaskjhkwkpb_input_node_48_content\" style=\"display:inline;\"><div id=\"igdbjvwkqzaskjhkwkpb_input_node_7_container\" style=\"display:inline;text-align:center\"><div id=\"igdbjvwkqzaskjhkwkpb_input_node_7_label\" style=\"display:none; padding-top: 0px; font-size:12px;\"></div><div id=\"igdbjvwkqzaskjhkwkpb_input_node_7_content\"style='display: inline; background:transparent; border-radius: 3px; padding: 0px;cursor: default;cursor: pointer;'onmouseover=\"onMouseHoverFlat_igdbjvwkqzaskjhkwkpb(this.id)\" onmouseout=\"onMouseOutFlat_igdbjvwkqzaskjhkwkpb(this.id)\" onclick=\"onMouseClickFlat_igdbjvwkqzaskjhkwkpb(this.id)\" >on </div></div><div id=\"igdbjvwkqzaskjhkwkpb_input_node_8_container\" style=\"display:inline;text-align:center\"><div id=\"igdbjvwkqzaskjhkwkpb_input_node_8_label\" style=\"display:none; padding-top: 0px; font-size:12px;\"></div><div id=\"igdbjvwkqzaskjhkwkpb_input_node_8_content\"style='display: inline; background:transparent; border-radius: 3px; padding: 0px;cursor: default;cursor: pointer;'onmouseover=\"onMouseHoverFlat_igdbjvwkqzaskjhkwkpb(this.id)\" onmouseout=\"onMouseOutFlat_igdbjvwkqzaskjhkwkpb(this.id)\" onclick=\"onMouseClickFlat_igdbjvwkqzaskjhkwkpb(this.id)\" >your </div></div></div></div></div></div></div></div><div id=\"igdbjvwkqzaskjhkwkpb_input_node_73_container\" style=\"display:inline;text-align:center\"><div id=\"igdbjvwkqzaskjhkwkpb_input_node_73_label\" style=\"display:none; padding-top: 0px; font-size:12px;\"></div><div id=\"igdbjvwkqzaskjhkwkpb_input_node_73_content\" style=\"display:inline;\"><div id=\"igdbjvwkqzaskjhkwkpb_input_node_64_container\" style=\"display:inline;text-align:center\"><div id=\"igdbjvwkqzaskjhkwkpb_input_node_64_label\" style=\"display:none; padding-top: 0px; font-size:12px;\"></div><div id=\"igdbjvwkqzaskjhkwkpb_input_node_64_content\" style=\"display:inline;\"><div id=\"igdbjvwkqzaskjhkwkpb_input_node_49_container\" style=\"display:inline;text-align:center\"><div id=\"igdbjvwkqzaskjhkwkpb_input_node_49_label\" style=\"display:none; padding-top: 0px; font-size:12px;\"></div><div id=\"igdbjvwkqzaskjhkwkpb_input_node_49_content\" style=\"display:inline;\"><div id=\"igdbjvwkqzaskjhkwkpb_input_node_9_container\" style=\"display:inline;text-align:center\"><div id=\"igdbjvwkqzaskjhkwkpb_input_node_9_label\" style=\"display:none; padding-top: 0px; font-size:12px;\"></div><div id=\"igdbjvwkqzaskjhkwkpb_input_node_9_content\"style='display: inline; background:transparent; border-radius: 3px; padding: 0px;cursor: default;cursor: pointer;'onmouseover=\"onMouseHoverFlat_igdbjvwkqzaskjhkwkpb(this.id)\" onmouseout=\"onMouseOutFlat_igdbjvwkqzaskjhkwkpb(this.id)\" onclick=\"onMouseClickFlat_igdbjvwkqzaskjhkwkpb(this.id)\" >face </div></div><div id=\"igdbjvwkqzaskjhkwkpb_input_node_10_container\" style=\"display:inline;text-align:center\"><div id=\"igdbjvwkqzaskjhkwkpb_input_node_10_label\" style=\"display:none; padding-top: 0px; font-size:12px;\"></div><div id=\"igdbjvwkqzaskjhkwkpb_input_node_10_content\"style='display: inline; background:transparent; border-radius: 3px; padding: 0px;cursor: default;cursor: pointer;'onmouseover=\"onMouseHoverFlat_igdbjvwkqzaskjhkwkpb(this.id)\" onmouseout=\"onMouseOutFlat_igdbjvwkqzaskjhkwkpb(this.id)\" onclick=\"onMouseClickFlat_igdbjvwkqzaskjhkwkpb(this.id)\" >i </div></div></div></div><div id=\"igdbjvwkqzaskjhkwkpb_input_node_50_container\" style=\"display:inline;text-align:center\"><div id=\"igdbjvwkqzaskjhkwkpb_input_node_50_label\" style=\"display:none; padding-top: 0px; font-size:12px;\"></div><div id=\"igdbjvwkqzaskjhkwkpb_input_node_50_content\" style=\"display:inline;\"><div id=\"igdbjvwkqzaskjhkwkpb_input_node_11_container\" style=\"display:inline;text-align:center\"><div id=\"igdbjvwkqzaskjhkwkpb_input_node_11_label\" style=\"display:none; padding-top: 0px; font-size:12px;\"></div><div id=\"igdbjvwkqzaskjhkwkpb_input_node_11_content\"style='display: inline; background:transparent; border-radius: 3px; padding: 0px;cursor: default;cursor: pointer;'onmouseover=\"onMouseHoverFlat_igdbjvwkqzaskjhkwkpb(this.id)\" onmouseout=\"onMouseOutFlat_igdbjvwkqzaskjhkwkpb(this.id)\" onclick=\"onMouseClickFlat_igdbjvwkqzaskjhkwkpb(this.id)\" >feel </div></div><div id=\"igdbjvwkqzaskjhkwkpb_input_node_12_container\" style=\"display:inline;text-align:center\"><div id=\"igdbjvwkqzaskjhkwkpb_input_node_12_label\" style=\"display:none; padding-top: 0px; font-size:12px;\"></div><div id=\"igdbjvwkqzaskjhkwkpb_input_node_12_content\"style='display: inline; background:transparent; border-radius: 3px; padding: 0px;cursor: default;cursor: pointer;'onmouseover=\"onMouseHoverFlat_igdbjvwkqzaskjhkwkpb(this.id)\" onmouseout=\"onMouseOutFlat_igdbjvwkqzaskjhkwkpb(this.id)\" onclick=\"onMouseClickFlat_igdbjvwkqzaskjhkwkpb(this.id)\" >the </div></div></div></div></div></div><div id=\"igdbjvwkqzaskjhkwkpb_input_node_68_container\" style=\"display:inline;text-align:center\"><div id=\"igdbjvwkqzaskjhkwkpb_input_node_68_label\" style=\"display:none; padding-top: 0px; font-size:12px;\"></div><div id=\"igdbjvwkqzaskjhkwkpb_input_node_68_content\" style=\"display:inline;\"><div id=\"igdbjvwkqzaskjhkwkpb_input_node_41_container\" style=\"display:inline;text-align:center\"><div id=\"igdbjvwkqzaskjhkwkpb_input_node_41_label\" style=\"display:none; padding-top: 0px; font-size:12px;\"></div><div id=\"igdbjvwkqzaskjhkwkpb_input_node_41_content\" style=\"display:inline;\"><div id=\"igdbjvwkqzaskjhkwkpb_input_node_13_container\" style=\"display:inline;text-align:center\"><div id=\"igdbjvwkqzaskjhkwkpb_input_node_13_label\" style=\"display:none; padding-top: 0px; font-size:12px;\"></div><div id=\"igdbjvwkqzaskjhkwkpb_input_node_13_content\"style='display: inline; background:transparent; border-radius: 3px; padding: 0px;cursor: default;cursor: pointer;'onmouseover=\"onMouseHoverFlat_igdbjvwkqzaskjhkwkpb(this.id)\" onmouseout=\"onMouseOutFlat_igdbjvwkqzaskjhkwkpb(this.id)\" onclick=\"onMouseClickFlat_igdbjvwkqzaskjhkwkpb(this.id)\" >s </div></div><div id=\"igdbjvwkqzaskjhkwkpb_input_node_14_container\" style=\"display:inline;text-align:center\"><div id=\"igdbjvwkqzaskjhkwkpb_input_node_14_label\" style=\"display:none; padding-top: 0px; font-size:12px;\"></div><div id=\"igdbjvwkqzaskjhkwkpb_input_node_14_content\"style='display: inline; background:transparent; border-radius: 3px; padding: 0px;cursor: default;cursor: pointer;'onmouseover=\"onMouseHoverFlat_igdbjvwkqzaskjhkwkpb(this.id)\" onmouseout=\"onMouseOutFlat_igdbjvwkqzaskjhkwkpb(this.id)\" onclick=\"onMouseClickFlat_igdbjvwkqzaskjhkwkpb(this.id)\" >##corn </div></div></div></div><div id=\"igdbjvwkqzaskjhkwkpb_input_node_58_container\" style=\"display:inline;text-align:center\"><div id=\"igdbjvwkqzaskjhkwkpb_input_node_58_label\" style=\"display:none; padding-top: 0px; font-size:12px;\"></div><div id=\"igdbjvwkqzaskjhkwkpb_input_node_58_content\" style=\"display:inline;\"><div id=\"igdbjvwkqzaskjhkwkpb_input_node_51_container\" style=\"display:inline;text-align:center\"><div id=\"igdbjvwkqzaskjhkwkpb_input_node_51_label\" style=\"display:none; padding-top: 0px; font-size:12px;\"></div><div id=\"igdbjvwkqzaskjhkwkpb_input_node_51_content\" style=\"display:inline;\"><div id=\"igdbjvwkqzaskjhkwkpb_input_node_15_container\" style=\"display:inline;text-align:center\"><div id=\"igdbjvwkqzaskjhkwkpb_input_node_15_label\" style=\"display:none; padding-top: 0px; font-size:12px;\"></div><div id=\"igdbjvwkqzaskjhkwkpb_input_node_15_content\"style='display: inline; background:transparent; border-radius: 3px; padding: 0px;cursor: default;cursor: pointer;'onmouseover=\"onMouseHoverFlat_igdbjvwkqzaskjhkwkpb(this.id)\" onmouseout=\"onMouseOutFlat_igdbjvwkqzaskjhkwkpb(this.id)\" onclick=\"onMouseClickFlat_igdbjvwkqzaskjhkwkpb(this.id)\" >in </div></div><div id=\"igdbjvwkqzaskjhkwkpb_input_node_16_container\" style=\"display:inline;text-align:center\"><div id=\"igdbjvwkqzaskjhkwkpb_input_node_16_label\" style=\"display:none; padding-top: 0px; font-size:12px;\"></div><div id=\"igdbjvwkqzaskjhkwkpb_input_node_16_content\"style='display: inline; background:transparent; border-radius: 3px; padding: 0px;cursor: default;cursor: pointer;'onmouseover=\"onMouseHoverFlat_igdbjvwkqzaskjhkwkpb(this.id)\" onmouseout=\"onMouseOutFlat_igdbjvwkqzaskjhkwkpb(this.id)\" onclick=\"onMouseClickFlat_igdbjvwkqzaskjhkwkpb(this.id)\" >your </div></div></div></div><div id=\"igdbjvwkqzaskjhkwkpb_input_node_17_container\" style=\"display:inline;text-align:center\"><div id=\"igdbjvwkqzaskjhkwkpb_input_node_17_label\" style=\"display:none; padding-top: 0px; font-size:12px;\"></div><div id=\"igdbjvwkqzaskjhkwkpb_input_node_17_content\"style='display: inline; background:transparent; border-radius: 3px; padding: 0px;cursor: default;cursor: pointer;'onmouseover=\"onMouseHoverFlat_igdbjvwkqzaskjhkwkpb(this.id)\" onmouseout=\"onMouseOutFlat_igdbjvwkqzaskjhkwkpb(this.id)\" onclick=\"onMouseClickFlat_igdbjvwkqzaskjhkwkpb(this.id)\" >eyes </div></div></div></div></div></div></div></div></div></div><div id=\"igdbjvwkqzaskjhkwkpb_input_node_77_container\" style=\"display:inline;text-align:center\"><div id=\"igdbjvwkqzaskjhkwkpb_input_node_77_label\" style=\"display:none; padding-top: 0px; font-size:12px;\"></div><div id=\"igdbjvwkqzaskjhkwkpb_input_node_77_content\" style=\"display:inline;\"><div id=\"igdbjvwkqzaskjhkwkpb_input_node_75_container\" style=\"display:inline;text-align:center\"><div id=\"igdbjvwkqzaskjhkwkpb_input_node_75_label\" style=\"display:none; padding-top: 0px; font-size:12px;\"></div><div id=\"igdbjvwkqzaskjhkwkpb_input_node_75_content\" style=\"display:inline;\"><div id=\"igdbjvwkqzaskjhkwkpb_input_node_70_container\" style=\"display:inline;text-align:center\"><div id=\"igdbjvwkqzaskjhkwkpb_input_node_70_label\" style=\"display:none; padding-top: 0px; font-size:12px;\"></div><div id=\"igdbjvwkqzaskjhkwkpb_input_node_70_content\" style=\"display:inline;\"><div id=\"igdbjvwkqzaskjhkwkpb_input_node_18_container\" style=\"display:inline;text-align:center\"><div id=\"igdbjvwkqzaskjhkwkpb_input_node_18_label\" style=\"display:none; padding-top: 0px; font-size:12px;\"></div><div id=\"igdbjvwkqzaskjhkwkpb_input_node_18_content\"style='display: inline; background:transparent; border-radius: 3px; padding: 0px;cursor: default;cursor: pointer;'onmouseover=\"onMouseHoverFlat_igdbjvwkqzaskjhkwkpb(this.id)\" onmouseout=\"onMouseOutFlat_igdbjvwkqzaskjhkwkpb(this.id)\" onclick=\"onMouseClickFlat_igdbjvwkqzaskjhkwkpb(this.id)\" >but </div></div><div id=\"igdbjvwkqzaskjhkwkpb_input_node_65_container\" style=\"display:inline;text-align:center\"><div id=\"igdbjvwkqzaskjhkwkpb_input_node_65_label\" style=\"display:none; padding-top: 0px; font-size:12px;\"></div><div id=\"igdbjvwkqzaskjhkwkpb_input_node_65_content\" style=\"display:inline;\"><div id=\"igdbjvwkqzaskjhkwkpb_input_node_52_container\" style=\"display:inline;text-align:center\"><div id=\"igdbjvwkqzaskjhkwkpb_input_node_52_label\" style=\"display:none; padding-top: 0px; font-size:12px;\"></div><div id=\"igdbjvwkqzaskjhkwkpb_input_node_52_content\" style=\"display:inline;\"><div id=\"igdbjvwkqzaskjhkwkpb_input_node_19_container\" style=\"display:inline;text-align:center\"><div id=\"igdbjvwkqzaskjhkwkpb_input_node_19_label\" style=\"display:none; padding-top: 0px; font-size:12px;\"></div><div id=\"igdbjvwkqzaskjhkwkpb_input_node_19_content\"style='display: inline; background:transparent; border-radius: 3px; padding: 0px;cursor: default;cursor: pointer;'onmouseover=\"onMouseHoverFlat_igdbjvwkqzaskjhkwkpb(this.id)\" onmouseout=\"onMouseOutFlat_igdbjvwkqzaskjhkwkpb(this.id)\" onclick=\"onMouseClickFlat_igdbjvwkqzaskjhkwkpb(this.id)\" >for </div></div><div id=\"igdbjvwkqzaskjhkwkpb_input_node_20_container\" style=\"display:inline;text-align:center\"><div id=\"igdbjvwkqzaskjhkwkpb_input_node_20_label\" style=\"display:none; padding-top: 0px; font-size:12px;\"></div><div id=\"igdbjvwkqzaskjhkwkpb_input_node_20_content\"style='display: inline; background:transparent; border-radius: 3px; padding: 0px;cursor: default;cursor: pointer;'onmouseover=\"onMouseHoverFlat_igdbjvwkqzaskjhkwkpb(this.id)\" onmouseout=\"onMouseOutFlat_igdbjvwkqzaskjhkwkpb(this.id)\" onclick=\"onMouseClickFlat_igdbjvwkqzaskjhkwkpb(this.id)\" >anyone </div></div></div></div><div id=\"igdbjvwkqzaskjhkwkpb_input_node_53_container\" style=\"display:inline;text-align:center\"><div id=\"igdbjvwkqzaskjhkwkpb_input_node_53_label\" style=\"display:none; padding-top: 0px; font-size:12px;\"></div><div id=\"igdbjvwkqzaskjhkwkpb_input_node_53_content\" style=\"display:inline;\"><div id=\"igdbjvwkqzaskjhkwkpb_input_node_21_container\" style=\"display:inline;text-align:center\"><div id=\"igdbjvwkqzaskjhkwkpb_input_node_21_label\" style=\"display:none; padding-top: 0px; font-size:12px;\"></div><div id=\"igdbjvwkqzaskjhkwkpb_input_node_21_content\"style='display: inline; background:transparent; border-radius: 3px; padding: 0px;cursor: default;cursor: pointer;'onmouseover=\"onMouseHoverFlat_igdbjvwkqzaskjhkwkpb(this.id)\" onmouseout=\"onMouseOutFlat_igdbjvwkqzaskjhkwkpb(this.id)\" onclick=\"onMouseClickFlat_igdbjvwkqzaskjhkwkpb(this.id)\" >skeptical </div></div><div id=\"igdbjvwkqzaskjhkwkpb_input_node_22_container\" style=\"display:inline;text-align:center\"><div id=\"igdbjvwkqzaskjhkwkpb_input_node_22_label\" style=\"display:none; padding-top: 0px; font-size:12px;\"></div><div id=\"igdbjvwkqzaskjhkwkpb_input_node_22_content\"style='display: inline; background:transparent; border-radius: 3px; padding: 0px;cursor: default;cursor: pointer;'onmouseover=\"onMouseHoverFlat_igdbjvwkqzaskjhkwkpb(this.id)\" onmouseout=\"onMouseOutFlat_igdbjvwkqzaskjhkwkpb(this.id)\" onclick=\"onMouseClickFlat_igdbjvwkqzaskjhkwkpb(this.id)\" >of </div></div></div></div></div></div></div></div><div id=\"igdbjvwkqzaskjhkwkpb_input_node_71_container\" style=\"display:inline;text-align:center\"><div id=\"igdbjvwkqzaskjhkwkpb_input_node_71_label\" style=\"display:none; padding-top: 0px; font-size:12px;\"></div><div id=\"igdbjvwkqzaskjhkwkpb_input_node_71_content\" style=\"display:inline;\"><div id=\"igdbjvwkqzaskjhkwkpb_input_node_59_container\" style=\"display:inline;text-align:center\"><div id=\"igdbjvwkqzaskjhkwkpb_input_node_59_label\" style=\"display:none; padding-top: 0px; font-size:12px;\"></div><div id=\"igdbjvwkqzaskjhkwkpb_input_node_59_content\" style=\"display:inline;\"><div id=\"igdbjvwkqzaskjhkwkpb_input_node_42_container\" style=\"display:inline;text-align:center\"><div id=\"igdbjvwkqzaskjhkwkpb_input_node_42_label\" style=\"display:none; padding-top: 0px; font-size:12px;\"></div><div id=\"igdbjvwkqzaskjhkwkpb_input_node_42_content\" style=\"display:inline;\"><div id=\"igdbjvwkqzaskjhkwkpb_input_node_23_container\" style=\"display:inline;text-align:center\"><div id=\"igdbjvwkqzaskjhkwkpb_input_node_23_label\" style=\"display:none; padding-top: 0px; font-size:12px;\"></div><div id=\"igdbjvwkqzaskjhkwkpb_input_node_23_content\"style='display: inline; background:transparent; border-radius: 3px; padding: 0px;cursor: default;cursor: pointer;'onmouseover=\"onMouseHoverFlat_igdbjvwkqzaskjhkwkpb(this.id)\" onmouseout=\"onMouseOutFlat_igdbjvwkqzaskjhkwkpb(this.id)\" onclick=\"onMouseClickFlat_igdbjvwkqzaskjhkwkpb(this.id)\" >g </div></div><div id=\"igdbjvwkqzaskjhkwkpb_input_node_24_container\" style=\"display:inline;text-align:center\"><div id=\"igdbjvwkqzaskjhkwkpb_input_node_24_label\" style=\"display:none; padding-top: 0px; font-size:12px;\"></div><div id=\"igdbjvwkqzaskjhkwkpb_input_node_24_content\"style='display: inline; background:transparent; border-radius: 3px; padding: 0px;cursor: default;cursor: pointer;'onmouseover=\"onMouseHoverFlat_igdbjvwkqzaskjhkwkpb(this.id)\" onmouseout=\"onMouseOutFlat_igdbjvwkqzaskjhkwkpb(this.id)\" onclick=\"onMouseClickFlat_igdbjvwkqzaskjhkwkpb(this.id)\" >##rits </div></div></div></div><div id=\"igdbjvwkqzaskjhkwkpb_input_node_25_container\" style=\"display:inline;text-align:center\"><div id=\"igdbjvwkqzaskjhkwkpb_input_node_25_label\" style=\"display:none; padding-top: 0px; font-size:12px;\"></div><div id=\"igdbjvwkqzaskjhkwkpb_input_node_25_content\"style='display: inline; background:transparent; border-radius: 3px; padding: 0px;cursor: default;cursor: pointer;'onmouseover=\"onMouseHoverFlat_igdbjvwkqzaskjhkwkpb(this.id)\" onmouseout=\"onMouseOutFlat_igdbjvwkqzaskjhkwkpb(this.id)\" onclick=\"onMouseClickFlat_igdbjvwkqzaskjhkwkpb(this.id)\" >dinner </div></div></div></div><div id=\"igdbjvwkqzaskjhkwkpb_input_node_66_container\" style=\"display:inline;text-align:center\"><div id=\"igdbjvwkqzaskjhkwkpb_input_node_66_label\" style=\"display:none; padding-top: 0px; font-size:12px;\"></div><div id=\"igdbjvwkqzaskjhkwkpb_input_node_66_content\" style=\"display:inline;\"><div id=\"igdbjvwkqzaskjhkwkpb_input_node_43_container\" style=\"display:inline;text-align:center\"><div id=\"igdbjvwkqzaskjhkwkpb_input_node_43_label\" style=\"display:none; padding-top: 0px; font-size:12px;\"></div><div id=\"igdbjvwkqzaskjhkwkpb_input_node_43_content\" style=\"display:inline;\"><div id=\"igdbjvwkqzaskjhkwkpb_input_node_26_container\" style=\"display:inline;text-align:center\"><div id=\"igdbjvwkqzaskjhkwkpb_input_node_26_label\" style=\"display:none; padding-top: 0px; font-size:12px;\"></div><div id=\"igdbjvwkqzaskjhkwkpb_input_node_26_content\"style='display: inline; background:transparent; border-radius: 3px; padding: 0px;cursor: default;cursor: pointer;'onmouseover=\"onMouseHoverFlat_igdbjvwkqzaskjhkwkpb(this.id)\" onmouseout=\"onMouseOutFlat_igdbjvwkqzaskjhkwkpb(this.id)\" onclick=\"onMouseClickFlat_igdbjvwkqzaskjhkwkpb(this.id)\" >g </div></div><div id=\"igdbjvwkqzaskjhkwkpb_input_node_27_container\" style=\"display:inline;text-align:center\"><div id=\"igdbjvwkqzaskjhkwkpb_input_node_27_label\" style=\"display:none; padding-top: 0px; font-size:12px;\"></div><div id=\"igdbjvwkqzaskjhkwkpb_input_node_27_content\"style='display: inline; background:transparent; border-radius: 3px; padding: 0px;cursor: default;cursor: pointer;'onmouseover=\"onMouseHoverFlat_igdbjvwkqzaskjhkwkpb(this.id)\" onmouseout=\"onMouseOutFlat_igdbjvwkqzaskjhkwkpb(this.id)\" onclick=\"onMouseClickFlat_igdbjvwkqzaskjhkwkpb(this.id)\" >##rits </div></div></div></div><div id=\"igdbjvwkqzaskjhkwkpb_input_node_54_container\" style=\"display:inline;text-align:center\"><div id=\"igdbjvwkqzaskjhkwkpb_input_node_54_label\" style=\"display:none; padding-top: 0px; font-size:12px;\"></div><div id=\"igdbjvwkqzaskjhkwkpb_input_node_54_content\" style=\"display:inline;\"><div id=\"igdbjvwkqzaskjhkwkpb_input_node_28_container\" style=\"display:inline;text-align:center\"><div id=\"igdbjvwkqzaskjhkwkpb_input_node_28_label\" style=\"display:none; padding-top: 0px; font-size:12px;\"></div><div id=\"igdbjvwkqzaskjhkwkpb_input_node_28_content\"style='display: inline; background:transparent; border-radius: 3px; padding: 0px;cursor: default;cursor: pointer;'onmouseover=\"onMouseHoverFlat_igdbjvwkqzaskjhkwkpb(this.id)\" onmouseout=\"onMouseOutFlat_igdbjvwkqzaskjhkwkpb(this.id)\" onclick=\"onMouseClickFlat_igdbjvwkqzaskjhkwkpb(this.id)\" >please </div></div><div id=\"igdbjvwkqzaskjhkwkpb_input_node_29_container\" style=\"display:inline;text-align:center\"><div id=\"igdbjvwkqzaskjhkwkpb_input_node_29_label\" style=\"display:none; padding-top: 0px; font-size:12px;\"></div><div id=\"igdbjvwkqzaskjhkwkpb_input_node_29_content\"style='display: inline; background:transparent; border-radius: 3px; padding: 0px;cursor: default;cursor: pointer;'onmouseover=\"onMouseHoverFlat_igdbjvwkqzaskjhkwkpb(this.id)\" onmouseout=\"onMouseOutFlat_igdbjvwkqzaskjhkwkpb(this.id)\" onclick=\"onMouseClickFlat_igdbjvwkqzaskjhkwkpb(this.id)\" >see </div></div></div></div></div></div></div></div></div></div><div id=\"igdbjvwkqzaskjhkwkpb_input_node_74_container\" style=\"display:inline;text-align:center\"><div id=\"igdbjvwkqzaskjhkwkpb_input_node_74_label\" style=\"display:none; padding-top: 0px; font-size:12px;\"></div><div id=\"igdbjvwkqzaskjhkwkpb_input_node_74_content\" style=\"display:inline;\"><div id=\"igdbjvwkqzaskjhkwkpb_input_node_67_container\" style=\"display:inline;text-align:center\"><div id=\"igdbjvwkqzaskjhkwkpb_input_node_67_label\" style=\"display:none; padding-top: 0px; font-size:12px;\"></div><div id=\"igdbjvwkqzaskjhkwkpb_input_node_67_content\" style=\"display:inline;\"><div id=\"igdbjvwkqzaskjhkwkpb_input_node_55_container\" style=\"display:inline;text-align:center\"><div id=\"igdbjvwkqzaskjhkwkpb_input_node_55_label\" style=\"display:none; padding-top: 0px; font-size:12px;\"></div><div id=\"igdbjvwkqzaskjhkwkpb_input_node_55_content\" style=\"display:inline;\"><div id=\"igdbjvwkqzaskjhkwkpb_input_node_30_container\" style=\"display:inline;text-align:center\"><div id=\"igdbjvwkqzaskjhkwkpb_input_node_30_label\" style=\"display:none; padding-top: 0px; font-size:12px;\"></div><div id=\"igdbjvwkqzaskjhkwkpb_input_node_30_content\"style='display: inline; background:transparent; border-radius: 3px; padding: 0px;cursor: default;cursor: pointer;'onmouseover=\"onMouseHoverFlat_igdbjvwkqzaskjhkwkpb(this.id)\" onmouseout=\"onMouseOutFlat_igdbjvwkqzaskjhkwkpb(this.id)\" onclick=\"onMouseClickFlat_igdbjvwkqzaskjhkwkpb(this.id)\" >this </div></div><div id=\"igdbjvwkqzaskjhkwkpb_input_node_31_container\" style=\"display:inline;text-align:center\"><div id=\"igdbjvwkqzaskjhkwkpb_input_node_31_label\" style=\"display:none; padding-top: 0px; font-size:12px;\"></div><div id=\"igdbjvwkqzaskjhkwkpb_input_node_31_content\"style='display: inline; background:transparent; border-radius: 3px; padding: 0px;cursor: default;cursor: pointer;'onmouseover=\"onMouseHoverFlat_igdbjvwkqzaskjhkwkpb(this.id)\" onmouseout=\"onMouseOutFlat_igdbjvwkqzaskjhkwkpb(this.id)\" onclick=\"onMouseClickFlat_igdbjvwkqzaskjhkwkpb(this.id)\" >as </div></div></div></div><div id=\"igdbjvwkqzaskjhkwkpb_input_node_56_container\" style=\"display:inline;text-align:center\"><div id=\"igdbjvwkqzaskjhkwkpb_input_node_56_label\" style=\"display:none; padding-top: 0px; font-size:12px;\"></div><div id=\"igdbjvwkqzaskjhkwkpb_input_node_56_content\" style=\"display:inline;\"><div id=\"igdbjvwkqzaskjhkwkpb_input_node_32_container\" style=\"display:inline;text-align:center\"><div id=\"igdbjvwkqzaskjhkwkpb_input_node_32_label\" style=\"display:none; padding-top: 0px; font-size:12px;\"></div><div id=\"igdbjvwkqzaskjhkwkpb_input_node_32_content\"style='display: inline; background:transparent; border-radius: 3px; padding: 0px;cursor: default;cursor: pointer;'onmouseover=\"onMouseHoverFlat_igdbjvwkqzaskjhkwkpb(this.id)\" onmouseout=\"onMouseOutFlat_igdbjvwkqzaskjhkwkpb(this.id)\" onclick=\"onMouseClickFlat_igdbjvwkqzaskjhkwkpb(this.id)\" >a </div></div><div id=\"igdbjvwkqzaskjhkwkpb_input_node_33_container\" style=\"display:inline;text-align:center\"><div id=\"igdbjvwkqzaskjhkwkpb_input_node_33_label\" style=\"display:none; padding-top: 0px; font-size:12px;\"></div><div id=\"igdbjvwkqzaskjhkwkpb_input_node_33_content\"style='display: inline; background:transparent; border-radius: 3px; padding: 0px;cursor: default;cursor: pointer;'onmouseover=\"onMouseHoverFlat_igdbjvwkqzaskjhkwkpb(this.id)\" onmouseout=\"onMouseOutFlat_igdbjvwkqzaskjhkwkpb(this.id)\" onclick=\"onMouseClickFlat_igdbjvwkqzaskjhkwkpb(this.id)\" >totally </div></div></div></div></div></div><div id=\"igdbjvwkqzaskjhkwkpb_input_node_69_container\" style=\"display:inline;text-align:center\"><div id=\"igdbjvwkqzaskjhkwkpb_input_node_69_label\" style=\"display:none; padding-top: 0px; font-size:12px;\"></div><div id=\"igdbjvwkqzaskjhkwkpb_input_node_69_content\" style=\"display:inline;\"><div id=\"igdbjvwkqzaskjhkwkpb_input_node_60_container\" style=\"display:inline;text-align:center\"><div id=\"igdbjvwkqzaskjhkwkpb_input_node_60_label\" style=\"display:none; padding-top: 0px; font-size:12px;\"></div><div id=\"igdbjvwkqzaskjhkwkpb_input_node_60_content\" style=\"display:inline;\"><div id=\"igdbjvwkqzaskjhkwkpb_input_node_57_container\" style=\"display:inline;text-align:center\"><div id=\"igdbjvwkqzaskjhkwkpb_input_node_57_label\" style=\"display:none; padding-top: 0px; font-size:12px;\"></div><div id=\"igdbjvwkqzaskjhkwkpb_input_node_57_content\" style=\"display:inline;\"><div id=\"igdbjvwkqzaskjhkwkpb_input_node_34_container\" style=\"display:inline;text-align:center\"><div id=\"igdbjvwkqzaskjhkwkpb_input_node_34_label\" style=\"display:none; padding-top: 0px; font-size:12px;\"></div><div id=\"igdbjvwkqzaskjhkwkpb_input_node_34_content\"style='display: inline; background:transparent; border-radius: 3px; padding: 0px;cursor: default;cursor: pointer;'onmouseover=\"onMouseHoverFlat_igdbjvwkqzaskjhkwkpb(this.id)\" onmouseout=\"onMouseOutFlat_igdbjvwkqzaskjhkwkpb(this.id)\" onclick=\"onMouseClickFlat_igdbjvwkqzaskjhkwkpb(this.id)\" >amazing </div></div><div id=\"igdbjvwkqzaskjhkwkpb_input_node_35_container\" style=\"display:inline;text-align:center\"><div id=\"igdbjvwkqzaskjhkwkpb_input_node_35_label\" style=\"display:none; padding-top: 0px; font-size:12px;\"></div><div id=\"igdbjvwkqzaskjhkwkpb_input_node_35_content\"style='display: inline; background:transparent; border-radius: 3px; padding: 0px;cursor: default;cursor: pointer;'onmouseover=\"onMouseHoverFlat_igdbjvwkqzaskjhkwkpb(this.id)\" onmouseout=\"onMouseOutFlat_igdbjvwkqzaskjhkwkpb(this.id)\" onclick=\"onMouseClickFlat_igdbjvwkqzaskjhkwkpb(this.id)\" >sister </div></div></div></div><div id=\"igdbjvwkqzaskjhkwkpb_input_node_36_container\" style=\"display:inline;text-align:center\"><div id=\"igdbjvwkqzaskjhkwkpb_input_node_36_label\" style=\"display:none; padding-top: 0px; font-size:12px;\"></div><div id=\"igdbjvwkqzaskjhkwkpb_input_node_36_content\"style='display: inline; background:transparent; border-radius: 3px; padding: 0px;cursor: default;cursor: pointer;'onmouseover=\"onMouseHoverFlat_igdbjvwkqzaskjhkwkpb(this.id)\" onmouseout=\"onMouseOutFlat_igdbjvwkqzaskjhkwkpb(this.id)\" onclick=\"onMouseClickFlat_igdbjvwkqzaskjhkwkpb(this.id)\" >to </div></div></div></div><div id=\"igdbjvwkqzaskjhkwkpb_input_node_61_container\" style=\"display:inline;text-align:center\"><div id=\"igdbjvwkqzaskjhkwkpb_input_node_61_label\" style=\"display:none; padding-top: 0px; font-size:12px;\"></div><div id=\"igdbjvwkqzaskjhkwkpb_input_node_61_content\" style=\"display:inline;\"><div id=\"igdbjvwkqzaskjhkwkpb_input_node_44_container\" style=\"display:inline;text-align:center\"><div id=\"igdbjvwkqzaskjhkwkpb_input_node_44_label\" style=\"display:none; padding-top: 0px; font-size:12px;\"></div><div id=\"igdbjvwkqzaskjhkwkpb_input_node_44_content\" style=\"display:inline;\"><div id=\"igdbjvwkqzaskjhkwkpb_input_node_37_container\" style=\"display:inline;text-align:center\"><div id=\"igdbjvwkqzaskjhkwkpb_input_node_37_label\" style=\"display:none; padding-top: 0px; font-size:12px;\"></div><div id=\"igdbjvwkqzaskjhkwkpb_input_node_37_content\"style='display: inline; background:transparent; border-radius: 3px; padding: 0px;cursor: default;cursor: pointer;'onmouseover=\"onMouseHoverFlat_igdbjvwkqzaskjhkwkpb(this.id)\" onmouseout=\"onMouseOutFlat_igdbjvwkqzaskjhkwkpb(this.id)\" onclick=\"onMouseClickFlat_igdbjvwkqzaskjhkwkpb(this.id)\" >ma </div></div><div id=\"igdbjvwkqzaskjhkwkpb_input_node_38_container\" style=\"display:inline;text-align:center\"><div id=\"igdbjvwkqzaskjhkwkpb_input_node_38_label\" style=\"display:none; padding-top: 0px; font-size:12px;\"></div><div id=\"igdbjvwkqzaskjhkwkpb_input_node_38_content\"style='display: inline; background:transparent; border-radius: 3px; padding: 0px;cursor: default;cursor: pointer;'onmouseover=\"onMouseHoverFlat_igdbjvwkqzaskjhkwkpb(this.id)\" onmouseout=\"onMouseOutFlat_igdbjvwkqzaskjhkwkpb(this.id)\" onclick=\"onMouseClickFlat_igdbjvwkqzaskjhkwkpb(this.id)\" >##shed </div></div></div></div><div id=\"igdbjvwkqzaskjhkwkpb_input_node_39_container\" style=\"display:inline;text-align:center\"><div id=\"igdbjvwkqzaskjhkwkpb_input_node_39_label\" style=\"display:none; padding-top: 0px; font-size:12px;\"></div><div id=\"igdbjvwkqzaskjhkwkpb_input_node_39_content\"style='display: inline; background:transparent; border-radius: 3px; padding: 0px;cursor: default;cursor: pointer;'onmouseover=\"onMouseHoverFlat_igdbjvwkqzaskjhkwkpb(this.id)\" onmouseout=\"onMouseOutFlat_igdbjvwkqzaskjhkwkpb(this.id)\" onclick=\"onMouseClickFlat_igdbjvwkqzaskjhkwkpb(this.id)\" >potatoes </div></div></div></div></div></div></div></div></div></div></div></div></div></div><div id=\"igdbjvwkqzaskjhkwkpb_input_node_40_container\" style=\"display:inline;text-align:center\"><div id=\"igdbjvwkqzaskjhkwkpb_input_node_40_label\" style=\"display:none; padding-top: 0px; font-size:12px;\"></div><div id=\"igdbjvwkqzaskjhkwkpb_input_node_40_content\"style='display: inline; background:transparent; border-radius: 3px; padding: 0px;cursor: default;cursor: pointer;'onmouseover=\"onMouseHoverFlat_igdbjvwkqzaskjhkwkpb(this.id)\" onmouseout=\"onMouseOutFlat_igdbjvwkqzaskjhkwkpb(this.id)\" onclick=\"onMouseClickFlat_igdbjvwkqzaskjhkwkpb(this.id)\" > </div></div></div></div>\n",
              "              </div>\n",
              "            </div>\n",
              "            <div id=\"igdbjvwkqzaskjhkwkpb_output_container\" style=\"padding:15px;border-style:solid;margin:5px;flex:1;\">\n",
              "              <div id=\"igdbjvwkqzaskjhkwkpb_output_header\" style=\"margin:5px;font-weight:bold;font-family:sans-serif;margin-bottom:10px\">\n",
              "                Output Text\n",
              "              </div>\n",
              "              <div id=\"igdbjvwkqzaskjhkwkpb_output_content\" style=\"margin:5px;font-family:sans-serif;\">\n",
              "                  <div style='display:inline; text-align:center;'><div id='igdbjvwkqzaskjhkwkpb_output_flat_value_label_0'style='display:none;color: #999; padding-top: 0px; font-size:12px;'></div><div id='igdbjvwkqzaskjhkwkpb_output_flat_token_0'style='display: inline; background:transparent; border-radius: 3px; padding: 0px;cursor: default;cursor: pointer;'onmouseover=\"onMouseHoverFlat_igdbjvwkqzaskjhkwkpb(this.id)\" onmouseout=\"onMouseOutFlat_igdbjvwkqzaskjhkwkpb(this.id)\" onclick=\"onMouseClickFlat_igdbjvwkqzaskjhkwkpb(this.id)\" >sadness </div></div><div style='display:inline; text-align:center;'><div id='igdbjvwkqzaskjhkwkpb_output_flat_value_label_1'style='display:none;color: #999; padding-top: 0px; font-size:12px;'></div><div id='igdbjvwkqzaskjhkwkpb_output_flat_token_1'style='display: inline; background:transparent; border-radius: 3px; padding: 0px;cursor: default;cursor: pointer;'onmouseover=\"onMouseHoverFlat_igdbjvwkqzaskjhkwkpb(this.id)\" onmouseout=\"onMouseOutFlat_igdbjvwkqzaskjhkwkpb(this.id)\" onclick=\"onMouseClickFlat_igdbjvwkqzaskjhkwkpb(this.id)\" >joy </div></div><div style='display:inline; text-align:center;'><div id='igdbjvwkqzaskjhkwkpb_output_flat_value_label_2'style='display:none;color: #999; padding-top: 0px; font-size:12px;'></div><div id='igdbjvwkqzaskjhkwkpb_output_flat_token_2'style='display: inline; background:transparent; border-radius: 3px; padding: 0px;cursor: default;cursor: pointer;'onmouseover=\"onMouseHoverFlat_igdbjvwkqzaskjhkwkpb(this.id)\" onmouseout=\"onMouseOutFlat_igdbjvwkqzaskjhkwkpb(this.id)\" onclick=\"onMouseClickFlat_igdbjvwkqzaskjhkwkpb(this.id)\" >love </div></div><div style='display:inline; text-align:center;'><div id='igdbjvwkqzaskjhkwkpb_output_flat_value_label_3'style='display:none;color: #999; padding-top: 0px; font-size:12px;'></div><div id='igdbjvwkqzaskjhkwkpb_output_flat_token_3'style='display: inline; background:transparent; border-radius: 3px; padding: 0px;cursor: default;cursor: pointer;'onmouseover=\"onMouseHoverFlat_igdbjvwkqzaskjhkwkpb(this.id)\" onmouseout=\"onMouseOutFlat_igdbjvwkqzaskjhkwkpb(this.id)\" onclick=\"onMouseClickFlat_igdbjvwkqzaskjhkwkpb(this.id)\" >anger </div></div><div style='display:inline; text-align:center;'><div id='igdbjvwkqzaskjhkwkpb_output_flat_value_label_4'style='display:none;color: #999; padding-top: 0px; font-size:12px;'></div><div id='igdbjvwkqzaskjhkwkpb_output_flat_token_4'style='display: inline; background:transparent; border-radius: 3px; padding: 0px;cursor: default;cursor: pointer;'onmouseover=\"onMouseHoverFlat_igdbjvwkqzaskjhkwkpb(this.id)\" onmouseout=\"onMouseOutFlat_igdbjvwkqzaskjhkwkpb(this.id)\" onclick=\"onMouseClickFlat_igdbjvwkqzaskjhkwkpb(this.id)\" >fear </div></div><div style='display:inline; text-align:center;'><div id='igdbjvwkqzaskjhkwkpb_output_flat_value_label_5'style='display:none;color: #999; padding-top: 0px; font-size:12px;'></div><div id='igdbjvwkqzaskjhkwkpb_output_flat_token_5'style='display: inline; background:transparent; border-radius: 3px; padding: 0px;cursor: default;cursor: pointer;'onmouseover=\"onMouseHoverFlat_igdbjvwkqzaskjhkwkpb(this.id)\" onmouseout=\"onMouseOutFlat_igdbjvwkqzaskjhkwkpb(this.id)\" onclick=\"onMouseClickFlat_igdbjvwkqzaskjhkwkpb(this.id)\" >surprise </div></div>\n",
              "              </div>\n",
              "            </div>\n",
              "          </div>\n",
              "        </div>\n",
              "    \n",
              "        <script>\n",
              "            function selectAlignment_igdbjvwkqzaskjhkwkpb(selectObject) {\n",
              "                var value = selectObject.value;\n",
              "                if ( value === \"left-right\" ){\n",
              "                  document.getElementById('igdbjvwkqzaskjhkwkpb_heatmap_content').style.display  = \"flex\";\n",
              "                }\n",
              "                else if ( value === \"top-bottom\" ) {\n",
              "                  document.getElementById('igdbjvwkqzaskjhkwkpb_heatmap_content').style.display  = \"inline\";\n",
              "                }\n",
              "            }\n",
              "            \n",
              "            var igdbjvwkqzaskjhkwkpb_heatmap_flat_state = null;\n",
              "            \n",
              "            function onMouseHoverFlat_igdbjvwkqzaskjhkwkpb(id) {\n",
              "                if (igdbjvwkqzaskjhkwkpb_heatmap_flat_state === null) {\n",
              "                    setBackgroundColors_igdbjvwkqzaskjhkwkpb(id);\n",
              "                    document.getElementById(id).style.backgroundColor  = \"grey\";\n",
              "                }\n",
              "                \n",
              "                if (getIdSide_igdbjvwkqzaskjhkwkpb(id) === 'input' && getIdSide_igdbjvwkqzaskjhkwkpb(igdbjvwkqzaskjhkwkpb_heatmap_flat_state) === 'output'){\n",
              "                \n",
              "                    label_content_id = token_id_to_node_id_mapping_igdbjvwkqzaskjhkwkpb[igdbjvwkqzaskjhkwkpb_heatmap_flat_state][id];\n",
              "                    \n",
              "                    if (document.getElementById(label_content_id).previousElementSibling.style.display == 'none'){\n",
              "                        document.getElementById(label_content_id).style.textShadow = \"0px 0px 1px #000000\";\n",
              "                    }\n",
              "                    \n",
              "                }\n",
              "                \n",
              "            }\n",
              "            \n",
              "            function onMouseOutFlat_igdbjvwkqzaskjhkwkpb(id) {\n",
              "                if (igdbjvwkqzaskjhkwkpb_heatmap_flat_state === null) {\n",
              "                    cleanValuesAndColors_igdbjvwkqzaskjhkwkpb(id);\n",
              "                    document.getElementById(id).style.backgroundColor  = \"transparent\";\n",
              "                }\n",
              "                \n",
              "                if (getIdSide_igdbjvwkqzaskjhkwkpb(id) === 'input' && getIdSide_igdbjvwkqzaskjhkwkpb(igdbjvwkqzaskjhkwkpb_heatmap_flat_state) === 'output'){\n",
              "                \n",
              "                    label_content_id = token_id_to_node_id_mapping_igdbjvwkqzaskjhkwkpb[igdbjvwkqzaskjhkwkpb_heatmap_flat_state][id];\n",
              "                    \n",
              "                    if (document.getElementById(label_content_id).previousElementSibling.style.display == 'none'){\n",
              "                        document.getElementById(label_content_id).style.textShadow = \"inherit\";\n",
              "                    }\n",
              "                    \n",
              "                }\n",
              "                \n",
              "            }\n",
              "\n",
              "            function onMouseClickFlat_igdbjvwkqzaskjhkwkpb(id) {\n",
              "                if (igdbjvwkqzaskjhkwkpb_heatmap_flat_state === id) {\n",
              "                    \n",
              "                    // If the clicked token was already selected\n",
              "                    \n",
              "                    document.getElementById(id).style.backgroundColor  = \"transparent\";\n",
              "                    cleanValuesAndColors_igdbjvwkqzaskjhkwkpb(id);\n",
              "                    igdbjvwkqzaskjhkwkpb_heatmap_flat_state = null;\n",
              "                }\n",
              "                else {\n",
              "                    if (igdbjvwkqzaskjhkwkpb_heatmap_flat_state === null) {\n",
              "                    \n",
              "                        // No token previously selected, new token clicked on\n",
              "                    \n",
              "                        cleanValuesAndColors_igdbjvwkqzaskjhkwkpb(id)\n",
              "                        igdbjvwkqzaskjhkwkpb_heatmap_flat_state = id;\n",
              "                        document.getElementById(id).style.backgroundColor  = \"grey\";\n",
              "                        setLabelValues_igdbjvwkqzaskjhkwkpb(id);\n",
              "                        setBackgroundColors_igdbjvwkqzaskjhkwkpb(id);\n",
              "                    }\n",
              "                    else {\n",
              "                        if (getIdSide_igdbjvwkqzaskjhkwkpb(igdbjvwkqzaskjhkwkpb_heatmap_flat_state) === getIdSide_igdbjvwkqzaskjhkwkpb(id)) {\n",
              "                        \n",
              "                            // User clicked a token on the same side as the currently selected token\n",
              "                            \n",
              "                            cleanValuesAndColors_igdbjvwkqzaskjhkwkpb(igdbjvwkqzaskjhkwkpb_heatmap_flat_state)\n",
              "                            document.getElementById(igdbjvwkqzaskjhkwkpb_heatmap_flat_state).style.backgroundColor  = \"transparent\";\n",
              "                            igdbjvwkqzaskjhkwkpb_heatmap_flat_state = id;\n",
              "                            document.getElementById(id).style.backgroundColor  = \"grey\";\n",
              "                            setLabelValues_igdbjvwkqzaskjhkwkpb(id);\n",
              "                            setBackgroundColors_igdbjvwkqzaskjhkwkpb(id);\n",
              "                        }\n",
              "                        else{\n",
              "                            \n",
              "                            if (getIdSide_igdbjvwkqzaskjhkwkpb(id) === 'input') {\n",
              "                                label_content_id = token_id_to_node_id_mapping_igdbjvwkqzaskjhkwkpb[igdbjvwkqzaskjhkwkpb_heatmap_flat_state][id];\n",
              "                                \n",
              "                                if (document.getElementById(label_content_id).previousElementSibling.style.display == 'none') {\n",
              "                                    document.getElementById(label_content_id).previousElementSibling.style.display = 'block';\n",
              "                                    document.getElementById(label_content_id).parentNode.style.display = 'inline-block';\n",
              "                                    document.getElementById(label_content_id).style.textShadow = \"0px 0px 1px #000000\";\n",
              "                                  }\n",
              "                                else {\n",
              "                                    document.getElementById(label_content_id).previousElementSibling.style.display = 'none';\n",
              "                                    document.getElementById(label_content_id).parentNode.style.display = 'inline';\n",
              "                                    document.getElementById(label_content_id).style.textShadow  = \"inherit\"; \n",
              "                                  }\n",
              "                                \n",
              "                            }\n",
              "                            else {\n",
              "                                if (document.getElementById(id).previousElementSibling.style.display == 'none') {\n",
              "                                    document.getElementById(id).previousElementSibling.style.display = 'block';\n",
              "                                    document.getElementById(id).parentNode.style.display = 'inline-block';\n",
              "                                  }\n",
              "                                else {\n",
              "                                    document.getElementById(id).previousElementSibling.style.display = 'none';\n",
              "                                    document.getElementById(id).parentNode.style.display = 'inline';\n",
              "                                  }\n",
              "                            }\n",
              "                        \n",
              "                        }\n",
              "                    }\n",
              "                \n",
              "                }\n",
              "            }\n",
              "\n",
              "            function setLabelValues_igdbjvwkqzaskjhkwkpb(id) {\n",
              "                for(const token in shap_values_igdbjvwkqzaskjhkwkpb[id]){\n",
              "                    document.getElementById(token).innerHTML = shap_values_igdbjvwkqzaskjhkwkpb[id][token];\n",
              "                    document.getElementById(token).nextElementSibling.title = 'SHAP Value : ' + shap_values_igdbjvwkqzaskjhkwkpb[id][token];\n",
              "                }\n",
              "            }\n",
              "\n",
              "            function setBackgroundColors_igdbjvwkqzaskjhkwkpb(id) {\n",
              "                for(const token in colors_igdbjvwkqzaskjhkwkpb[id]){\n",
              "                    document.getElementById(token).style.backgroundColor  = colors_igdbjvwkqzaskjhkwkpb[id][token];\n",
              "                }\n",
              "            }\n",
              "\n",
              "            function cleanValuesAndColors_igdbjvwkqzaskjhkwkpb(id) {\n",
              "                for(const token in shap_values_igdbjvwkqzaskjhkwkpb[id]){\n",
              "                    document.getElementById(token).innerHTML = \"\";\n",
              "                    document.getElementById(token).nextElementSibling.title = \"\";\n",
              "                }\n",
              "                 for(const token in colors_igdbjvwkqzaskjhkwkpb[id]){\n",
              "                    document.getElementById(token).style.backgroundColor  = \"transparent\";\n",
              "                    document.getElementById(token).previousElementSibling.style.display = 'none';\n",
              "                    document.getElementById(token).parentNode.style.display = 'inline';\n",
              "                    document.getElementById(token).style.textShadow  = \"inherit\"; \n",
              "                }\n",
              "            }\n",
              "            \n",
              "            function getIdSide_igdbjvwkqzaskjhkwkpb(id) {\n",
              "                if (id === null) {\n",
              "                    return 'null'\n",
              "                }\n",
              "                return id.split(\"_\")[1];\n",
              "            }\n",
              "        </script>\n",
              "    <script> colors_igdbjvwkqzaskjhkwkpb = {\"igdbjvwkqzaskjhkwkpb_input_node_0_content\": {\"igdbjvwkqzaskjhkwkpb_output_flat_token_0\": \"rgba(230.2941176470614, 26.505882352939775, 102.59215686274348, 0.0)\", \"igdbjvwkqzaskjhkwkpb_output_flat_token_1\": \"rgba(54.70588235294111, 122.49411764705886, 213.40784313725496, 0.0)\", \"igdbjvwkqzaskjhkwkpb_output_flat_token_2\": \"rgba(230.2941176470614, 26.505882352939775, 102.59215686274348, 0.0)\", \"igdbjvwkqzaskjhkwkpb_output_flat_token_3\": \"rgba(230.2941176470614, 26.505882352939775, 102.59215686274348, 0.0)\", \"igdbjvwkqzaskjhkwkpb_output_flat_token_4\": \"rgba(230.2941176470614, 26.505882352939775, 102.59215686274348, 0.0)\", \"igdbjvwkqzaskjhkwkpb_output_flat_token_5\": \"rgba(230.2941176470614, 26.505882352939775, 102.59215686274348, 0.0)\"}, \"igdbjvwkqzaskjhkwkpb_input_node_1_content\": {\"igdbjvwkqzaskjhkwkpb_output_flat_token_0\": \"rgba(30.0, 136.0, 229.0, 0.06195286195286191)\", \"igdbjvwkqzaskjhkwkpb_output_flat_token_1\": \"rgba(255.0, 13.0, 87.0, 0.014656367597544035)\", \"igdbjvwkqzaskjhkwkpb_output_flat_token_2\": \"rgba(30.0, 136.0, 229.0, 0.03042186571598325)\", \"igdbjvwkqzaskjhkwkpb_output_flat_token_3\": \"rgba(30.0, 136.0, 229.0, 0.014656367597544028)\", \"igdbjvwkqzaskjhkwkpb_output_flat_token_4\": \"rgba(30.0, 136.0, 229.0, 0.09348385818974048)\", \"igdbjvwkqzaskjhkwkpb_output_flat_token_5\": \"rgba(30.0, 136.0, 229.0, 0.03042186571598325)\"}, \"igdbjvwkqzaskjhkwkpb_input_node_2_content\": {\"igdbjvwkqzaskjhkwkpb_output_flat_token_0\": \"rgba(30.0, 136.0, 229.0, 0.06195286195286191)\", \"igdbjvwkqzaskjhkwkpb_output_flat_token_1\": \"rgba(255.0, 13.0, 87.0, 0.014656367597544035)\", \"igdbjvwkqzaskjhkwkpb_output_flat_token_2\": \"rgba(30.0, 136.0, 229.0, 0.03042186571598325)\", \"igdbjvwkqzaskjhkwkpb_output_flat_token_3\": \"rgba(30.0, 136.0, 229.0, 0.014656367597544028)\", \"igdbjvwkqzaskjhkwkpb_output_flat_token_4\": \"rgba(30.0, 136.0, 229.0, 0.09348385818974048)\", \"igdbjvwkqzaskjhkwkpb_output_flat_token_5\": \"rgba(30.0, 136.0, 229.0, 0.03042186571598325)\"}, \"igdbjvwkqzaskjhkwkpb_input_node_3_content\": {\"igdbjvwkqzaskjhkwkpb_output_flat_token_0\": \"rgba(30.0, 136.0, 229.0, 0.06195286195286191)\", \"igdbjvwkqzaskjhkwkpb_output_flat_token_1\": \"rgba(255.0, 13.0, 87.0, 0.014656367597544035)\", \"igdbjvwkqzaskjhkwkpb_output_flat_token_2\": \"rgba(30.0, 136.0, 229.0, 0.03042186571598325)\", \"igdbjvwkqzaskjhkwkpb_output_flat_token_3\": \"rgba(30.0, 136.0, 229.0, 0.014656367597544028)\", \"igdbjvwkqzaskjhkwkpb_output_flat_token_4\": \"rgba(30.0, 136.0, 229.0, 0.09348385818974048)\", \"igdbjvwkqzaskjhkwkpb_output_flat_token_5\": \"rgba(30.0, 136.0, 229.0, 0.03042186571598325)\"}, \"igdbjvwkqzaskjhkwkpb_input_node_4_content\": {\"igdbjvwkqzaskjhkwkpb_output_flat_token_0\": \"rgba(30.0, 136.0, 229.0, 0.06195286195286191)\", \"igdbjvwkqzaskjhkwkpb_output_flat_token_1\": \"rgba(255.0, 13.0, 87.0, 0.014656367597544035)\", \"igdbjvwkqzaskjhkwkpb_output_flat_token_2\": \"rgba(30.0, 136.0, 229.0, 0.03042186571598325)\", \"igdbjvwkqzaskjhkwkpb_output_flat_token_3\": \"rgba(30.0, 136.0, 229.0, 0.014656367597544028)\", \"igdbjvwkqzaskjhkwkpb_output_flat_token_4\": \"rgba(30.0, 136.0, 229.0, 0.09348385818974048)\", \"igdbjvwkqzaskjhkwkpb_output_flat_token_5\": \"rgba(30.0, 136.0, 229.0, 0.03042186571598325)\"}, \"igdbjvwkqzaskjhkwkpb_input_node_5_content\": {\"igdbjvwkqzaskjhkwkpb_output_flat_token_0\": \"rgba(30.0, 136.0, 229.0, 0.06195286195286191)\", \"igdbjvwkqzaskjhkwkpb_output_flat_token_1\": \"rgba(255.0, 13.0, 87.0, 0.014656367597544035)\", \"igdbjvwkqzaskjhkwkpb_output_flat_token_2\": \"rgba(30.0, 136.0, 229.0, 0.03042186571598325)\", \"igdbjvwkqzaskjhkwkpb_output_flat_token_3\": \"rgba(30.0, 136.0, 229.0, 0.022539116656763607)\", \"igdbjvwkqzaskjhkwkpb_output_flat_token_4\": \"rgba(30.0, 136.0, 229.0, 0.08560110913052085)\", \"igdbjvwkqzaskjhkwkpb_output_flat_token_5\": \"rgba(30.0, 136.0, 229.0, 0.022539116656763607)\"}, \"igdbjvwkqzaskjhkwkpb_input_node_6_content\": {\"igdbjvwkqzaskjhkwkpb_output_flat_token_0\": \"rgba(30.0, 136.0, 229.0, 0.06195286195286191)\", \"igdbjvwkqzaskjhkwkpb_output_flat_token_1\": \"rgba(255.0, 13.0, 87.0, 0.014656367597544035)\", \"igdbjvwkqzaskjhkwkpb_output_flat_token_2\": \"rgba(30.0, 136.0, 229.0, 0.03042186571598325)\", \"igdbjvwkqzaskjhkwkpb_output_flat_token_3\": \"rgba(30.0, 136.0, 229.0, 0.022539116656763607)\", \"igdbjvwkqzaskjhkwkpb_output_flat_token_4\": \"rgba(30.0, 136.0, 229.0, 0.08560110913052085)\", \"igdbjvwkqzaskjhkwkpb_output_flat_token_5\": \"rgba(30.0, 136.0, 229.0, 0.022539116656763607)\"}, \"igdbjvwkqzaskjhkwkpb_input_node_7_content\": {\"igdbjvwkqzaskjhkwkpb_output_flat_token_0\": \"rgba(30.0, 136.0, 229.0, 0.06195286195286191)\", \"igdbjvwkqzaskjhkwkpb_output_flat_token_1\": \"rgba(255.0, 13.0, 87.0, 0.014656367597544035)\", \"igdbjvwkqzaskjhkwkpb_output_flat_token_2\": \"rgba(30.0, 136.0, 229.0, 0.03042186571598325)\", \"igdbjvwkqzaskjhkwkpb_output_flat_token_3\": \"rgba(30.0, 136.0, 229.0, 0.022539116656763607)\", \"igdbjvwkqzaskjhkwkpb_output_flat_token_4\": \"rgba(30.0, 136.0, 229.0, 0.08560110913052085)\", \"igdbjvwkqzaskjhkwkpb_output_flat_token_5\": \"rgba(30.0, 136.0, 229.0, 0.022539116656763607)\"}, \"igdbjvwkqzaskjhkwkpb_input_node_8_content\": {\"igdbjvwkqzaskjhkwkpb_output_flat_token_0\": \"rgba(30.0, 136.0, 229.0, 0.06195286195286191)\", \"igdbjvwkqzaskjhkwkpb_output_flat_token_1\": \"rgba(255.0, 13.0, 87.0, 0.014656367597544035)\", \"igdbjvwkqzaskjhkwkpb_output_flat_token_2\": \"rgba(30.0, 136.0, 229.0, 0.03042186571598325)\", \"igdbjvwkqzaskjhkwkpb_output_flat_token_3\": \"rgba(30.0, 136.0, 229.0, 0.022539116656763607)\", \"igdbjvwkqzaskjhkwkpb_output_flat_token_4\": \"rgba(30.0, 136.0, 229.0, 0.08560110913052085)\", \"igdbjvwkqzaskjhkwkpb_output_flat_token_5\": \"rgba(30.0, 136.0, 229.0, 0.022539116656763607)\"}, \"igdbjvwkqzaskjhkwkpb_input_node_9_content\": {\"igdbjvwkqzaskjhkwkpb_output_flat_token_0\": \"rgba(30.0, 136.0, 229.0, 0.07771836007130117)\", \"igdbjvwkqzaskjhkwkpb_output_flat_token_1\": \"rgba(255.0, 13.0, 87.0, 0.00677361853832443)\", \"igdbjvwkqzaskjhkwkpb_output_flat_token_2\": \"rgba(30.0, 136.0, 229.0, 0.022539116656763607)\", \"igdbjvwkqzaskjhkwkpb_output_flat_token_3\": \"rgba(30.0, 136.0, 229.0, 0.022539116656763607)\", \"igdbjvwkqzaskjhkwkpb_output_flat_token_4\": \"rgba(30.0, 136.0, 229.0, 0.06983561101208147)\", \"igdbjvwkqzaskjhkwkpb_output_flat_token_5\": \"rgba(30.0, 136.0, 229.0, 0.014656367597544028)\"}, \"igdbjvwkqzaskjhkwkpb_input_node_10_content\": {\"igdbjvwkqzaskjhkwkpb_output_flat_token_0\": \"rgba(30.0, 136.0, 229.0, 0.07771836007130117)\", \"igdbjvwkqzaskjhkwkpb_output_flat_token_1\": \"rgba(255.0, 13.0, 87.0, 0.00677361853832443)\", \"igdbjvwkqzaskjhkwkpb_output_flat_token_2\": \"rgba(30.0, 136.0, 229.0, 0.022539116656763607)\", \"igdbjvwkqzaskjhkwkpb_output_flat_token_3\": \"rgba(30.0, 136.0, 229.0, 0.022539116656763607)\", \"igdbjvwkqzaskjhkwkpb_output_flat_token_4\": \"rgba(30.0, 136.0, 229.0, 0.06983561101208147)\", \"igdbjvwkqzaskjhkwkpb_output_flat_token_5\": \"rgba(30.0, 136.0, 229.0, 0.014656367597544028)\"}, \"igdbjvwkqzaskjhkwkpb_input_node_11_content\": {\"igdbjvwkqzaskjhkwkpb_output_flat_token_0\": \"rgba(30.0, 136.0, 229.0, 0.07771836007130117)\", \"igdbjvwkqzaskjhkwkpb_output_flat_token_1\": \"rgba(255.0, 13.0, 87.0, 0.00677361853832443)\", \"igdbjvwkqzaskjhkwkpb_output_flat_token_2\": \"rgba(30.0, 136.0, 229.0, 0.022539116656763607)\", \"igdbjvwkqzaskjhkwkpb_output_flat_token_3\": \"rgba(30.0, 136.0, 229.0, 0.022539116656763607)\", \"igdbjvwkqzaskjhkwkpb_output_flat_token_4\": \"rgba(30.0, 136.0, 229.0, 0.06983561101208147)\", \"igdbjvwkqzaskjhkwkpb_output_flat_token_5\": \"rgba(30.0, 136.0, 229.0, 0.014656367597544028)\"}, \"igdbjvwkqzaskjhkwkpb_input_node_12_content\": {\"igdbjvwkqzaskjhkwkpb_output_flat_token_0\": \"rgba(30.0, 136.0, 229.0, 0.07771836007130117)\", \"igdbjvwkqzaskjhkwkpb_output_flat_token_1\": \"rgba(255.0, 13.0, 87.0, 0.00677361853832443)\", \"igdbjvwkqzaskjhkwkpb_output_flat_token_2\": \"rgba(30.0, 136.0, 229.0, 0.022539116656763607)\", \"igdbjvwkqzaskjhkwkpb_output_flat_token_3\": \"rgba(30.0, 136.0, 229.0, 0.022539116656763607)\", \"igdbjvwkqzaskjhkwkpb_output_flat_token_4\": \"rgba(30.0, 136.0, 229.0, 0.06983561101208147)\", \"igdbjvwkqzaskjhkwkpb_output_flat_token_5\": \"rgba(30.0, 136.0, 229.0, 0.014656367597544028)\"}, \"igdbjvwkqzaskjhkwkpb_input_node_13_content\": {\"igdbjvwkqzaskjhkwkpb_output_flat_token_0\": \"rgba(30.0, 136.0, 229.0, 0.07771836007130117)\", \"igdbjvwkqzaskjhkwkpb_output_flat_token_1\": \"rgba(255.0, 13.0, 87.0, 0.00677361853832443)\", \"igdbjvwkqzaskjhkwkpb_output_flat_token_2\": \"rgba(30.0, 136.0, 229.0, 0.022539116656763607)\", \"igdbjvwkqzaskjhkwkpb_output_flat_token_3\": \"rgba(30.0, 136.0, 229.0, 0.022539116656763607)\", \"igdbjvwkqzaskjhkwkpb_output_flat_token_4\": \"rgba(30.0, 136.0, 229.0, 0.06983561101208147)\", \"igdbjvwkqzaskjhkwkpb_output_flat_token_5\": \"rgba(30.0, 136.0, 229.0, 0.014656367597544028)\"}, \"igdbjvwkqzaskjhkwkpb_input_node_14_content\": {\"igdbjvwkqzaskjhkwkpb_output_flat_token_0\": \"rgba(30.0, 136.0, 229.0, 0.07771836007130117)\", \"igdbjvwkqzaskjhkwkpb_output_flat_token_1\": \"rgba(255.0, 13.0, 87.0, 0.00677361853832443)\", \"igdbjvwkqzaskjhkwkpb_output_flat_token_2\": \"rgba(30.0, 136.0, 229.0, 0.022539116656763607)\", \"igdbjvwkqzaskjhkwkpb_output_flat_token_3\": \"rgba(30.0, 136.0, 229.0, 0.022539116656763607)\", \"igdbjvwkqzaskjhkwkpb_output_flat_token_4\": \"rgba(30.0, 136.0, 229.0, 0.06983561101208147)\", \"igdbjvwkqzaskjhkwkpb_output_flat_token_5\": \"rgba(30.0, 136.0, 229.0, 0.014656367597544028)\"}, \"igdbjvwkqzaskjhkwkpb_input_node_15_content\": {\"igdbjvwkqzaskjhkwkpb_output_flat_token_0\": \"rgba(30.0, 136.0, 229.0, 0.07771836007130117)\", \"igdbjvwkqzaskjhkwkpb_output_flat_token_1\": \"rgba(255.0, 13.0, 87.0, 0.00677361853832443)\", \"igdbjvwkqzaskjhkwkpb_output_flat_token_2\": \"rgba(30.0, 136.0, 229.0, 0.022539116656763607)\", \"igdbjvwkqzaskjhkwkpb_output_flat_token_3\": \"rgba(30.0, 136.0, 229.0, 0.022539116656763607)\", \"igdbjvwkqzaskjhkwkpb_output_flat_token_4\": \"rgba(30.0, 136.0, 229.0, 0.06983561101208147)\", \"igdbjvwkqzaskjhkwkpb_output_flat_token_5\": \"rgba(30.0, 136.0, 229.0, 0.014656367597544028)\"}, \"igdbjvwkqzaskjhkwkpb_input_node_16_content\": {\"igdbjvwkqzaskjhkwkpb_output_flat_token_0\": \"rgba(30.0, 136.0, 229.0, 0.07771836007130117)\", \"igdbjvwkqzaskjhkwkpb_output_flat_token_1\": \"rgba(255.0, 13.0, 87.0, 0.00677361853832443)\", \"igdbjvwkqzaskjhkwkpb_output_flat_token_2\": \"rgba(30.0, 136.0, 229.0, 0.022539116656763607)\", \"igdbjvwkqzaskjhkwkpb_output_flat_token_3\": \"rgba(30.0, 136.0, 229.0, 0.022539116656763607)\", \"igdbjvwkqzaskjhkwkpb_output_flat_token_4\": \"rgba(30.0, 136.0, 229.0, 0.06983561101208147)\", \"igdbjvwkqzaskjhkwkpb_output_flat_token_5\": \"rgba(30.0, 136.0, 229.0, 0.014656367597544028)\"}, \"igdbjvwkqzaskjhkwkpb_input_node_17_content\": {\"igdbjvwkqzaskjhkwkpb_output_flat_token_0\": \"rgba(30.0, 136.0, 229.0, 0.07771836007130117)\", \"igdbjvwkqzaskjhkwkpb_output_flat_token_1\": \"rgba(255.0, 13.0, 87.0, 0.00677361853832443)\", \"igdbjvwkqzaskjhkwkpb_output_flat_token_2\": \"rgba(30.0, 136.0, 229.0, 0.022539116656763607)\", \"igdbjvwkqzaskjhkwkpb_output_flat_token_3\": \"rgba(30.0, 136.0, 229.0, 0.022539116656763607)\", \"igdbjvwkqzaskjhkwkpb_output_flat_token_4\": \"rgba(30.0, 136.0, 229.0, 0.06983561101208147)\", \"igdbjvwkqzaskjhkwkpb_output_flat_token_5\": \"rgba(30.0, 136.0, 229.0, 0.014656367597544028)\"}, \"igdbjvwkqzaskjhkwkpb_input_node_18_content\": {\"igdbjvwkqzaskjhkwkpb_output_flat_token_0\": \"rgba(30.0, 136.0, 229.0, 0.10924935630817977)\", \"igdbjvwkqzaskjhkwkpb_output_flat_token_1\": \"rgba(30.0, 136.0, 229.0, 0.006773618538324436)\", \"igdbjvwkqzaskjhkwkpb_output_flat_token_2\": \"rgba(255.0, 13.0, 87.0, 0.1880768469003763)\", \"igdbjvwkqzaskjhkwkpb_output_flat_token_3\": \"rgba(255.0, 13.0, 87.0, 0.10924935630817992)\", \"igdbjvwkqzaskjhkwkpb_output_flat_token_4\": \"rgba(255.0, 13.0, 87.0, 0.09348385818974037)\", \"igdbjvwkqzaskjhkwkpb_output_flat_token_5\": \"rgba(30.0, 136.0, 229.0, 0.006773618538324436)\"}, \"igdbjvwkqzaskjhkwkpb_input_node_19_content\": {\"igdbjvwkqzaskjhkwkpb_output_flat_token_0\": \"rgba(30.0, 136.0, 229.0, 0.10924935630817977)\", \"igdbjvwkqzaskjhkwkpb_output_flat_token_1\": \"rgba(30.0, 136.0, 229.0, 0.006773618538324436)\", \"igdbjvwkqzaskjhkwkpb_output_flat_token_2\": \"rgba(255.0, 13.0, 87.0, 0.1880768469003763)\", \"igdbjvwkqzaskjhkwkpb_output_flat_token_3\": \"rgba(255.0, 13.0, 87.0, 0.10924935630817992)\", \"igdbjvwkqzaskjhkwkpb_output_flat_token_4\": \"rgba(255.0, 13.0, 87.0, 0.09348385818974037)\", \"igdbjvwkqzaskjhkwkpb_output_flat_token_5\": \"rgba(30.0, 136.0, 229.0, 0.006773618538324436)\"}, \"igdbjvwkqzaskjhkwkpb_input_node_20_content\": {\"igdbjvwkqzaskjhkwkpb_output_flat_token_0\": \"rgba(30.0, 136.0, 229.0, 0.10924935630817977)\", \"igdbjvwkqzaskjhkwkpb_output_flat_token_1\": \"rgba(30.0, 136.0, 229.0, 0.006773618538324436)\", \"igdbjvwkqzaskjhkwkpb_output_flat_token_2\": \"rgba(255.0, 13.0, 87.0, 0.1880768469003763)\", \"igdbjvwkqzaskjhkwkpb_output_flat_token_3\": \"rgba(255.0, 13.0, 87.0, 0.10924935630817992)\", \"igdbjvwkqzaskjhkwkpb_output_flat_token_4\": \"rgba(255.0, 13.0, 87.0, 0.09348385818974037)\", \"igdbjvwkqzaskjhkwkpb_output_flat_token_5\": \"rgba(30.0, 136.0, 229.0, 0.006773618538324436)\"}, \"igdbjvwkqzaskjhkwkpb_input_node_21_content\": {\"igdbjvwkqzaskjhkwkpb_output_flat_token_0\": \"rgba(30.0, 136.0, 229.0, 0.10924935630817977)\", \"igdbjvwkqzaskjhkwkpb_output_flat_token_1\": \"rgba(30.0, 136.0, 229.0, 0.006773618538324436)\", \"igdbjvwkqzaskjhkwkpb_output_flat_token_2\": \"rgba(255.0, 13.0, 87.0, 0.1880768469003763)\", \"igdbjvwkqzaskjhkwkpb_output_flat_token_3\": \"rgba(255.0, 13.0, 87.0, 0.10924935630817992)\", \"igdbjvwkqzaskjhkwkpb_output_flat_token_4\": \"rgba(255.0, 13.0, 87.0, 0.09348385818974037)\", \"igdbjvwkqzaskjhkwkpb_output_flat_token_5\": \"rgba(30.0, 136.0, 229.0, 0.006773618538324436)\"}, \"igdbjvwkqzaskjhkwkpb_input_node_22_content\": {\"igdbjvwkqzaskjhkwkpb_output_flat_token_0\": \"rgba(30.0, 136.0, 229.0, 0.10924935630817977)\", \"igdbjvwkqzaskjhkwkpb_output_flat_token_1\": \"rgba(30.0, 136.0, 229.0, 0.006773618538324436)\", \"igdbjvwkqzaskjhkwkpb_output_flat_token_2\": \"rgba(255.0, 13.0, 87.0, 0.1880768469003763)\", \"igdbjvwkqzaskjhkwkpb_output_flat_token_3\": \"rgba(255.0, 13.0, 87.0, 0.10924935630817992)\", \"igdbjvwkqzaskjhkwkpb_output_flat_token_4\": \"rgba(255.0, 13.0, 87.0, 0.09348385818974037)\", \"igdbjvwkqzaskjhkwkpb_output_flat_token_5\": \"rgba(30.0, 136.0, 229.0, 0.006773618538324436)\"}, \"igdbjvwkqzaskjhkwkpb_input_node_23_content\": {\"igdbjvwkqzaskjhkwkpb_output_flat_token_0\": \"rgba(30.0, 136.0, 229.0, 0.06983561101208147)\", \"igdbjvwkqzaskjhkwkpb_output_flat_token_1\": \"rgba(30.0, 136.0, 229.0, 0.006773618538324436)\", \"igdbjvwkqzaskjhkwkpb_output_flat_token_2\": \"rgba(255.0, 13.0, 87.0, 0.05407011289364243)\", \"igdbjvwkqzaskjhkwkpb_output_flat_token_3\": \"rgba(30.0, 136.0, 229.0, 0.006773618538324436)\", \"igdbjvwkqzaskjhkwkpb_output_flat_token_4\": \"rgba(255.0, 13.0, 87.0, 0.05407011289364243)\", \"igdbjvwkqzaskjhkwkpb_output_flat_token_5\": \"rgba(255.0, 13.0, 87.0, 0.030421865715983164)\"}, \"igdbjvwkqzaskjhkwkpb_input_node_24_content\": {\"igdbjvwkqzaskjhkwkpb_output_flat_token_0\": \"rgba(30.0, 136.0, 229.0, 0.06983561101208147)\", \"igdbjvwkqzaskjhkwkpb_output_flat_token_1\": \"rgba(30.0, 136.0, 229.0, 0.006773618538324436)\", \"igdbjvwkqzaskjhkwkpb_output_flat_token_2\": \"rgba(255.0, 13.0, 87.0, 0.05407011289364243)\", \"igdbjvwkqzaskjhkwkpb_output_flat_token_3\": \"rgba(30.0, 136.0, 229.0, 0.006773618538324436)\", \"igdbjvwkqzaskjhkwkpb_output_flat_token_4\": \"rgba(255.0, 13.0, 87.0, 0.05407011289364243)\", \"igdbjvwkqzaskjhkwkpb_output_flat_token_5\": \"rgba(255.0, 13.0, 87.0, 0.030421865715983164)\"}, \"igdbjvwkqzaskjhkwkpb_input_node_25_content\": {\"igdbjvwkqzaskjhkwkpb_output_flat_token_0\": \"rgba(30.0, 136.0, 229.0, 0.06983561101208147)\", \"igdbjvwkqzaskjhkwkpb_output_flat_token_1\": \"rgba(30.0, 136.0, 229.0, 0.006773618538324436)\", \"igdbjvwkqzaskjhkwkpb_output_flat_token_2\": \"rgba(255.0, 13.0, 87.0, 0.05407011289364243)\", \"igdbjvwkqzaskjhkwkpb_output_flat_token_3\": \"rgba(30.0, 136.0, 229.0, 0.006773618538324436)\", \"igdbjvwkqzaskjhkwkpb_output_flat_token_4\": \"rgba(255.0, 13.0, 87.0, 0.05407011289364243)\", \"igdbjvwkqzaskjhkwkpb_output_flat_token_5\": \"rgba(255.0, 13.0, 87.0, 0.030421865715983164)\"}, \"igdbjvwkqzaskjhkwkpb_input_node_26_content\": {\"igdbjvwkqzaskjhkwkpb_output_flat_token_0\": \"rgba(30.0, 136.0, 229.0, 0.06983561101208147)\", \"igdbjvwkqzaskjhkwkpb_output_flat_token_1\": \"rgba(30.0, 136.0, 229.0, 0.006773618538324436)\", \"igdbjvwkqzaskjhkwkpb_output_flat_token_2\": \"rgba(255.0, 13.0, 87.0, 0.05407011289364243)\", \"igdbjvwkqzaskjhkwkpb_output_flat_token_3\": \"rgba(30.0, 136.0, 229.0, 0.006773618538324436)\", \"igdbjvwkqzaskjhkwkpb_output_flat_token_4\": \"rgba(255.0, 13.0, 87.0, 0.05407011289364243)\", \"igdbjvwkqzaskjhkwkpb_output_flat_token_5\": \"rgba(255.0, 13.0, 87.0, 0.030421865715983164)\"}, \"igdbjvwkqzaskjhkwkpb_input_node_27_content\": {\"igdbjvwkqzaskjhkwkpb_output_flat_token_0\": \"rgba(30.0, 136.0, 229.0, 0.06983561101208147)\", \"igdbjvwkqzaskjhkwkpb_output_flat_token_1\": \"rgba(30.0, 136.0, 229.0, 0.006773618538324436)\", \"igdbjvwkqzaskjhkwkpb_output_flat_token_2\": \"rgba(255.0, 13.0, 87.0, 0.05407011289364243)\", \"igdbjvwkqzaskjhkwkpb_output_flat_token_3\": \"rgba(30.0, 136.0, 229.0, 0.006773618538324436)\", \"igdbjvwkqzaskjhkwkpb_output_flat_token_4\": \"rgba(255.0, 13.0, 87.0, 0.05407011289364243)\", \"igdbjvwkqzaskjhkwkpb_output_flat_token_5\": \"rgba(255.0, 13.0, 87.0, 0.030421865715983164)\"}, \"igdbjvwkqzaskjhkwkpb_input_node_28_content\": {\"igdbjvwkqzaskjhkwkpb_output_flat_token_0\": \"rgba(30.0, 136.0, 229.0, 0.06983561101208147)\", \"igdbjvwkqzaskjhkwkpb_output_flat_token_1\": \"rgba(30.0, 136.0, 229.0, 0.006773618538324436)\", \"igdbjvwkqzaskjhkwkpb_output_flat_token_2\": \"rgba(255.0, 13.0, 87.0, 0.05407011289364243)\", \"igdbjvwkqzaskjhkwkpb_output_flat_token_3\": \"rgba(30.0, 136.0, 229.0, 0.006773618538324436)\", \"igdbjvwkqzaskjhkwkpb_output_flat_token_4\": \"rgba(255.0, 13.0, 87.0, 0.05407011289364243)\", \"igdbjvwkqzaskjhkwkpb_output_flat_token_5\": \"rgba(255.0, 13.0, 87.0, 0.030421865715983164)\"}, \"igdbjvwkqzaskjhkwkpb_input_node_29_content\": {\"igdbjvwkqzaskjhkwkpb_output_flat_token_0\": \"rgba(30.0, 136.0, 229.0, 0.06983561101208147)\", \"igdbjvwkqzaskjhkwkpb_output_flat_token_1\": \"rgba(30.0, 136.0, 229.0, 0.006773618538324436)\", \"igdbjvwkqzaskjhkwkpb_output_flat_token_2\": \"rgba(255.0, 13.0, 87.0, 0.05407011289364243)\", \"igdbjvwkqzaskjhkwkpb_output_flat_token_3\": \"rgba(30.0, 136.0, 229.0, 0.006773618538324436)\", \"igdbjvwkqzaskjhkwkpb_output_flat_token_4\": \"rgba(255.0, 13.0, 87.0, 0.05407011289364243)\", \"igdbjvwkqzaskjhkwkpb_output_flat_token_5\": \"rgba(255.0, 13.0, 87.0, 0.030421865715983164)\"}, \"igdbjvwkqzaskjhkwkpb_input_node_30_content\": {\"igdbjvwkqzaskjhkwkpb_output_flat_token_0\": \"rgba(230.2941176470614, 26.505882352939775, 102.59215686274348, 0.0)\", \"igdbjvwkqzaskjhkwkpb_output_flat_token_1\": \"rgba(54.70588235294111, 122.49411764705886, 213.40784313725496, 0.0)\", \"igdbjvwkqzaskjhkwkpb_output_flat_token_2\": \"rgba(255.0, 13.0, 87.0, 0.030421865715983164)\", \"igdbjvwkqzaskjhkwkpb_output_flat_token_3\": \"rgba(30.0, 136.0, 229.0, 0.03042186571598325)\", \"igdbjvwkqzaskjhkwkpb_output_flat_token_4\": \"rgba(30.0, 136.0, 229.0, 0.006773618538324436)\", \"igdbjvwkqzaskjhkwkpb_output_flat_token_5\": \"rgba(255.0, 13.0, 87.0, 0.06195286195286207)\"}, \"igdbjvwkqzaskjhkwkpb_input_node_31_content\": {\"igdbjvwkqzaskjhkwkpb_output_flat_token_0\": \"rgba(230.2941176470614, 26.505882352939775, 102.59215686274348, 0.0)\", \"igdbjvwkqzaskjhkwkpb_output_flat_token_1\": \"rgba(54.70588235294111, 122.49411764705886, 213.40784313725496, 0.0)\", \"igdbjvwkqzaskjhkwkpb_output_flat_token_2\": \"rgba(255.0, 13.0, 87.0, 0.030421865715983164)\", \"igdbjvwkqzaskjhkwkpb_output_flat_token_3\": \"rgba(30.0, 136.0, 229.0, 0.03042186571598325)\", \"igdbjvwkqzaskjhkwkpb_output_flat_token_4\": \"rgba(30.0, 136.0, 229.0, 0.006773618538324436)\", \"igdbjvwkqzaskjhkwkpb_output_flat_token_5\": \"rgba(255.0, 13.0, 87.0, 0.06195286195286207)\"}, \"igdbjvwkqzaskjhkwkpb_input_node_32_content\": {\"igdbjvwkqzaskjhkwkpb_output_flat_token_0\": \"rgba(230.2941176470614, 26.505882352939775, 102.59215686274348, 0.0)\", \"igdbjvwkqzaskjhkwkpb_output_flat_token_1\": \"rgba(54.70588235294111, 122.49411764705886, 213.40784313725496, 0.0)\", \"igdbjvwkqzaskjhkwkpb_output_flat_token_2\": \"rgba(255.0, 13.0, 87.0, 0.030421865715983164)\", \"igdbjvwkqzaskjhkwkpb_output_flat_token_3\": \"rgba(30.0, 136.0, 229.0, 0.03042186571598325)\", \"igdbjvwkqzaskjhkwkpb_output_flat_token_4\": \"rgba(30.0, 136.0, 229.0, 0.006773618538324436)\", \"igdbjvwkqzaskjhkwkpb_output_flat_token_5\": \"rgba(255.0, 13.0, 87.0, 0.06195286195286207)\"}, \"igdbjvwkqzaskjhkwkpb_input_node_33_content\": {\"igdbjvwkqzaskjhkwkpb_output_flat_token_0\": \"rgba(230.2941176470614, 26.505882352939775, 102.59215686274348, 0.0)\", \"igdbjvwkqzaskjhkwkpb_output_flat_token_1\": \"rgba(54.70588235294111, 122.49411764705886, 213.40784313725496, 0.0)\", \"igdbjvwkqzaskjhkwkpb_output_flat_token_2\": \"rgba(255.0, 13.0, 87.0, 0.030421865715983164)\", \"igdbjvwkqzaskjhkwkpb_output_flat_token_3\": \"rgba(30.0, 136.0, 229.0, 0.03042186571598325)\", \"igdbjvwkqzaskjhkwkpb_output_flat_token_4\": \"rgba(30.0, 136.0, 229.0, 0.006773618538324436)\", \"igdbjvwkqzaskjhkwkpb_output_flat_token_5\": \"rgba(255.0, 13.0, 87.0, 0.06195286195286207)\"}, \"igdbjvwkqzaskjhkwkpb_input_node_34_content\": {\"igdbjvwkqzaskjhkwkpb_output_flat_token_0\": \"rgba(230.2941176470614, 26.505882352939775, 102.59215686274348, 0.0)\", \"igdbjvwkqzaskjhkwkpb_output_flat_token_1\": \"rgba(54.70588235294111, 122.49411764705886, 213.40784313725496, 0.0)\", \"igdbjvwkqzaskjhkwkpb_output_flat_token_2\": \"rgba(255.0, 13.0, 87.0, 0.030421865715983164)\", \"igdbjvwkqzaskjhkwkpb_output_flat_token_3\": \"rgba(30.0, 136.0, 229.0, 0.03042186571598325)\", \"igdbjvwkqzaskjhkwkpb_output_flat_token_4\": \"rgba(30.0, 136.0, 229.0, 0.006773618538324436)\", \"igdbjvwkqzaskjhkwkpb_output_flat_token_5\": \"rgba(255.0, 13.0, 87.0, 0.06195286195286207)\"}, \"igdbjvwkqzaskjhkwkpb_input_node_35_content\": {\"igdbjvwkqzaskjhkwkpb_output_flat_token_0\": \"rgba(230.2941176470614, 26.505882352939775, 102.59215686274348, 0.0)\", \"igdbjvwkqzaskjhkwkpb_output_flat_token_1\": \"rgba(54.70588235294111, 122.49411764705886, 213.40784313725496, 0.0)\", \"igdbjvwkqzaskjhkwkpb_output_flat_token_2\": \"rgba(255.0, 13.0, 87.0, 0.030421865715983164)\", \"igdbjvwkqzaskjhkwkpb_output_flat_token_3\": \"rgba(30.0, 136.0, 229.0, 0.03042186571598325)\", \"igdbjvwkqzaskjhkwkpb_output_flat_token_4\": \"rgba(30.0, 136.0, 229.0, 0.006773618538324436)\", \"igdbjvwkqzaskjhkwkpb_output_flat_token_5\": \"rgba(255.0, 13.0, 87.0, 0.06195286195286207)\"}, \"igdbjvwkqzaskjhkwkpb_input_node_36_content\": {\"igdbjvwkqzaskjhkwkpb_output_flat_token_0\": \"rgba(230.2941176470614, 26.505882352939775, 102.59215686274348, 0.0)\", \"igdbjvwkqzaskjhkwkpb_output_flat_token_1\": \"rgba(54.70588235294111, 122.49411764705886, 213.40784313725496, 0.0)\", \"igdbjvwkqzaskjhkwkpb_output_flat_token_2\": \"rgba(255.0, 13.0, 87.0, 0.030421865715983164)\", \"igdbjvwkqzaskjhkwkpb_output_flat_token_3\": \"rgba(30.0, 136.0, 229.0, 0.03042186571598325)\", \"igdbjvwkqzaskjhkwkpb_output_flat_token_4\": \"rgba(30.0, 136.0, 229.0, 0.006773618538324436)\", \"igdbjvwkqzaskjhkwkpb_output_flat_token_5\": \"rgba(255.0, 13.0, 87.0, 0.06195286195286207)\"}, \"igdbjvwkqzaskjhkwkpb_input_node_37_content\": {\"igdbjvwkqzaskjhkwkpb_output_flat_token_0\": \"rgba(230.2941176470614, 26.505882352939775, 102.59215686274348, 0.0)\", \"igdbjvwkqzaskjhkwkpb_output_flat_token_1\": \"rgba(54.70588235294111, 122.49411764705886, 213.40784313725496, 0.0)\", \"igdbjvwkqzaskjhkwkpb_output_flat_token_2\": \"rgba(255.0, 13.0, 87.0, 0.030421865715983164)\", \"igdbjvwkqzaskjhkwkpb_output_flat_token_3\": \"rgba(30.0, 136.0, 229.0, 0.03042186571598325)\", \"igdbjvwkqzaskjhkwkpb_output_flat_token_4\": \"rgba(30.0, 136.0, 229.0, 0.006773618538324436)\", \"igdbjvwkqzaskjhkwkpb_output_flat_token_5\": \"rgba(255.0, 13.0, 87.0, 0.06195286195286207)\"}, \"igdbjvwkqzaskjhkwkpb_input_node_38_content\": {\"igdbjvwkqzaskjhkwkpb_output_flat_token_0\": \"rgba(230.2941176470614, 26.505882352939775, 102.59215686274348, 0.0)\", \"igdbjvwkqzaskjhkwkpb_output_flat_token_1\": \"rgba(54.70588235294111, 122.49411764705886, 213.40784313725496, 0.0)\", \"igdbjvwkqzaskjhkwkpb_output_flat_token_2\": \"rgba(255.0, 13.0, 87.0, 0.030421865715983164)\", \"igdbjvwkqzaskjhkwkpb_output_flat_token_3\": \"rgba(30.0, 136.0, 229.0, 0.03042186571598325)\", \"igdbjvwkqzaskjhkwkpb_output_flat_token_4\": \"rgba(30.0, 136.0, 229.0, 0.006773618538324436)\", \"igdbjvwkqzaskjhkwkpb_output_flat_token_5\": \"rgba(255.0, 13.0, 87.0, 0.06195286195286207)\"}, \"igdbjvwkqzaskjhkwkpb_input_node_39_content\": {\"igdbjvwkqzaskjhkwkpb_output_flat_token_0\": \"rgba(230.2941176470614, 26.505882352939775, 102.59215686274348, 0.0)\", \"igdbjvwkqzaskjhkwkpb_output_flat_token_1\": \"rgba(54.70588235294111, 122.49411764705886, 213.40784313725496, 0.0)\", \"igdbjvwkqzaskjhkwkpb_output_flat_token_2\": \"rgba(255.0, 13.0, 87.0, 0.030421865715983164)\", \"igdbjvwkqzaskjhkwkpb_output_flat_token_3\": \"rgba(30.0, 136.0, 229.0, 0.03042186571598325)\", \"igdbjvwkqzaskjhkwkpb_output_flat_token_4\": \"rgba(30.0, 136.0, 229.0, 0.006773618538324436)\", \"igdbjvwkqzaskjhkwkpb_output_flat_token_5\": \"rgba(255.0, 13.0, 87.0, 0.06195286195286207)\"}, \"igdbjvwkqzaskjhkwkpb_input_node_40_content\": {\"igdbjvwkqzaskjhkwkpb_output_flat_token_0\": \"rgba(230.2941176470614, 26.505882352939775, 102.59215686274348, 0.0)\", \"igdbjvwkqzaskjhkwkpb_output_flat_token_1\": \"rgba(54.70588235294111, 122.49411764705886, 213.40784313725496, 0.0)\", \"igdbjvwkqzaskjhkwkpb_output_flat_token_2\": \"rgba(230.2941176470614, 26.505882352939775, 102.59215686274348, 0.0)\", \"igdbjvwkqzaskjhkwkpb_output_flat_token_3\": \"rgba(230.2941176470614, 26.505882352939775, 102.59215686274348, 0.0)\", \"igdbjvwkqzaskjhkwkpb_output_flat_token_4\": \"rgba(230.2941176470614, 26.505882352939775, 102.59215686274348, 0.0)\", \"igdbjvwkqzaskjhkwkpb_output_flat_token_5\": \"rgba(230.2941176470614, 26.505882352939775, 102.59215686274348, 0.0)\"}, \"igdbjvwkqzaskjhkwkpb_output_flat_token_0\": {\"igdbjvwkqzaskjhkwkpb_input_node_0_content\": \"rgba(230.2941176470614, 26.505882352939775, 102.59215686274348, 0.0)\", \"igdbjvwkqzaskjhkwkpb_input_node_72_content\": \"rgba(30.0, 136.0, 229.0, 0.5664488017429193)\", \"igdbjvwkqzaskjhkwkpb_input_node_73_content\": \"rgba(30.0, 136.0, 229.0, 0.7398692810457517)\", \"igdbjvwkqzaskjhkwkpb_input_node_75_content\": \"rgba(30.0, 136.0, 229.0, 1.0)\", \"igdbjvwkqzaskjhkwkpb_input_node_74_content\": \"rgba(230.2941176470614, 26.505882352939775, 102.59215686274348, 0.0)\", \"igdbjvwkqzaskjhkwkpb_input_node_40_content\": \"rgba(230.2941176470614, 26.505882352939775, 102.59215686274348, 0.0)\"}, \"igdbjvwkqzaskjhkwkpb_output_flat_token_1\": {\"igdbjvwkqzaskjhkwkpb_input_node_0_content\": \"rgba(54.70588235294111, 122.49411764705886, 213.40784313725496, 0.0)\", \"igdbjvwkqzaskjhkwkpb_input_node_76_content\": \"rgba(255.0, 13.0, 87.0, 0.2511388393741335)\", \"igdbjvwkqzaskjhkwkpb_input_node_75_content\": \"rgba(30.0, 136.0, 229.0, 0.1328976034858387)\", \"igdbjvwkqzaskjhkwkpb_input_node_74_content\": \"rgba(30.0, 136.0, 229.0, 0.06195286195286191)\", \"igdbjvwkqzaskjhkwkpb_input_node_40_content\": \"rgba(54.70588235294111, 122.49411764705886, 213.40784313725496, 0.0)\"}, \"igdbjvwkqzaskjhkwkpb_output_flat_token_2\": {\"igdbjvwkqzaskjhkwkpb_input_node_0_content\": \"rgba(230.2941176470614, 26.505882352939775, 102.59215686274348, 0.0)\", \"igdbjvwkqzaskjhkwkpb_input_node_72_content\": \"rgba(30.0, 136.0, 229.0, 0.29055258467023176)\", \"igdbjvwkqzaskjhkwkpb_input_node_73_content\": \"rgba(30.0, 136.0, 229.0, 0.2669043374925727)\", \"igdbjvwkqzaskjhkwkpb_input_node_70_content\": \"rgba(255.0, 13.0, 87.0, 1.0)\", \"igdbjvwkqzaskjhkwkpb_input_node_71_content\": \"rgba(255.0, 13.0, 87.0, 0.3536145771439889)\", \"igdbjvwkqzaskjhkwkpb_input_node_74_content\": \"rgba(255.0, 13.0, 87.0, 0.33784907902554967)\", \"igdbjvwkqzaskjhkwkpb_input_node_40_content\": \"rgba(230.2941176470614, 26.505882352939775, 102.59215686274348, 0.0)\"}, \"igdbjvwkqzaskjhkwkpb_output_flat_token_3\": {\"igdbjvwkqzaskjhkwkpb_input_node_0_content\": \"rgba(230.2941176470614, 26.505882352939775, 102.59215686274348, 0.0)\", \"igdbjvwkqzaskjhkwkpb_input_node_72_content\": \"rgba(30.0, 136.0, 229.0, 0.1723113487819369)\", \"igdbjvwkqzaskjhkwkpb_input_node_73_content\": \"rgba(30.0, 136.0, 229.0, 0.25902158843335304)\", \"igdbjvwkqzaskjhkwkpb_input_node_70_content\": \"rgba(255.0, 13.0, 87.0, 0.55068330362448)\", \"igdbjvwkqzaskjhkwkpb_input_node_71_content\": \"rgba(30.0, 136.0, 229.0, 0.05407011289364222)\", \"igdbjvwkqzaskjhkwkpb_input_node_74_content\": \"rgba(30.0, 136.0, 229.0, 0.36149732620320846)\", \"igdbjvwkqzaskjhkwkpb_input_node_40_content\": \"rgba(230.2941176470614, 26.505882352939775, 102.59215686274348, 0.0)\"}, \"igdbjvwkqzaskjhkwkpb_output_flat_token_4\": {\"igdbjvwkqzaskjhkwkpb_input_node_0_content\": \"rgba(230.2941176470614, 26.505882352939775, 102.59215686274348, 0.0)\", \"igdbjvwkqzaskjhkwkpb_input_node_72_content\": \"rgba(30.0, 136.0, 229.0, 0.7714002772826302)\", \"igdbjvwkqzaskjhkwkpb_input_node_73_content\": \"rgba(30.0, 136.0, 229.0, 0.684690037631214)\", \"igdbjvwkqzaskjhkwkpb_input_node_70_content\": \"rgba(255.0, 13.0, 87.0, 0.5349178055060405)\", \"igdbjvwkqzaskjhkwkpb_input_node_71_content\": \"rgba(255.0, 13.0, 87.0, 0.3536145771439889)\", \"igdbjvwkqzaskjhkwkpb_input_node_74_content\": \"rgba(30.0, 136.0, 229.0, 0.12501485442661905)\", \"igdbjvwkqzaskjhkwkpb_input_node_40_content\": \"rgba(230.2941176470614, 26.505882352939775, 102.59215686274348, 0.0)\"}, \"igdbjvwkqzaskjhkwkpb_output_flat_token_5\": {\"igdbjvwkqzaskjhkwkpb_input_node_0_content\": \"rgba(230.2941176470614, 26.505882352939775, 102.59215686274348, 0.0)\", \"igdbjvwkqzaskjhkwkpb_input_node_72_content\": \"rgba(30.0, 136.0, 229.0, 0.27478708655179246)\", \"igdbjvwkqzaskjhkwkpb_input_node_73_content\": \"rgba(30.0, 136.0, 229.0, 0.16442859972271748)\", \"igdbjvwkqzaskjhkwkpb_input_node_70_content\": \"rgba(30.0, 136.0, 229.0, 0.04618736383442258)\", \"igdbjvwkqzaskjhkwkpb_input_node_71_content\": \"rgba(255.0, 13.0, 87.0, 0.22749059219647458)\", \"igdbjvwkqzaskjhkwkpb_input_node_74_content\": \"rgba(255.0, 13.0, 87.0, 0.6295107942166767)\", \"igdbjvwkqzaskjhkwkpb_input_node_40_content\": \"rgba(230.2941176470614, 26.505882352939775, 102.59215686274348, 0.0)\"}}\n",
              " shap_values_igdbjvwkqzaskjhkwkpb = {\"igdbjvwkqzaskjhkwkpb_input_node_0_content\": {\"igdbjvwkqzaskjhkwkpb_output_flat_value_label_0\": 0.0, \"igdbjvwkqzaskjhkwkpb_output_flat_value_label_1\": -0.0, \"igdbjvwkqzaskjhkwkpb_output_flat_value_label_2\": 0.0, \"igdbjvwkqzaskjhkwkpb_output_flat_value_label_3\": 0.0, \"igdbjvwkqzaskjhkwkpb_output_flat_value_label_4\": 0.0, \"igdbjvwkqzaskjhkwkpb_output_flat_value_label_5\": 0.0}, \"igdbjvwkqzaskjhkwkpb_input_node_1_content\": {\"igdbjvwkqzaskjhkwkpb_output_flat_value_label_0\": -0.154, \"igdbjvwkqzaskjhkwkpb_output_flat_value_label_1\": 0.035, \"igdbjvwkqzaskjhkwkpb_output_flat_value_label_2\": -0.084, \"igdbjvwkqzaskjhkwkpb_output_flat_value_label_3\": -0.038, \"igdbjvwkqzaskjhkwkpb_output_flat_value_label_4\": -0.218, \"igdbjvwkqzaskjhkwkpb_output_flat_value_label_5\": -0.084}, \"igdbjvwkqzaskjhkwkpb_input_node_2_content\": {\"igdbjvwkqzaskjhkwkpb_output_flat_value_label_0\": -0.154, \"igdbjvwkqzaskjhkwkpb_output_flat_value_label_1\": 0.035, \"igdbjvwkqzaskjhkwkpb_output_flat_value_label_2\": -0.084, \"igdbjvwkqzaskjhkwkpb_output_flat_value_label_3\": -0.038, \"igdbjvwkqzaskjhkwkpb_output_flat_value_label_4\": -0.218, \"igdbjvwkqzaskjhkwkpb_output_flat_value_label_5\": -0.084}, \"igdbjvwkqzaskjhkwkpb_input_node_3_content\": {\"igdbjvwkqzaskjhkwkpb_output_flat_value_label_0\": -0.154, \"igdbjvwkqzaskjhkwkpb_output_flat_value_label_1\": 0.035, \"igdbjvwkqzaskjhkwkpb_output_flat_value_label_2\": -0.084, \"igdbjvwkqzaskjhkwkpb_output_flat_value_label_3\": -0.038, \"igdbjvwkqzaskjhkwkpb_output_flat_value_label_4\": -0.218, \"igdbjvwkqzaskjhkwkpb_output_flat_value_label_5\": -0.084}, \"igdbjvwkqzaskjhkwkpb_input_node_4_content\": {\"igdbjvwkqzaskjhkwkpb_output_flat_value_label_0\": -0.154, \"igdbjvwkqzaskjhkwkpb_output_flat_value_label_1\": 0.035, \"igdbjvwkqzaskjhkwkpb_output_flat_value_label_2\": -0.084, \"igdbjvwkqzaskjhkwkpb_output_flat_value_label_3\": -0.038, \"igdbjvwkqzaskjhkwkpb_output_flat_value_label_4\": -0.218, \"igdbjvwkqzaskjhkwkpb_output_flat_value_label_5\": -0.084}, \"igdbjvwkqzaskjhkwkpb_input_node_5_content\": {\"igdbjvwkqzaskjhkwkpb_output_flat_value_label_0\": -0.152, \"igdbjvwkqzaskjhkwkpb_output_flat_value_label_1\": 0.036, \"igdbjvwkqzaskjhkwkpb_output_flat_value_label_2\": -0.074, \"igdbjvwkqzaskjhkwkpb_output_flat_value_label_3\": -0.058, \"igdbjvwkqzaskjhkwkpb_output_flat_value_label_4\": -0.196, \"igdbjvwkqzaskjhkwkpb_output_flat_value_label_5\": -0.068}, \"igdbjvwkqzaskjhkwkpb_input_node_6_content\": {\"igdbjvwkqzaskjhkwkpb_output_flat_value_label_0\": -0.152, \"igdbjvwkqzaskjhkwkpb_output_flat_value_label_1\": 0.036, \"igdbjvwkqzaskjhkwkpb_output_flat_value_label_2\": -0.074, \"igdbjvwkqzaskjhkwkpb_output_flat_value_label_3\": -0.058, \"igdbjvwkqzaskjhkwkpb_output_flat_value_label_4\": -0.196, \"igdbjvwkqzaskjhkwkpb_output_flat_value_label_5\": -0.068}, \"igdbjvwkqzaskjhkwkpb_input_node_7_content\": {\"igdbjvwkqzaskjhkwkpb_output_flat_value_label_0\": -0.152, \"igdbjvwkqzaskjhkwkpb_output_flat_value_label_1\": 0.036, \"igdbjvwkqzaskjhkwkpb_output_flat_value_label_2\": -0.074, \"igdbjvwkqzaskjhkwkpb_output_flat_value_label_3\": -0.058, \"igdbjvwkqzaskjhkwkpb_output_flat_value_label_4\": -0.196, \"igdbjvwkqzaskjhkwkpb_output_flat_value_label_5\": -0.068}, \"igdbjvwkqzaskjhkwkpb_input_node_8_content\": {\"igdbjvwkqzaskjhkwkpb_output_flat_value_label_0\": -0.152, \"igdbjvwkqzaskjhkwkpb_output_flat_value_label_1\": 0.036, \"igdbjvwkqzaskjhkwkpb_output_flat_value_label_2\": -0.074, \"igdbjvwkqzaskjhkwkpb_output_flat_value_label_3\": -0.058, \"igdbjvwkqzaskjhkwkpb_output_flat_value_label_4\": -0.196, \"igdbjvwkqzaskjhkwkpb_output_flat_value_label_5\": -0.068}, \"igdbjvwkqzaskjhkwkpb_input_node_9_content\": {\"igdbjvwkqzaskjhkwkpb_output_flat_value_label_0\": -0.182, \"igdbjvwkqzaskjhkwkpb_output_flat_value_label_1\": 0.031, \"igdbjvwkqzaskjhkwkpb_output_flat_value_label_2\": -0.066, \"igdbjvwkqzaskjhkwkpb_output_flat_value_label_3\": -0.064, \"igdbjvwkqzaskjhkwkpb_output_flat_value_label_4\": -0.17, \"igdbjvwkqzaskjhkwkpb_output_flat_value_label_5\": -0.041}, \"igdbjvwkqzaskjhkwkpb_input_node_10_content\": {\"igdbjvwkqzaskjhkwkpb_output_flat_value_label_0\": -0.182, \"igdbjvwkqzaskjhkwkpb_output_flat_value_label_1\": 0.031, \"igdbjvwkqzaskjhkwkpb_output_flat_value_label_2\": -0.066, \"igdbjvwkqzaskjhkwkpb_output_flat_value_label_3\": -0.064, \"igdbjvwkqzaskjhkwkpb_output_flat_value_label_4\": -0.17, \"igdbjvwkqzaskjhkwkpb_output_flat_value_label_5\": -0.041}, \"igdbjvwkqzaskjhkwkpb_input_node_11_content\": {\"igdbjvwkqzaskjhkwkpb_output_flat_value_label_0\": -0.182, \"igdbjvwkqzaskjhkwkpb_output_flat_value_label_1\": 0.031, \"igdbjvwkqzaskjhkwkpb_output_flat_value_label_2\": -0.066, \"igdbjvwkqzaskjhkwkpb_output_flat_value_label_3\": -0.064, \"igdbjvwkqzaskjhkwkpb_output_flat_value_label_4\": -0.17, \"igdbjvwkqzaskjhkwkpb_output_flat_value_label_5\": -0.041}, \"igdbjvwkqzaskjhkwkpb_input_node_12_content\": {\"igdbjvwkqzaskjhkwkpb_output_flat_value_label_0\": -0.182, \"igdbjvwkqzaskjhkwkpb_output_flat_value_label_1\": 0.031, \"igdbjvwkqzaskjhkwkpb_output_flat_value_label_2\": -0.066, \"igdbjvwkqzaskjhkwkpb_output_flat_value_label_3\": -0.064, \"igdbjvwkqzaskjhkwkpb_output_flat_value_label_4\": -0.17, \"igdbjvwkqzaskjhkwkpb_output_flat_value_label_5\": -0.041}, \"igdbjvwkqzaskjhkwkpb_input_node_13_content\": {\"igdbjvwkqzaskjhkwkpb_output_flat_value_label_0\": -0.182, \"igdbjvwkqzaskjhkwkpb_output_flat_value_label_1\": 0.031, \"igdbjvwkqzaskjhkwkpb_output_flat_value_label_2\": -0.066, \"igdbjvwkqzaskjhkwkpb_output_flat_value_label_3\": -0.064, \"igdbjvwkqzaskjhkwkpb_output_flat_value_label_4\": -0.17, \"igdbjvwkqzaskjhkwkpb_output_flat_value_label_5\": -0.041}, \"igdbjvwkqzaskjhkwkpb_input_node_14_content\": {\"igdbjvwkqzaskjhkwkpb_output_flat_value_label_0\": -0.182, \"igdbjvwkqzaskjhkwkpb_output_flat_value_label_1\": 0.031, \"igdbjvwkqzaskjhkwkpb_output_flat_value_label_2\": -0.066, \"igdbjvwkqzaskjhkwkpb_output_flat_value_label_3\": -0.064, \"igdbjvwkqzaskjhkwkpb_output_flat_value_label_4\": -0.17, \"igdbjvwkqzaskjhkwkpb_output_flat_value_label_5\": -0.041}, \"igdbjvwkqzaskjhkwkpb_input_node_15_content\": {\"igdbjvwkqzaskjhkwkpb_output_flat_value_label_0\": -0.182, \"igdbjvwkqzaskjhkwkpb_output_flat_value_label_1\": 0.031, \"igdbjvwkqzaskjhkwkpb_output_flat_value_label_2\": -0.066, \"igdbjvwkqzaskjhkwkpb_output_flat_value_label_3\": -0.064, \"igdbjvwkqzaskjhkwkpb_output_flat_value_label_4\": -0.17, \"igdbjvwkqzaskjhkwkpb_output_flat_value_label_5\": -0.041}, \"igdbjvwkqzaskjhkwkpb_input_node_16_content\": {\"igdbjvwkqzaskjhkwkpb_output_flat_value_label_0\": -0.182, \"igdbjvwkqzaskjhkwkpb_output_flat_value_label_1\": 0.031, \"igdbjvwkqzaskjhkwkpb_output_flat_value_label_2\": -0.066, \"igdbjvwkqzaskjhkwkpb_output_flat_value_label_3\": -0.064, \"igdbjvwkqzaskjhkwkpb_output_flat_value_label_4\": -0.17, \"igdbjvwkqzaskjhkwkpb_output_flat_value_label_5\": -0.041}, \"igdbjvwkqzaskjhkwkpb_input_node_17_content\": {\"igdbjvwkqzaskjhkwkpb_output_flat_value_label_0\": -0.182, \"igdbjvwkqzaskjhkwkpb_output_flat_value_label_1\": 0.031, \"igdbjvwkqzaskjhkwkpb_output_flat_value_label_2\": -0.066, \"igdbjvwkqzaskjhkwkpb_output_flat_value_label_3\": -0.064, \"igdbjvwkqzaskjhkwkpb_output_flat_value_label_4\": -0.17, \"igdbjvwkqzaskjhkwkpb_output_flat_value_label_5\": -0.041}, \"igdbjvwkqzaskjhkwkpb_input_node_18_content\": {\"igdbjvwkqzaskjhkwkpb_output_flat_value_label_0\": -0.256, \"igdbjvwkqzaskjhkwkpb_output_flat_value_label_1\": -0.028, \"igdbjvwkqzaskjhkwkpb_output_flat_value_label_2\": 0.411, \"igdbjvwkqzaskjhkwkpb_output_flat_value_label_3\": 0.241, \"igdbjvwkqzaskjhkwkpb_output_flat_value_label_4\": 0.215, \"igdbjvwkqzaskjhkwkpb_output_flat_value_label_5\": -0.031}, \"igdbjvwkqzaskjhkwkpb_input_node_19_content\": {\"igdbjvwkqzaskjhkwkpb_output_flat_value_label_0\": -0.256, \"igdbjvwkqzaskjhkwkpb_output_flat_value_label_1\": -0.028, \"igdbjvwkqzaskjhkwkpb_output_flat_value_label_2\": 0.411, \"igdbjvwkqzaskjhkwkpb_output_flat_value_label_3\": 0.241, \"igdbjvwkqzaskjhkwkpb_output_flat_value_label_4\": 0.215, \"igdbjvwkqzaskjhkwkpb_output_flat_value_label_5\": -0.031}, \"igdbjvwkqzaskjhkwkpb_input_node_20_content\": {\"igdbjvwkqzaskjhkwkpb_output_flat_value_label_0\": -0.256, \"igdbjvwkqzaskjhkwkpb_output_flat_value_label_1\": -0.028, \"igdbjvwkqzaskjhkwkpb_output_flat_value_label_2\": 0.411, \"igdbjvwkqzaskjhkwkpb_output_flat_value_label_3\": 0.241, \"igdbjvwkqzaskjhkwkpb_output_flat_value_label_4\": 0.215, \"igdbjvwkqzaskjhkwkpb_output_flat_value_label_5\": -0.031}, \"igdbjvwkqzaskjhkwkpb_input_node_21_content\": {\"igdbjvwkqzaskjhkwkpb_output_flat_value_label_0\": -0.256, \"igdbjvwkqzaskjhkwkpb_output_flat_value_label_1\": -0.028, \"igdbjvwkqzaskjhkwkpb_output_flat_value_label_2\": 0.411, \"igdbjvwkqzaskjhkwkpb_output_flat_value_label_3\": 0.241, \"igdbjvwkqzaskjhkwkpb_output_flat_value_label_4\": 0.215, \"igdbjvwkqzaskjhkwkpb_output_flat_value_label_5\": -0.031}, \"igdbjvwkqzaskjhkwkpb_input_node_22_content\": {\"igdbjvwkqzaskjhkwkpb_output_flat_value_label_0\": -0.256, \"igdbjvwkqzaskjhkwkpb_output_flat_value_label_1\": -0.028, \"igdbjvwkqzaskjhkwkpb_output_flat_value_label_2\": 0.411, \"igdbjvwkqzaskjhkwkpb_output_flat_value_label_3\": 0.241, \"igdbjvwkqzaskjhkwkpb_output_flat_value_label_4\": 0.215, \"igdbjvwkqzaskjhkwkpb_output_flat_value_label_5\": -0.031}, \"igdbjvwkqzaskjhkwkpb_input_node_23_content\": {\"igdbjvwkqzaskjhkwkpb_output_flat_value_label_0\": -0.166, \"igdbjvwkqzaskjhkwkpb_output_flat_value_label_1\": -0.021, \"igdbjvwkqzaskjhkwkpb_output_flat_value_label_2\": 0.131, \"igdbjvwkqzaskjhkwkpb_output_flat_value_label_3\": -0.019, \"igdbjvwkqzaskjhkwkpb_output_flat_value_label_4\": 0.124, \"igdbjvwkqzaskjhkwkpb_output_flat_value_label_5\": 0.078}, \"igdbjvwkqzaskjhkwkpb_input_node_24_content\": {\"igdbjvwkqzaskjhkwkpb_output_flat_value_label_0\": -0.166, \"igdbjvwkqzaskjhkwkpb_output_flat_value_label_1\": -0.021, \"igdbjvwkqzaskjhkwkpb_output_flat_value_label_2\": 0.131, \"igdbjvwkqzaskjhkwkpb_output_flat_value_label_3\": -0.019, \"igdbjvwkqzaskjhkwkpb_output_flat_value_label_4\": 0.124, \"igdbjvwkqzaskjhkwkpb_output_flat_value_label_5\": 0.078}, \"igdbjvwkqzaskjhkwkpb_input_node_25_content\": {\"igdbjvwkqzaskjhkwkpb_output_flat_value_label_0\": -0.166, \"igdbjvwkqzaskjhkwkpb_output_flat_value_label_1\": -0.021, \"igdbjvwkqzaskjhkwkpb_output_flat_value_label_2\": 0.131, \"igdbjvwkqzaskjhkwkpb_output_flat_value_label_3\": -0.019, \"igdbjvwkqzaskjhkwkpb_output_flat_value_label_4\": 0.124, \"igdbjvwkqzaskjhkwkpb_output_flat_value_label_5\": 0.078}, \"igdbjvwkqzaskjhkwkpb_input_node_26_content\": {\"igdbjvwkqzaskjhkwkpb_output_flat_value_label_0\": -0.166, \"igdbjvwkqzaskjhkwkpb_output_flat_value_label_1\": -0.021, \"igdbjvwkqzaskjhkwkpb_output_flat_value_label_2\": 0.131, \"igdbjvwkqzaskjhkwkpb_output_flat_value_label_3\": -0.019, \"igdbjvwkqzaskjhkwkpb_output_flat_value_label_4\": 0.124, \"igdbjvwkqzaskjhkwkpb_output_flat_value_label_5\": 0.078}, \"igdbjvwkqzaskjhkwkpb_input_node_27_content\": {\"igdbjvwkqzaskjhkwkpb_output_flat_value_label_0\": -0.166, \"igdbjvwkqzaskjhkwkpb_output_flat_value_label_1\": -0.021, \"igdbjvwkqzaskjhkwkpb_output_flat_value_label_2\": 0.131, \"igdbjvwkqzaskjhkwkpb_output_flat_value_label_3\": -0.019, \"igdbjvwkqzaskjhkwkpb_output_flat_value_label_4\": 0.124, \"igdbjvwkqzaskjhkwkpb_output_flat_value_label_5\": 0.078}, \"igdbjvwkqzaskjhkwkpb_input_node_28_content\": {\"igdbjvwkqzaskjhkwkpb_output_flat_value_label_0\": -0.166, \"igdbjvwkqzaskjhkwkpb_output_flat_value_label_1\": -0.021, \"igdbjvwkqzaskjhkwkpb_output_flat_value_label_2\": 0.131, \"igdbjvwkqzaskjhkwkpb_output_flat_value_label_3\": -0.019, \"igdbjvwkqzaskjhkwkpb_output_flat_value_label_4\": 0.124, \"igdbjvwkqzaskjhkwkpb_output_flat_value_label_5\": 0.078}, \"igdbjvwkqzaskjhkwkpb_input_node_29_content\": {\"igdbjvwkqzaskjhkwkpb_output_flat_value_label_0\": -0.166, \"igdbjvwkqzaskjhkwkpb_output_flat_value_label_1\": -0.021, \"igdbjvwkqzaskjhkwkpb_output_flat_value_label_2\": 0.131, \"igdbjvwkqzaskjhkwkpb_output_flat_value_label_3\": -0.019, \"igdbjvwkqzaskjhkwkpb_output_flat_value_label_4\": 0.124, \"igdbjvwkqzaskjhkwkpb_output_flat_value_label_5\": 0.078}, \"igdbjvwkqzaskjhkwkpb_input_node_30_content\": {\"igdbjvwkqzaskjhkwkpb_output_flat_value_label_0\": 0.001, \"igdbjvwkqzaskjhkwkpb_output_flat_value_label_1\": -0.014, \"igdbjvwkqzaskjhkwkpb_output_flat_value_label_2\": 0.075, \"igdbjvwkqzaskjhkwkpb_output_flat_value_label_3\": -0.079, \"igdbjvwkqzaskjhkwkpb_output_flat_value_label_4\": -0.028, \"igdbjvwkqzaskjhkwkpb_output_flat_value_label_5\": 0.138}, \"igdbjvwkqzaskjhkwkpb_input_node_31_content\": {\"igdbjvwkqzaskjhkwkpb_output_flat_value_label_0\": 0.001, \"igdbjvwkqzaskjhkwkpb_output_flat_value_label_1\": -0.014, \"igdbjvwkqzaskjhkwkpb_output_flat_value_label_2\": 0.075, \"igdbjvwkqzaskjhkwkpb_output_flat_value_label_3\": -0.079, \"igdbjvwkqzaskjhkwkpb_output_flat_value_label_4\": -0.028, \"igdbjvwkqzaskjhkwkpb_output_flat_value_label_5\": 0.138}, \"igdbjvwkqzaskjhkwkpb_input_node_32_content\": {\"igdbjvwkqzaskjhkwkpb_output_flat_value_label_0\": 0.001, \"igdbjvwkqzaskjhkwkpb_output_flat_value_label_1\": -0.014, \"igdbjvwkqzaskjhkwkpb_output_flat_value_label_2\": 0.075, \"igdbjvwkqzaskjhkwkpb_output_flat_value_label_3\": -0.079, \"igdbjvwkqzaskjhkwkpb_output_flat_value_label_4\": -0.028, \"igdbjvwkqzaskjhkwkpb_output_flat_value_label_5\": 0.138}, \"igdbjvwkqzaskjhkwkpb_input_node_33_content\": {\"igdbjvwkqzaskjhkwkpb_output_flat_value_label_0\": 0.001, \"igdbjvwkqzaskjhkwkpb_output_flat_value_label_1\": -0.014, \"igdbjvwkqzaskjhkwkpb_output_flat_value_label_2\": 0.075, \"igdbjvwkqzaskjhkwkpb_output_flat_value_label_3\": -0.079, \"igdbjvwkqzaskjhkwkpb_output_flat_value_label_4\": -0.028, \"igdbjvwkqzaskjhkwkpb_output_flat_value_label_5\": 0.138}, \"igdbjvwkqzaskjhkwkpb_input_node_34_content\": {\"igdbjvwkqzaskjhkwkpb_output_flat_value_label_0\": 0.001, \"igdbjvwkqzaskjhkwkpb_output_flat_value_label_1\": -0.014, \"igdbjvwkqzaskjhkwkpb_output_flat_value_label_2\": 0.075, \"igdbjvwkqzaskjhkwkpb_output_flat_value_label_3\": -0.079, \"igdbjvwkqzaskjhkwkpb_output_flat_value_label_4\": -0.028, \"igdbjvwkqzaskjhkwkpb_output_flat_value_label_5\": 0.138}, \"igdbjvwkqzaskjhkwkpb_input_node_35_content\": {\"igdbjvwkqzaskjhkwkpb_output_flat_value_label_0\": 0.001, \"igdbjvwkqzaskjhkwkpb_output_flat_value_label_1\": -0.014, \"igdbjvwkqzaskjhkwkpb_output_flat_value_label_2\": 0.075, \"igdbjvwkqzaskjhkwkpb_output_flat_value_label_3\": -0.079, \"igdbjvwkqzaskjhkwkpb_output_flat_value_label_4\": -0.028, \"igdbjvwkqzaskjhkwkpb_output_flat_value_label_5\": 0.138}, \"igdbjvwkqzaskjhkwkpb_input_node_36_content\": {\"igdbjvwkqzaskjhkwkpb_output_flat_value_label_0\": 0.001, \"igdbjvwkqzaskjhkwkpb_output_flat_value_label_1\": -0.014, \"igdbjvwkqzaskjhkwkpb_output_flat_value_label_2\": 0.075, \"igdbjvwkqzaskjhkwkpb_output_flat_value_label_3\": -0.079, \"igdbjvwkqzaskjhkwkpb_output_flat_value_label_4\": -0.028, \"igdbjvwkqzaskjhkwkpb_output_flat_value_label_5\": 0.138}, \"igdbjvwkqzaskjhkwkpb_input_node_37_content\": {\"igdbjvwkqzaskjhkwkpb_output_flat_value_label_0\": 0.001, \"igdbjvwkqzaskjhkwkpb_output_flat_value_label_1\": -0.014, \"igdbjvwkqzaskjhkwkpb_output_flat_value_label_2\": 0.075, \"igdbjvwkqzaskjhkwkpb_output_flat_value_label_3\": -0.079, \"igdbjvwkqzaskjhkwkpb_output_flat_value_label_4\": -0.028, \"igdbjvwkqzaskjhkwkpb_output_flat_value_label_5\": 0.138}, \"igdbjvwkqzaskjhkwkpb_input_node_38_content\": {\"igdbjvwkqzaskjhkwkpb_output_flat_value_label_0\": 0.001, \"igdbjvwkqzaskjhkwkpb_output_flat_value_label_1\": -0.014, \"igdbjvwkqzaskjhkwkpb_output_flat_value_label_2\": 0.075, \"igdbjvwkqzaskjhkwkpb_output_flat_value_label_3\": -0.079, \"igdbjvwkqzaskjhkwkpb_output_flat_value_label_4\": -0.028, \"igdbjvwkqzaskjhkwkpb_output_flat_value_label_5\": 0.138}, \"igdbjvwkqzaskjhkwkpb_input_node_39_content\": {\"igdbjvwkqzaskjhkwkpb_output_flat_value_label_0\": 0.001, \"igdbjvwkqzaskjhkwkpb_output_flat_value_label_1\": -0.014, \"igdbjvwkqzaskjhkwkpb_output_flat_value_label_2\": 0.075, \"igdbjvwkqzaskjhkwkpb_output_flat_value_label_3\": -0.079, \"igdbjvwkqzaskjhkwkpb_output_flat_value_label_4\": -0.028, \"igdbjvwkqzaskjhkwkpb_output_flat_value_label_5\": 0.138}, \"igdbjvwkqzaskjhkwkpb_input_node_40_content\": {\"igdbjvwkqzaskjhkwkpb_output_flat_value_label_0\": 0.0, \"igdbjvwkqzaskjhkwkpb_output_flat_value_label_1\": -0.0, \"igdbjvwkqzaskjhkwkpb_output_flat_value_label_2\": 0.0, \"igdbjvwkqzaskjhkwkpb_output_flat_value_label_3\": 0.0, \"igdbjvwkqzaskjhkwkpb_output_flat_value_label_4\": 0.0, \"igdbjvwkqzaskjhkwkpb_output_flat_value_label_5\": 0.0}, \"igdbjvwkqzaskjhkwkpb_output_flat_token_0\": {\"igdbjvwkqzaskjhkwkpb_input_node_0_label\": \"0.0\", \"igdbjvwkqzaskjhkwkpb_input_node_72_label\": \"-1.245/8\", \"igdbjvwkqzaskjhkwkpb_input_node_73_label\": \"-1.616/9\", \"igdbjvwkqzaskjhkwkpb_input_node_75_label\": \"-2.44/12\", \"igdbjvwkqzaskjhkwkpb_input_node_74_label\": \"0.013/10\", \"igdbjvwkqzaskjhkwkpb_input_node_40_label\": \"0.0\"}, \"igdbjvwkqzaskjhkwkpb_output_flat_token_1\": {\"igdbjvwkqzaskjhkwkpb_input_node_0_label\": \"-0.0\", \"igdbjvwkqzaskjhkwkpb_input_node_76_label\": \"0.564/17\", \"igdbjvwkqzaskjhkwkpb_input_node_75_label\": \"-0.291/12\", \"igdbjvwkqzaskjhkwkpb_input_node_74_label\": \"-0.144/10\", \"igdbjvwkqzaskjhkwkpb_input_node_40_label\": \"-0.0\"}, \"igdbjvwkqzaskjhkwkpb_output_flat_token_2\": {\"igdbjvwkqzaskjhkwkpb_input_node_0_label\": \"0.0\", \"igdbjvwkqzaskjhkwkpb_input_node_72_label\": \"-0.637/8\", \"igdbjvwkqzaskjhkwkpb_input_node_73_label\": \"-0.591/9\", \"igdbjvwkqzaskjhkwkpb_input_node_70_label\": \"2.191/5\", \"igdbjvwkqzaskjhkwkpb_input_node_71_label\": \"0.779/7\", \"igdbjvwkqzaskjhkwkpb_input_node_74_label\": \"0.747/10\", \"igdbjvwkqzaskjhkwkpb_input_node_40_label\": \"0.0\"}, \"igdbjvwkqzaskjhkwkpb_output_flat_token_3\": {\"igdbjvwkqzaskjhkwkpb_input_node_0_label\": \"0.0\", \"igdbjvwkqzaskjhkwkpb_input_node_72_label\": \"-0.385/8\", \"igdbjvwkqzaskjhkwkpb_input_node_73_label\": \"-0.571/9\", \"igdbjvwkqzaskjhkwkpb_input_node_70_label\": \"1.206/5\", \"igdbjvwkqzaskjhkwkpb_input_node_71_label\": \"-0.134/7\", \"igdbjvwkqzaskjhkwkpb_input_node_74_label\": \"-0.788/10\", \"igdbjvwkqzaskjhkwkpb_input_node_40_label\": \"0.0\"}, \"igdbjvwkqzaskjhkwkpb_output_flat_token_4\": {\"igdbjvwkqzaskjhkwkpb_input_node_0_label\": \"0.0\", \"igdbjvwkqzaskjhkwkpb_input_node_72_label\": \"-1.688/8\", \"igdbjvwkqzaskjhkwkpb_input_node_73_label\": \"-1.499/9\", \"igdbjvwkqzaskjhkwkpb_input_node_70_label\": \"1.168/5\", \"igdbjvwkqzaskjhkwkpb_input_node_71_label\": \"0.776/7\", \"igdbjvwkqzaskjhkwkpb_input_node_74_label\": \"-0.284/10\", \"igdbjvwkqzaskjhkwkpb_input_node_40_label\": \"0.0\"}, \"igdbjvwkqzaskjhkwkpb_output_flat_token_5\": {\"igdbjvwkqzaskjhkwkpb_input_node_0_label\": \"0.0\", \"igdbjvwkqzaskjhkwkpb_input_node_72_label\": \"-0.611/8\", \"igdbjvwkqzaskjhkwkpb_input_node_73_label\": \"-0.37/9\", \"igdbjvwkqzaskjhkwkpb_input_node_70_label\": \"-0.107/5\", \"igdbjvwkqzaskjhkwkpb_input_node_71_label\": \"0.498/7\", \"igdbjvwkqzaskjhkwkpb_input_node_74_label\": \"1.382/10\", \"igdbjvwkqzaskjhkwkpb_input_node_40_label\": \"0.0\"}}\n",
              " token_id_to_node_id_mapping_igdbjvwkqzaskjhkwkpb = {\"igdbjvwkqzaskjhkwkpb_output_flat_token_0\": {\"igdbjvwkqzaskjhkwkpb_input_node_0_content\": \"igdbjvwkqzaskjhkwkpb_input_node_0_content\", \"igdbjvwkqzaskjhkwkpb_input_node_1_content\": \"igdbjvwkqzaskjhkwkpb_input_node_72_content\", \"igdbjvwkqzaskjhkwkpb_input_node_2_content\": \"igdbjvwkqzaskjhkwkpb_input_node_72_content\", \"igdbjvwkqzaskjhkwkpb_input_node_3_content\": \"igdbjvwkqzaskjhkwkpb_input_node_72_content\", \"igdbjvwkqzaskjhkwkpb_input_node_4_content\": \"igdbjvwkqzaskjhkwkpb_input_node_72_content\", \"igdbjvwkqzaskjhkwkpb_input_node_5_content\": \"igdbjvwkqzaskjhkwkpb_input_node_72_content\", \"igdbjvwkqzaskjhkwkpb_input_node_6_content\": \"igdbjvwkqzaskjhkwkpb_input_node_72_content\", \"igdbjvwkqzaskjhkwkpb_input_node_7_content\": \"igdbjvwkqzaskjhkwkpb_input_node_72_content\", \"igdbjvwkqzaskjhkwkpb_input_node_8_content\": \"igdbjvwkqzaskjhkwkpb_input_node_72_content\", \"igdbjvwkqzaskjhkwkpb_input_node_9_content\": \"igdbjvwkqzaskjhkwkpb_input_node_73_content\", \"igdbjvwkqzaskjhkwkpb_input_node_10_content\": \"igdbjvwkqzaskjhkwkpb_input_node_73_content\", \"igdbjvwkqzaskjhkwkpb_input_node_11_content\": \"igdbjvwkqzaskjhkwkpb_input_node_73_content\", \"igdbjvwkqzaskjhkwkpb_input_node_12_content\": \"igdbjvwkqzaskjhkwkpb_input_node_73_content\", \"igdbjvwkqzaskjhkwkpb_input_node_13_content\": \"igdbjvwkqzaskjhkwkpb_input_node_73_content\", \"igdbjvwkqzaskjhkwkpb_input_node_14_content\": \"igdbjvwkqzaskjhkwkpb_input_node_73_content\", \"igdbjvwkqzaskjhkwkpb_input_node_15_content\": \"igdbjvwkqzaskjhkwkpb_input_node_73_content\", \"igdbjvwkqzaskjhkwkpb_input_node_16_content\": \"igdbjvwkqzaskjhkwkpb_input_node_73_content\", \"igdbjvwkqzaskjhkwkpb_input_node_17_content\": \"igdbjvwkqzaskjhkwkpb_input_node_73_content\", \"igdbjvwkqzaskjhkwkpb_input_node_18_content\": \"igdbjvwkqzaskjhkwkpb_input_node_75_content\", \"igdbjvwkqzaskjhkwkpb_input_node_19_content\": \"igdbjvwkqzaskjhkwkpb_input_node_75_content\", \"igdbjvwkqzaskjhkwkpb_input_node_20_content\": \"igdbjvwkqzaskjhkwkpb_input_node_75_content\", \"igdbjvwkqzaskjhkwkpb_input_node_21_content\": \"igdbjvwkqzaskjhkwkpb_input_node_75_content\", \"igdbjvwkqzaskjhkwkpb_input_node_22_content\": \"igdbjvwkqzaskjhkwkpb_input_node_75_content\", \"igdbjvwkqzaskjhkwkpb_input_node_23_content\": \"igdbjvwkqzaskjhkwkpb_input_node_75_content\", \"igdbjvwkqzaskjhkwkpb_input_node_24_content\": \"igdbjvwkqzaskjhkwkpb_input_node_75_content\", \"igdbjvwkqzaskjhkwkpb_input_node_25_content\": \"igdbjvwkqzaskjhkwkpb_input_node_75_content\", \"igdbjvwkqzaskjhkwkpb_input_node_26_content\": \"igdbjvwkqzaskjhkwkpb_input_node_75_content\", \"igdbjvwkqzaskjhkwkpb_input_node_27_content\": \"igdbjvwkqzaskjhkwkpb_input_node_75_content\", \"igdbjvwkqzaskjhkwkpb_input_node_28_content\": \"igdbjvwkqzaskjhkwkpb_input_node_75_content\", \"igdbjvwkqzaskjhkwkpb_input_node_29_content\": \"igdbjvwkqzaskjhkwkpb_input_node_75_content\", \"igdbjvwkqzaskjhkwkpb_input_node_30_content\": \"igdbjvwkqzaskjhkwkpb_input_node_74_content\", \"igdbjvwkqzaskjhkwkpb_input_node_31_content\": \"igdbjvwkqzaskjhkwkpb_input_node_74_content\", \"igdbjvwkqzaskjhkwkpb_input_node_32_content\": \"igdbjvwkqzaskjhkwkpb_input_node_74_content\", \"igdbjvwkqzaskjhkwkpb_input_node_33_content\": \"igdbjvwkqzaskjhkwkpb_input_node_74_content\", \"igdbjvwkqzaskjhkwkpb_input_node_34_content\": \"igdbjvwkqzaskjhkwkpb_input_node_74_content\", \"igdbjvwkqzaskjhkwkpb_input_node_35_content\": \"igdbjvwkqzaskjhkwkpb_input_node_74_content\", \"igdbjvwkqzaskjhkwkpb_input_node_36_content\": \"igdbjvwkqzaskjhkwkpb_input_node_74_content\", \"igdbjvwkqzaskjhkwkpb_input_node_37_content\": \"igdbjvwkqzaskjhkwkpb_input_node_74_content\", \"igdbjvwkqzaskjhkwkpb_input_node_38_content\": \"igdbjvwkqzaskjhkwkpb_input_node_74_content\", \"igdbjvwkqzaskjhkwkpb_input_node_39_content\": \"igdbjvwkqzaskjhkwkpb_input_node_74_content\", \"igdbjvwkqzaskjhkwkpb_input_node_40_content\": \"igdbjvwkqzaskjhkwkpb_input_node_40_content\"}, \"igdbjvwkqzaskjhkwkpb_output_flat_token_1\": {\"igdbjvwkqzaskjhkwkpb_input_node_0_content\": \"igdbjvwkqzaskjhkwkpb_input_node_0_content\", \"igdbjvwkqzaskjhkwkpb_input_node_1_content\": \"igdbjvwkqzaskjhkwkpb_input_node_76_content\", \"igdbjvwkqzaskjhkwkpb_input_node_2_content\": \"igdbjvwkqzaskjhkwkpb_input_node_76_content\", \"igdbjvwkqzaskjhkwkpb_input_node_3_content\": \"igdbjvwkqzaskjhkwkpb_input_node_76_content\", \"igdbjvwkqzaskjhkwkpb_input_node_4_content\": \"igdbjvwkqzaskjhkwkpb_input_node_76_content\", \"igdbjvwkqzaskjhkwkpb_input_node_5_content\": \"igdbjvwkqzaskjhkwkpb_input_node_76_content\", \"igdbjvwkqzaskjhkwkpb_input_node_6_content\": \"igdbjvwkqzaskjhkwkpb_input_node_76_content\", \"igdbjvwkqzaskjhkwkpb_input_node_7_content\": \"igdbjvwkqzaskjhkwkpb_input_node_76_content\", \"igdbjvwkqzaskjhkwkpb_input_node_8_content\": \"igdbjvwkqzaskjhkwkpb_input_node_76_content\", \"igdbjvwkqzaskjhkwkpb_input_node_9_content\": \"igdbjvwkqzaskjhkwkpb_input_node_76_content\", \"igdbjvwkqzaskjhkwkpb_input_node_10_content\": \"igdbjvwkqzaskjhkwkpb_input_node_76_content\", \"igdbjvwkqzaskjhkwkpb_input_node_11_content\": \"igdbjvwkqzaskjhkwkpb_input_node_76_content\", \"igdbjvwkqzaskjhkwkpb_input_node_12_content\": \"igdbjvwkqzaskjhkwkpb_input_node_76_content\", \"igdbjvwkqzaskjhkwkpb_input_node_13_content\": \"igdbjvwkqzaskjhkwkpb_input_node_76_content\", \"igdbjvwkqzaskjhkwkpb_input_node_14_content\": \"igdbjvwkqzaskjhkwkpb_input_node_76_content\", \"igdbjvwkqzaskjhkwkpb_input_node_15_content\": \"igdbjvwkqzaskjhkwkpb_input_node_76_content\", \"igdbjvwkqzaskjhkwkpb_input_node_16_content\": \"igdbjvwkqzaskjhkwkpb_input_node_76_content\", \"igdbjvwkqzaskjhkwkpb_input_node_17_content\": \"igdbjvwkqzaskjhkwkpb_input_node_76_content\", \"igdbjvwkqzaskjhkwkpb_input_node_18_content\": \"igdbjvwkqzaskjhkwkpb_input_node_75_content\", \"igdbjvwkqzaskjhkwkpb_input_node_19_content\": \"igdbjvwkqzaskjhkwkpb_input_node_75_content\", \"igdbjvwkqzaskjhkwkpb_input_node_20_content\": \"igdbjvwkqzaskjhkwkpb_input_node_75_content\", \"igdbjvwkqzaskjhkwkpb_input_node_21_content\": \"igdbjvwkqzaskjhkwkpb_input_node_75_content\", \"igdbjvwkqzaskjhkwkpb_input_node_22_content\": \"igdbjvwkqzaskjhkwkpb_input_node_75_content\", \"igdbjvwkqzaskjhkwkpb_input_node_23_content\": \"igdbjvwkqzaskjhkwkpb_input_node_75_content\", \"igdbjvwkqzaskjhkwkpb_input_node_24_content\": \"igdbjvwkqzaskjhkwkpb_input_node_75_content\", \"igdbjvwkqzaskjhkwkpb_input_node_25_content\": \"igdbjvwkqzaskjhkwkpb_input_node_75_content\", \"igdbjvwkqzaskjhkwkpb_input_node_26_content\": \"igdbjvwkqzaskjhkwkpb_input_node_75_content\", \"igdbjvwkqzaskjhkwkpb_input_node_27_content\": \"igdbjvwkqzaskjhkwkpb_input_node_75_content\", \"igdbjvwkqzaskjhkwkpb_input_node_28_content\": \"igdbjvwkqzaskjhkwkpb_input_node_75_content\", \"igdbjvwkqzaskjhkwkpb_input_node_29_content\": \"igdbjvwkqzaskjhkwkpb_input_node_75_content\", \"igdbjvwkqzaskjhkwkpb_input_node_30_content\": \"igdbjvwkqzaskjhkwkpb_input_node_74_content\", \"igdbjvwkqzaskjhkwkpb_input_node_31_content\": \"igdbjvwkqzaskjhkwkpb_input_node_74_content\", \"igdbjvwkqzaskjhkwkpb_input_node_32_content\": \"igdbjvwkqzaskjhkwkpb_input_node_74_content\", \"igdbjvwkqzaskjhkwkpb_input_node_33_content\": \"igdbjvwkqzaskjhkwkpb_input_node_74_content\", \"igdbjvwkqzaskjhkwkpb_input_node_34_content\": \"igdbjvwkqzaskjhkwkpb_input_node_74_content\", \"igdbjvwkqzaskjhkwkpb_input_node_35_content\": \"igdbjvwkqzaskjhkwkpb_input_node_74_content\", \"igdbjvwkqzaskjhkwkpb_input_node_36_content\": \"igdbjvwkqzaskjhkwkpb_input_node_74_content\", \"igdbjvwkqzaskjhkwkpb_input_node_37_content\": \"igdbjvwkqzaskjhkwkpb_input_node_74_content\", \"igdbjvwkqzaskjhkwkpb_input_node_38_content\": \"igdbjvwkqzaskjhkwkpb_input_node_74_content\", \"igdbjvwkqzaskjhkwkpb_input_node_39_content\": \"igdbjvwkqzaskjhkwkpb_input_node_74_content\", \"igdbjvwkqzaskjhkwkpb_input_node_40_content\": \"igdbjvwkqzaskjhkwkpb_input_node_40_content\"}, \"igdbjvwkqzaskjhkwkpb_output_flat_token_2\": {\"igdbjvwkqzaskjhkwkpb_input_node_0_content\": \"igdbjvwkqzaskjhkwkpb_input_node_0_content\", \"igdbjvwkqzaskjhkwkpb_input_node_1_content\": \"igdbjvwkqzaskjhkwkpb_input_node_72_content\", \"igdbjvwkqzaskjhkwkpb_input_node_2_content\": \"igdbjvwkqzaskjhkwkpb_input_node_72_content\", \"igdbjvwkqzaskjhkwkpb_input_node_3_content\": \"igdbjvwkqzaskjhkwkpb_input_node_72_content\", \"igdbjvwkqzaskjhkwkpb_input_node_4_content\": \"igdbjvwkqzaskjhkwkpb_input_node_72_content\", \"igdbjvwkqzaskjhkwkpb_input_node_5_content\": \"igdbjvwkqzaskjhkwkpb_input_node_72_content\", \"igdbjvwkqzaskjhkwkpb_input_node_6_content\": \"igdbjvwkqzaskjhkwkpb_input_node_72_content\", \"igdbjvwkqzaskjhkwkpb_input_node_7_content\": \"igdbjvwkqzaskjhkwkpb_input_node_72_content\", \"igdbjvwkqzaskjhkwkpb_input_node_8_content\": \"igdbjvwkqzaskjhkwkpb_input_node_72_content\", \"igdbjvwkqzaskjhkwkpb_input_node_9_content\": \"igdbjvwkqzaskjhkwkpb_input_node_73_content\", \"igdbjvwkqzaskjhkwkpb_input_node_10_content\": \"igdbjvwkqzaskjhkwkpb_input_node_73_content\", \"igdbjvwkqzaskjhkwkpb_input_node_11_content\": \"igdbjvwkqzaskjhkwkpb_input_node_73_content\", \"igdbjvwkqzaskjhkwkpb_input_node_12_content\": \"igdbjvwkqzaskjhkwkpb_input_node_73_content\", \"igdbjvwkqzaskjhkwkpb_input_node_13_content\": \"igdbjvwkqzaskjhkwkpb_input_node_73_content\", \"igdbjvwkqzaskjhkwkpb_input_node_14_content\": \"igdbjvwkqzaskjhkwkpb_input_node_73_content\", \"igdbjvwkqzaskjhkwkpb_input_node_15_content\": \"igdbjvwkqzaskjhkwkpb_input_node_73_content\", \"igdbjvwkqzaskjhkwkpb_input_node_16_content\": \"igdbjvwkqzaskjhkwkpb_input_node_73_content\", \"igdbjvwkqzaskjhkwkpb_input_node_17_content\": \"igdbjvwkqzaskjhkwkpb_input_node_73_content\", \"igdbjvwkqzaskjhkwkpb_input_node_18_content\": \"igdbjvwkqzaskjhkwkpb_input_node_70_content\", \"igdbjvwkqzaskjhkwkpb_input_node_19_content\": \"igdbjvwkqzaskjhkwkpb_input_node_70_content\", \"igdbjvwkqzaskjhkwkpb_input_node_20_content\": \"igdbjvwkqzaskjhkwkpb_input_node_70_content\", \"igdbjvwkqzaskjhkwkpb_input_node_21_content\": \"igdbjvwkqzaskjhkwkpb_input_node_70_content\", \"igdbjvwkqzaskjhkwkpb_input_node_22_content\": \"igdbjvwkqzaskjhkwkpb_input_node_70_content\", \"igdbjvwkqzaskjhkwkpb_input_node_23_content\": \"igdbjvwkqzaskjhkwkpb_input_node_71_content\", \"igdbjvwkqzaskjhkwkpb_input_node_24_content\": \"igdbjvwkqzaskjhkwkpb_input_node_71_content\", \"igdbjvwkqzaskjhkwkpb_input_node_25_content\": \"igdbjvwkqzaskjhkwkpb_input_node_71_content\", \"igdbjvwkqzaskjhkwkpb_input_node_26_content\": \"igdbjvwkqzaskjhkwkpb_input_node_71_content\", \"igdbjvwkqzaskjhkwkpb_input_node_27_content\": \"igdbjvwkqzaskjhkwkpb_input_node_71_content\", \"igdbjvwkqzaskjhkwkpb_input_node_28_content\": \"igdbjvwkqzaskjhkwkpb_input_node_71_content\", \"igdbjvwkqzaskjhkwkpb_input_node_29_content\": \"igdbjvwkqzaskjhkwkpb_input_node_71_content\", \"igdbjvwkqzaskjhkwkpb_input_node_30_content\": \"igdbjvwkqzaskjhkwkpb_input_node_74_content\", \"igdbjvwkqzaskjhkwkpb_input_node_31_content\": \"igdbjvwkqzaskjhkwkpb_input_node_74_content\", \"igdbjvwkqzaskjhkwkpb_input_node_32_content\": \"igdbjvwkqzaskjhkwkpb_input_node_74_content\", \"igdbjvwkqzaskjhkwkpb_input_node_33_content\": \"igdbjvwkqzaskjhkwkpb_input_node_74_content\", \"igdbjvwkqzaskjhkwkpb_input_node_34_content\": \"igdbjvwkqzaskjhkwkpb_input_node_74_content\", \"igdbjvwkqzaskjhkwkpb_input_node_35_content\": \"igdbjvwkqzaskjhkwkpb_input_node_74_content\", \"igdbjvwkqzaskjhkwkpb_input_node_36_content\": \"igdbjvwkqzaskjhkwkpb_input_node_74_content\", \"igdbjvwkqzaskjhkwkpb_input_node_37_content\": \"igdbjvwkqzaskjhkwkpb_input_node_74_content\", \"igdbjvwkqzaskjhkwkpb_input_node_38_content\": \"igdbjvwkqzaskjhkwkpb_input_node_74_content\", \"igdbjvwkqzaskjhkwkpb_input_node_39_content\": \"igdbjvwkqzaskjhkwkpb_input_node_74_content\", \"igdbjvwkqzaskjhkwkpb_input_node_40_content\": \"igdbjvwkqzaskjhkwkpb_input_node_40_content\"}, \"igdbjvwkqzaskjhkwkpb_output_flat_token_3\": {\"igdbjvwkqzaskjhkwkpb_input_node_0_content\": \"igdbjvwkqzaskjhkwkpb_input_node_0_content\", \"igdbjvwkqzaskjhkwkpb_input_node_1_content\": \"igdbjvwkqzaskjhkwkpb_input_node_72_content\", \"igdbjvwkqzaskjhkwkpb_input_node_2_content\": \"igdbjvwkqzaskjhkwkpb_input_node_72_content\", \"igdbjvwkqzaskjhkwkpb_input_node_3_content\": \"igdbjvwkqzaskjhkwkpb_input_node_72_content\", \"igdbjvwkqzaskjhkwkpb_input_node_4_content\": \"igdbjvwkqzaskjhkwkpb_input_node_72_content\", \"igdbjvwkqzaskjhkwkpb_input_node_5_content\": \"igdbjvwkqzaskjhkwkpb_input_node_72_content\", \"igdbjvwkqzaskjhkwkpb_input_node_6_content\": \"igdbjvwkqzaskjhkwkpb_input_node_72_content\", \"igdbjvwkqzaskjhkwkpb_input_node_7_content\": \"igdbjvwkqzaskjhkwkpb_input_node_72_content\", \"igdbjvwkqzaskjhkwkpb_input_node_8_content\": \"igdbjvwkqzaskjhkwkpb_input_node_72_content\", \"igdbjvwkqzaskjhkwkpb_input_node_9_content\": \"igdbjvwkqzaskjhkwkpb_input_node_73_content\", \"igdbjvwkqzaskjhkwkpb_input_node_10_content\": \"igdbjvwkqzaskjhkwkpb_input_node_73_content\", \"igdbjvwkqzaskjhkwkpb_input_node_11_content\": \"igdbjvwkqzaskjhkwkpb_input_node_73_content\", \"igdbjvwkqzaskjhkwkpb_input_node_12_content\": \"igdbjvwkqzaskjhkwkpb_input_node_73_content\", \"igdbjvwkqzaskjhkwkpb_input_node_13_content\": \"igdbjvwkqzaskjhkwkpb_input_node_73_content\", \"igdbjvwkqzaskjhkwkpb_input_node_14_content\": \"igdbjvwkqzaskjhkwkpb_input_node_73_content\", \"igdbjvwkqzaskjhkwkpb_input_node_15_content\": \"igdbjvwkqzaskjhkwkpb_input_node_73_content\", \"igdbjvwkqzaskjhkwkpb_input_node_16_content\": \"igdbjvwkqzaskjhkwkpb_input_node_73_content\", \"igdbjvwkqzaskjhkwkpb_input_node_17_content\": \"igdbjvwkqzaskjhkwkpb_input_node_73_content\", \"igdbjvwkqzaskjhkwkpb_input_node_18_content\": \"igdbjvwkqzaskjhkwkpb_input_node_70_content\", \"igdbjvwkqzaskjhkwkpb_input_node_19_content\": \"igdbjvwkqzaskjhkwkpb_input_node_70_content\", \"igdbjvwkqzaskjhkwkpb_input_node_20_content\": \"igdbjvwkqzaskjhkwkpb_input_node_70_content\", \"igdbjvwkqzaskjhkwkpb_input_node_21_content\": \"igdbjvwkqzaskjhkwkpb_input_node_70_content\", \"igdbjvwkqzaskjhkwkpb_input_node_22_content\": \"igdbjvwkqzaskjhkwkpb_input_node_70_content\", \"igdbjvwkqzaskjhkwkpb_input_node_23_content\": \"igdbjvwkqzaskjhkwkpb_input_node_71_content\", \"igdbjvwkqzaskjhkwkpb_input_node_24_content\": \"igdbjvwkqzaskjhkwkpb_input_node_71_content\", \"igdbjvwkqzaskjhkwkpb_input_node_25_content\": \"igdbjvwkqzaskjhkwkpb_input_node_71_content\", \"igdbjvwkqzaskjhkwkpb_input_node_26_content\": \"igdbjvwkqzaskjhkwkpb_input_node_71_content\", \"igdbjvwkqzaskjhkwkpb_input_node_27_content\": \"igdbjvwkqzaskjhkwkpb_input_node_71_content\", \"igdbjvwkqzaskjhkwkpb_input_node_28_content\": \"igdbjvwkqzaskjhkwkpb_input_node_71_content\", \"igdbjvwkqzaskjhkwkpb_input_node_29_content\": \"igdbjvwkqzaskjhkwkpb_input_node_71_content\", \"igdbjvwkqzaskjhkwkpb_input_node_30_content\": \"igdbjvwkqzaskjhkwkpb_input_node_74_content\", \"igdbjvwkqzaskjhkwkpb_input_node_31_content\": \"igdbjvwkqzaskjhkwkpb_input_node_74_content\", \"igdbjvwkqzaskjhkwkpb_input_node_32_content\": \"igdbjvwkqzaskjhkwkpb_input_node_74_content\", \"igdbjvwkqzaskjhkwkpb_input_node_33_content\": \"igdbjvwkqzaskjhkwkpb_input_node_74_content\", \"igdbjvwkqzaskjhkwkpb_input_node_34_content\": \"igdbjvwkqzaskjhkwkpb_input_node_74_content\", \"igdbjvwkqzaskjhkwkpb_input_node_35_content\": \"igdbjvwkqzaskjhkwkpb_input_node_74_content\", \"igdbjvwkqzaskjhkwkpb_input_node_36_content\": \"igdbjvwkqzaskjhkwkpb_input_node_74_content\", \"igdbjvwkqzaskjhkwkpb_input_node_37_content\": \"igdbjvwkqzaskjhkwkpb_input_node_74_content\", \"igdbjvwkqzaskjhkwkpb_input_node_38_content\": \"igdbjvwkqzaskjhkwkpb_input_node_74_content\", \"igdbjvwkqzaskjhkwkpb_input_node_39_content\": \"igdbjvwkqzaskjhkwkpb_input_node_74_content\", \"igdbjvwkqzaskjhkwkpb_input_node_40_content\": \"igdbjvwkqzaskjhkwkpb_input_node_40_content\"}, \"igdbjvwkqzaskjhkwkpb_output_flat_token_4\": {\"igdbjvwkqzaskjhkwkpb_input_node_0_content\": \"igdbjvwkqzaskjhkwkpb_input_node_0_content\", \"igdbjvwkqzaskjhkwkpb_input_node_1_content\": \"igdbjvwkqzaskjhkwkpb_input_node_72_content\", \"igdbjvwkqzaskjhkwkpb_input_node_2_content\": \"igdbjvwkqzaskjhkwkpb_input_node_72_content\", \"igdbjvwkqzaskjhkwkpb_input_node_3_content\": \"igdbjvwkqzaskjhkwkpb_input_node_72_content\", \"igdbjvwkqzaskjhkwkpb_input_node_4_content\": \"igdbjvwkqzaskjhkwkpb_input_node_72_content\", \"igdbjvwkqzaskjhkwkpb_input_node_5_content\": \"igdbjvwkqzaskjhkwkpb_input_node_72_content\", \"igdbjvwkqzaskjhkwkpb_input_node_6_content\": \"igdbjvwkqzaskjhkwkpb_input_node_72_content\", \"igdbjvwkqzaskjhkwkpb_input_node_7_content\": \"igdbjvwkqzaskjhkwkpb_input_node_72_content\", \"igdbjvwkqzaskjhkwkpb_input_node_8_content\": \"igdbjvwkqzaskjhkwkpb_input_node_72_content\", \"igdbjvwkqzaskjhkwkpb_input_node_9_content\": \"igdbjvwkqzaskjhkwkpb_input_node_73_content\", \"igdbjvwkqzaskjhkwkpb_input_node_10_content\": \"igdbjvwkqzaskjhkwkpb_input_node_73_content\", \"igdbjvwkqzaskjhkwkpb_input_node_11_content\": \"igdbjvwkqzaskjhkwkpb_input_node_73_content\", \"igdbjvwkqzaskjhkwkpb_input_node_12_content\": \"igdbjvwkqzaskjhkwkpb_input_node_73_content\", \"igdbjvwkqzaskjhkwkpb_input_node_13_content\": \"igdbjvwkqzaskjhkwkpb_input_node_73_content\", \"igdbjvwkqzaskjhkwkpb_input_node_14_content\": \"igdbjvwkqzaskjhkwkpb_input_node_73_content\", \"igdbjvwkqzaskjhkwkpb_input_node_15_content\": \"igdbjvwkqzaskjhkwkpb_input_node_73_content\", \"igdbjvwkqzaskjhkwkpb_input_node_16_content\": \"igdbjvwkqzaskjhkwkpb_input_node_73_content\", \"igdbjvwkqzaskjhkwkpb_input_node_17_content\": \"igdbjvwkqzaskjhkwkpb_input_node_73_content\", \"igdbjvwkqzaskjhkwkpb_input_node_18_content\": \"igdbjvwkqzaskjhkwkpb_input_node_70_content\", \"igdbjvwkqzaskjhkwkpb_input_node_19_content\": \"igdbjvwkqzaskjhkwkpb_input_node_70_content\", \"igdbjvwkqzaskjhkwkpb_input_node_20_content\": \"igdbjvwkqzaskjhkwkpb_input_node_70_content\", \"igdbjvwkqzaskjhkwkpb_input_node_21_content\": \"igdbjvwkqzaskjhkwkpb_input_node_70_content\", \"igdbjvwkqzaskjhkwkpb_input_node_22_content\": \"igdbjvwkqzaskjhkwkpb_input_node_70_content\", \"igdbjvwkqzaskjhkwkpb_input_node_23_content\": \"igdbjvwkqzaskjhkwkpb_input_node_71_content\", \"igdbjvwkqzaskjhkwkpb_input_node_24_content\": \"igdbjvwkqzaskjhkwkpb_input_node_71_content\", \"igdbjvwkqzaskjhkwkpb_input_node_25_content\": \"igdbjvwkqzaskjhkwkpb_input_node_71_content\", \"igdbjvwkqzaskjhkwkpb_input_node_26_content\": \"igdbjvwkqzaskjhkwkpb_input_node_71_content\", \"igdbjvwkqzaskjhkwkpb_input_node_27_content\": \"igdbjvwkqzaskjhkwkpb_input_node_71_content\", \"igdbjvwkqzaskjhkwkpb_input_node_28_content\": \"igdbjvwkqzaskjhkwkpb_input_node_71_content\", \"igdbjvwkqzaskjhkwkpb_input_node_29_content\": \"igdbjvwkqzaskjhkwkpb_input_node_71_content\", \"igdbjvwkqzaskjhkwkpb_input_node_30_content\": \"igdbjvwkqzaskjhkwkpb_input_node_74_content\", \"igdbjvwkqzaskjhkwkpb_input_node_31_content\": \"igdbjvwkqzaskjhkwkpb_input_node_74_content\", \"igdbjvwkqzaskjhkwkpb_input_node_32_content\": \"igdbjvwkqzaskjhkwkpb_input_node_74_content\", \"igdbjvwkqzaskjhkwkpb_input_node_33_content\": \"igdbjvwkqzaskjhkwkpb_input_node_74_content\", \"igdbjvwkqzaskjhkwkpb_input_node_34_content\": \"igdbjvwkqzaskjhkwkpb_input_node_74_content\", \"igdbjvwkqzaskjhkwkpb_input_node_35_content\": \"igdbjvwkqzaskjhkwkpb_input_node_74_content\", \"igdbjvwkqzaskjhkwkpb_input_node_36_content\": \"igdbjvwkqzaskjhkwkpb_input_node_74_content\", \"igdbjvwkqzaskjhkwkpb_input_node_37_content\": \"igdbjvwkqzaskjhkwkpb_input_node_74_content\", \"igdbjvwkqzaskjhkwkpb_input_node_38_content\": \"igdbjvwkqzaskjhkwkpb_input_node_74_content\", \"igdbjvwkqzaskjhkwkpb_input_node_39_content\": \"igdbjvwkqzaskjhkwkpb_input_node_74_content\", \"igdbjvwkqzaskjhkwkpb_input_node_40_content\": \"igdbjvwkqzaskjhkwkpb_input_node_40_content\"}, \"igdbjvwkqzaskjhkwkpb_output_flat_token_5\": {\"igdbjvwkqzaskjhkwkpb_input_node_0_content\": \"igdbjvwkqzaskjhkwkpb_input_node_0_content\", \"igdbjvwkqzaskjhkwkpb_input_node_1_content\": \"igdbjvwkqzaskjhkwkpb_input_node_72_content\", \"igdbjvwkqzaskjhkwkpb_input_node_2_content\": \"igdbjvwkqzaskjhkwkpb_input_node_72_content\", \"igdbjvwkqzaskjhkwkpb_input_node_3_content\": \"igdbjvwkqzaskjhkwkpb_input_node_72_content\", \"igdbjvwkqzaskjhkwkpb_input_node_4_content\": \"igdbjvwkqzaskjhkwkpb_input_node_72_content\", \"igdbjvwkqzaskjhkwkpb_input_node_5_content\": \"igdbjvwkqzaskjhkwkpb_input_node_72_content\", \"igdbjvwkqzaskjhkwkpb_input_node_6_content\": \"igdbjvwkqzaskjhkwkpb_input_node_72_content\", \"igdbjvwkqzaskjhkwkpb_input_node_7_content\": \"igdbjvwkqzaskjhkwkpb_input_node_72_content\", \"igdbjvwkqzaskjhkwkpb_input_node_8_content\": \"igdbjvwkqzaskjhkwkpb_input_node_72_content\", \"igdbjvwkqzaskjhkwkpb_input_node_9_content\": \"igdbjvwkqzaskjhkwkpb_input_node_73_content\", \"igdbjvwkqzaskjhkwkpb_input_node_10_content\": \"igdbjvwkqzaskjhkwkpb_input_node_73_content\", \"igdbjvwkqzaskjhkwkpb_input_node_11_content\": \"igdbjvwkqzaskjhkwkpb_input_node_73_content\", \"igdbjvwkqzaskjhkwkpb_input_node_12_content\": \"igdbjvwkqzaskjhkwkpb_input_node_73_content\", \"igdbjvwkqzaskjhkwkpb_input_node_13_content\": \"igdbjvwkqzaskjhkwkpb_input_node_73_content\", \"igdbjvwkqzaskjhkwkpb_input_node_14_content\": \"igdbjvwkqzaskjhkwkpb_input_node_73_content\", \"igdbjvwkqzaskjhkwkpb_input_node_15_content\": \"igdbjvwkqzaskjhkwkpb_input_node_73_content\", \"igdbjvwkqzaskjhkwkpb_input_node_16_content\": \"igdbjvwkqzaskjhkwkpb_input_node_73_content\", \"igdbjvwkqzaskjhkwkpb_input_node_17_content\": \"igdbjvwkqzaskjhkwkpb_input_node_73_content\", \"igdbjvwkqzaskjhkwkpb_input_node_18_content\": \"igdbjvwkqzaskjhkwkpb_input_node_70_content\", \"igdbjvwkqzaskjhkwkpb_input_node_19_content\": \"igdbjvwkqzaskjhkwkpb_input_node_70_content\", \"igdbjvwkqzaskjhkwkpb_input_node_20_content\": \"igdbjvwkqzaskjhkwkpb_input_node_70_content\", \"igdbjvwkqzaskjhkwkpb_input_node_21_content\": \"igdbjvwkqzaskjhkwkpb_input_node_70_content\", \"igdbjvwkqzaskjhkwkpb_input_node_22_content\": \"igdbjvwkqzaskjhkwkpb_input_node_70_content\", \"igdbjvwkqzaskjhkwkpb_input_node_23_content\": \"igdbjvwkqzaskjhkwkpb_input_node_71_content\", \"igdbjvwkqzaskjhkwkpb_input_node_24_content\": \"igdbjvwkqzaskjhkwkpb_input_node_71_content\", \"igdbjvwkqzaskjhkwkpb_input_node_25_content\": \"igdbjvwkqzaskjhkwkpb_input_node_71_content\", \"igdbjvwkqzaskjhkwkpb_input_node_26_content\": \"igdbjvwkqzaskjhkwkpb_input_node_71_content\", \"igdbjvwkqzaskjhkwkpb_input_node_27_content\": \"igdbjvwkqzaskjhkwkpb_input_node_71_content\", \"igdbjvwkqzaskjhkwkpb_input_node_28_content\": \"igdbjvwkqzaskjhkwkpb_input_node_71_content\", \"igdbjvwkqzaskjhkwkpb_input_node_29_content\": \"igdbjvwkqzaskjhkwkpb_input_node_71_content\", \"igdbjvwkqzaskjhkwkpb_input_node_30_content\": \"igdbjvwkqzaskjhkwkpb_input_node_74_content\", \"igdbjvwkqzaskjhkwkpb_input_node_31_content\": \"igdbjvwkqzaskjhkwkpb_input_node_74_content\", \"igdbjvwkqzaskjhkwkpb_input_node_32_content\": \"igdbjvwkqzaskjhkwkpb_input_node_74_content\", \"igdbjvwkqzaskjhkwkpb_input_node_33_content\": \"igdbjvwkqzaskjhkwkpb_input_node_74_content\", \"igdbjvwkqzaskjhkwkpb_input_node_34_content\": \"igdbjvwkqzaskjhkwkpb_input_node_74_content\", \"igdbjvwkqzaskjhkwkpb_input_node_35_content\": \"igdbjvwkqzaskjhkwkpb_input_node_74_content\", \"igdbjvwkqzaskjhkwkpb_input_node_36_content\": \"igdbjvwkqzaskjhkwkpb_input_node_74_content\", \"igdbjvwkqzaskjhkwkpb_input_node_37_content\": \"igdbjvwkqzaskjhkwkpb_input_node_74_content\", \"igdbjvwkqzaskjhkwkpb_input_node_38_content\": \"igdbjvwkqzaskjhkwkpb_input_node_74_content\", \"igdbjvwkqzaskjhkwkpb_input_node_39_content\": \"igdbjvwkqzaskjhkwkpb_input_node_74_content\", \"igdbjvwkqzaskjhkwkpb_input_node_40_content\": \"igdbjvwkqzaskjhkwkpb_input_node_40_content\"}}\n",
              "</script> \n",
              " \n",
              "          </div>\n",
              "      </div>\n",
              "    </div>\n",
              "    </html>\n",
              "    "
            ],
            "text/plain": [
              "<IPython.core.display.HTML object>"
            ]
          },
          "metadata": {
            "tags": []
          }
        }
      ]
    },
    {
      "cell_type": "markdown",
      "metadata": {
        "id": "VL91mDHm3r_X"
      },
      "source": [
        "shap.plots.barを使って棒グラフで可視化"
      ]
    },
    {
      "cell_type": "code",
      "metadata": {
        "colab": {
          "base_uri": "https://localhost:8080/",
          "height": 418
        },
        "id": "qw0ruQU93p3z",
        "outputId": "ab22a35f-2ad6-432b-c356-bba975b36980"
      },
      "source": [
        "shap.plots.bar(shap_values[0,:,predict])"
      ],
      "execution_count": 19,
      "outputs": [
        {
          "output_type": "display_data",
          "data": {
            "image/png": "[encoded data removed]",
            "text/plain": [
              "<Figure size 576x468 with 1 Axes>"
            ]
          },
          "metadata": {
            "tags": []
          }
        }
      ]
    },
    {
      "cell_type": "markdown",
      "metadata": {
        "id": "kDPK5q_J8GOU"
      },
      "source": [
        "#### 複数文章に対して適用"
      ]
    },
    {
      "cell_type": "code",
      "metadata": {
        "id": "e-ihE-_g3te5"
      },
      "source": [
        "# 予測が正しかった文章のみを抽出したいので、テストデータの各文章に対して予測ラベルを付与しておく\n",
        "predict_list = []\n",
        "for i in range(0, len(test_df), 10):\n",
        "    _s = test_df['text'][i:i+10]\n",
        "    predict_list += f(_s).argmax(dim=1).tolist()\n",
        "test_df['pred'] = predict_list\n",
        "# ちなみにこの予測結果と上でF1-scoreを算出したときの結果は微妙に異なります。\n",
        "# 上で算出したときはpaddingはtorchtextが行った結果を使っており、ミニバッチ毎のmax_lengthでpaddingされていたかと思いますが、\n",
        "# こちらで算出した結果は、全文章に対してmax_length 128でpaddingして（全文章の長さがpadding込みで128になって）おり、\n",
        "# classifierに通すデータが異なっているのが原因と思われます。\n",
        "# とりあえず細かいことは気にしない精神で実装してます、ご容赦いただけたらと思います。。。"
      ],
      "execution_count": 20,
      "outputs": []
    },
    {
      "cell_type": "markdown",
      "metadata": {
        "id": "rWB2q3q48Lnm"
      },
      "source": [
        "loveと予測した文章全てのSHAP値を計算"
      ]
    },
    {
      "cell_type": "code",
      "metadata": {
        "colab": {
          "base_uri": "https://localhost:8080/"
        },
        "id": "PAN6-5NX8I2N",
        "outputId": "311e03b3-e159-460f-aa67-f9f4bf3d3108"
      },
      "source": [
        "target_label = \"love\"\n",
        "label_id = label2id[target_label]\n",
        "sentences = test_df.query('pred == @label_id')['text']\n",
        "\n",
        "# ぼちぼち時間かかります。\n",
        "shap_values = explainer(sentences)"
      ],
      "execution_count": 21,
      "outputs": [
        {
          "output_type": "stream",
          "text": [
            "Partition explainer: 162it [01:54,  1.41it/s]\n"
          ],
          "name": "stderr"
        }
      ]
    },
    {
      "cell_type": "markdown",
      "metadata": {
        "id": "93SW8aG88QCK"
      },
      "source": [
        "SHAP値の高い順番に可視化"
      ]
    },
    {
      "cell_type": "code",
      "metadata": {
        "colab": {
          "base_uri": "https://localhost:8080/",
          "height": 455
        },
        "id": "HvSeTfFu8NqL",
        "outputId": "549cdeca-e24d-4ba2-ef18-516dd5e83c17"
      },
      "source": [
        "shap.plots.bar(shap_values[:,:,'love'].mean(0), max_display=10)"
      ],
      "execution_count": 22,
      "outputs": [
        {
          "output_type": "stream",
          "text": [
            "Creating an ndarray from ragged nested sequences (which is a list-or-tuple of lists-or-tuples-or ndarrays with different lengths or shapes) is deprecated. If you meant to do this, you must specify 'dtype=object' when creating the ndarray\n"
          ],
          "name": "stderr"
        },
        {
          "output_type": "display_data",
          "data": {
            "image/png": "[encoded data removed]",
            "text/plain": [
              "<Figure size 576x468 with 1 Axes>"
            ]
          },
          "metadata": {
            "tags": []
          }
        }
      ]
    },
    {
      "cell_type": "markdown",
      "metadata": {
        "id": "8SIeP_Ox8VX2"
      },
      "source": [
        "angerでも試してみます。"
      ]
    },
    {
      "cell_type": "code",
      "metadata": {
        "colab": {
          "base_uri": "https://localhost:8080/",
          "height": 452
        },
        "id": "DH6hClUj8SdK",
        "outputId": "a5960402-e847-4e7d-cf00-b77a562ce5d9"
      },
      "source": [
        "target_label = \"anger\"\n",
        "label_id = label2id[target_label]\n",
        "sentences = test_df.query('pred == @label_id')['text']\n",
        "\n",
        "shap_values = explainer(sentences)\n",
        "\n",
        "# SHAP値の高い順番に可視化してみる。\n",
        "shap.plots.bar(shap_values[:,:,'anger'].mean(0), max_display=10)"
      ],
      "execution_count": 23,
      "outputs": [
        {
          "output_type": "stream",
          "text": [
            "Partition explainer: 254it [02:59,  1.41it/s]\n",
            "Creating an ndarray from ragged nested sequences (which is a list-or-tuple of lists-or-tuples-or ndarrays with different lengths or shapes) is deprecated. If you meant to do this, you must specify 'dtype=object' when creating the ndarray\n"
          ],
          "name": "stderr"
        },
        {
          "output_type": "display_data",
          "data": {
            "image/png": "[encoded data removed]",
            "text/plain": [
              "<Figure size 576x468 with 1 Axes>"
            ]
          },
          "metadata": {
            "tags": []
          }
        }
      ]
    },
    {
      "cell_type": "code",
      "metadata": {
        "id": "FeE5GQGS8XER"
      },
      "source": [
        ""
      ],
      "execution_count": null,
      "outputs": []
    }
  ]
}